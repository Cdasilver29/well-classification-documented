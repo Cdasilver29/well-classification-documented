{
 "cells": [
  {
   "cell_type": "markdown",
   "metadata": {},
   "source": [
    "### Final Project Submission\n",
    "\n",
    " <li> Student Names: Calvine Dasilver\n",
    " <li> Student Pace: Full - Time\n",
    " <li> Scheduled Review Date/Time: \n",
    " <li> Instructor's: Nikita Njoroge"
   ]
  },
  {
   "cell_type": "markdown",
   "metadata": {},
   "source": [
    "## Utilizing Machine Learning to Assess Water Well Performance in Tanzania\n",
    "\n",
    "# **Project Overview**"
   ]
  },
  {
   "cell_type": "markdown",
   "metadata": {},
   "source": [
    " ## <li>**Business Understanding**\n",
    "\n",
    " Millions in Tanzania face a daily struggle for clean water, forced to walk long distances for water of questionable quality. This water scarcity contributes to a cycle of illness, high infant mortality, and economic stagnation. Uneven water distribution due to Tanzania's diverse climate and geology, coupled with rising demand from agriculture, domestic needs, and other sectors, further complicates the issue. Water wells have been a lifeline for rural communities, but their effectiveness can vary. This project combines machine learning and data visualization to pinpoint potential causes of well failure, predict the success of new wells, and ensure resources are directed to areas with the greatest need.\n",
    "\n",
    "##### **Challenges facing water access in Tanzania**:\n",
    "\n",
    "* **Limited Infrastructure**: Tanzania lacks sufficient water infrastructure, particularly in rural areas. This includes a shortage of wells, pipelines, and proper sanitation facilities, leading to reliance on potentially contaminated sources.\n",
    "* **Uneven Distribution**:  Tanzania's geography and climate create uneven water distribution. Some regions experience frequent droughts, while others have limited groundwater reserves. This disparity leaves many communities struggling despite national averages.\n",
    "* **Water Quality**: Contaminated water sources are a significant health risk. Lack of proper sanitation and treatment facilities contribute to the spread of waterborne diseases, further impacting public health outcomes.\n",
    "* **Climate Change**:  The increasing frequency and intensity of droughts due to climate change further exacerbate water scarcity. Erratic weather patterns disrupt traditional rainfall patterns, impacting both surface and groundwater availability.\n",
    "* **Population Growth**: Tanzania's growing population puts increasing pressure on existing water resources. Rising demand for domestic and agricultural water use threatens to outpace sustainable management practices.\n",
    "* **Funding and Management**: Insufficient funding for infrastructure development, maintenance, and water management programs limits progress\n",
    "\n",
    "#### **Proposed Solution**\n",
    "\n",
    "1. Build More & Smarter: Construct new wells and water systems (pumps, rainwater harvesting) in areas with greatest need, guided by data and community input.\n",
    "\n",
    "2. Monitor & Maintain: Track water quality with sensors and mobile tech, while training locals on well maintenance and responsible water use.\n",
    "\n",
    "3. Empower & Collaborate: Partner with local communities, NGOs, and the private sector to share knowledge, manage resources efficiently, and secure funding.\n",
    "\n",
    "4. Sustainable Financing: Explore innovative funding models like microfinance, user fees, and public-private partnerships for long-term project viability.\n",
    "\n",
    "#### **Conclusion**\n",
    "\n",
    "This analysis pinpointed geographic location, construction details, environmental factors, and maintenance practices as crucial influences on well functionality.\n",
    "\n",
    "#### **Problem Statement**\n",
    "\n",
    "In rural Tanzania, there's not enough infrastructure for safe drinking water, making it hard for people to access. While the government and NGOs work together to build wells, there's a problem with making sure they keep working in the long run. As the wells start to break down, it slows down the efforts to make sure everyone has enough clean water.\n",
    "\n",
    "#### **Objectives**\n",
    "###### *main*\n",
    "Implement a machine learning model to assess the operational status of water wells in Tanzania\n",
    "###### *specific*\n",
    "*  Data Preprocessing and Analysis\n",
    "*  Model Development and Training\n",
    "*  Insights Generation and Recommendation Development"
   ]
  },
  {
   "cell_type": "markdown",
   "metadata": {},
   "source": [
    "## <li> **Data Understanding**\n",
    "**Data Sources**\n",
    "\n",
    "Data provided by Taarifa and the Tanzanian Ministry of Water is organized into three separate CSV files:\n",
    " https://www.drivendata.org/competitions/7/pump-it-up-data-mining-the-water-table/data/\n",
    "\n",
    "1. **Test Set Values**: This file contains the independent variables (features) for which we need the model to predict the water well condition.\n",
    "2. **Training Set Labels**: This file contains the dependent variable (status_group) for each row in the Training Set Values file. This variable represents the actual condition of the well (e.g., functional, non-functional, needs repair).\n",
    "3. **Training Set Values**: This file contains the independent variables (features) used to train the machine learning model. These features will be used by the model to learn how to predict the condition of the wells in the Test Set Values file."
   ]
  },
  {
   "cell_type": "markdown",
   "metadata": {},
   "source": [
    "**To facilitate understanding of the data, a table outlining the column names and descriptions is provided below**:\n",
    "* amount_tsh - Total static head (amount water available to waterpoint)\n",
    "* date_recorded - The date the row was entered\n",
    "*  funder - Who funded the well\n",
    "*  gps_height - Altitude of the well\n",
    "*  installer - Organization that installed the well\n",
    "*  longitude - GPS coordinate\n",
    "*  latitude - GPS coordinate\n",
    "*  wpt_name - Name of the waterpoint if there is one\n",
    "*  num_private -\n",
    "*  basin - Geographic water basin\n",
    "*  subvillage - Geographic location\n",
    "*  region - Geographic location\n",
    "*  region_code - Geographic location (coded)\n",
    "*  district_code - Geographic location (coded)\n",
    "*  lga - Geographic location\n",
    "*  ward - Geographic location\n",
    "*  population - Population around the well\n",
    "*  public_meeting - True/False\n",
    "*  recorded_by - Group entering this row of data\n",
    "* scheme_management - Who operates the waterpoint\n",
    "* scheme_name - Who operates the waterpoint\n",
    "* permit - If the waterpoint is permitted\n",
    "* construction_year - Year the waterpoint was constructed\n",
    "* extraction_type - The kind of extraction the waterpoint uses\n",
    "* extraction_type_group - The kind of extraction the waterpoint uses\n",
    "* extraction_type_class - The kind of extraction the waterpoint uses\n",
    "* management - How the waterpoint is managed\n",
    "* management_group - How the waterpoint is managed\n",
    "* payment - What the water costs\n",
    "* payment_type - What the water costs\n",
    "* water_quality - The quality of the water\n",
    "* quality_group - The quality of the water\n",
    "* quantity - The quantity of water\n",
    "* quantity_group - The quantity of water\n",
    "* source - The source of the water\n",
    "* source_type - The source of the water\n",
    "* source_class - The source of the water\n",
    "* waterpoint_type - The kind of waterpoint\n",
    "* waterpoint_type_group - The kind of waterpoint\n"
   ]
  },
  {
   "cell_type": "markdown",
   "metadata": {},
   "source": [
    "### Importing relevant libraries"
   ]
  },
  {
   "cell_type": "code",
   "execution_count": 1,
   "metadata": {},
   "outputs": [
    {
     "name": "stderr",
     "output_type": "stream",
     "text": [
      "<frozen importlib._bootstrap>:219: RuntimeWarning: numpy.ufunc size changed, may indicate binary incompatibility. Expected 192 from C header, got 216 from PyObject\n"
     ]
    }
   ],
   "source": [
    "import pandas as pd\n",
    "import numpy as np\n",
    "import matplotlib.pyplot as plt\n",
    "%matplotlib inline\n",
    "import seaborn as sns\n",
    "import warnings\n",
    "warnings.filterwarnings('ignore')\n",
    "from sklearn.model_selection import GridSearchCV\n",
    "from sklearn.metrics import mean_squared_error\n",
    "from sklearn.model_selection import train_test_split\n",
    "from sklearn.model_selection import cross_val_score\n",
    "from sklearn.metrics import accuracy_score, confusion_matrix, classification_report,precision_score, recall_score\n",
    "from sklearn.preprocessing import StandardScaler\n",
    "from sklearn.ensemble import RandomForestRegressor\n",
    "from sklearn.ensemble import GradientBoostingClassifier\n",
    "from sklearn.pipeline import Pipeline\n",
    "from sklearn.impute import SimpleImputer\n",
    "from sklearn.tree import DecisionTreeClassifier\n",
    "from sklearn.linear_model import LogisticRegression\n",
    "from sklearn.ensemble import RandomForestClassifier"
   ]
  },
  {
   "cell_type": "markdown",
   "metadata": {},
   "source": [
    "First, I will define a fuction that loads the Datasets and check for info and shape of the datasets.\n"
   ]
  },
  {
   "cell_type": "code",
   "execution_count": 2,
   "metadata": {},
   "outputs": [],
   "source": [
    "#create a function that loads data and gets the info about the dataset\n",
    "def load_data_and_check_info(file_path):\n",
    "    \"\"\"\n",
    "    Load data from a CSV file and get information about the DataFrame.\n",
    "\n",
    "    Parameters:\n",
    "    - file_path (str): Path to the CSV file.\n",
    "\n",
    "    Returns:\n",
    "    - df_info (str): Information about the DataFrame.\n",
    "    \"\"\"\n",
    "    # Load data\n",
    "    df_1 = pd.read_csv(file_path, index_col='id')\n",
    "\n",
    "    # Display the first few rows of the DataFrame\n",
    "    df_head = df_1.head()\n",
    "\n",
    "    # Get information about the DataFrame\n",
    "    df_info = df_1.info()\n",
    "\n",
    "    # Get the shape of the DataFrame\n",
    "    df_shape = df_1.shape\n",
    "\n",
    "    print(\"Data Shape:\", df_shape)\n",
    "\n",
    "    return df_1,df_info, df_head, df_shape"
   ]
  },
  {
   "cell_type": "markdown",
   "metadata": {},
   "source": [
    "Second, I will create a fuction for checking data types and missing values"
   ]
  },
  {
   "cell_type": "code",
   "execution_count": 3,
   "metadata": {},
   "outputs": [],
   "source": [
    "def check_data_types_and_missing_values(data):\n",
    "    \n",
    "    # Display data types of each column\n",
    "    data_types = data.dtypes.replace({'object': 'string'}).value_counts().to_dict()\n",
    "    \n",
    "    # Check for missing values\n",
    "    missing_values = data.isnull().sum()\n",
    "    \n",
    "    return {\"data_types\": data_types, \"missing_values\": missing_values}\n"
   ]
  },
  {
   "cell_type": "markdown",
   "metadata": {},
   "source": [
    "#### 1.1 Importing Training Data: We begin by loading the 'Training Set Values' dataset"
   ]
  },
  {
   "cell_type": "code",
   "execution_count": 4,
   "metadata": {},
   "outputs": [
    {
     "name": "stdout",
     "output_type": "stream",
     "text": [
      "<class 'pandas.core.frame.DataFrame'>\n",
      "Int64Index: 59400 entries, 69572 to 26348\n",
      "Data columns (total 39 columns):\n",
      " #   Column                 Non-Null Count  Dtype  \n",
      "---  ------                 --------------  -----  \n",
      " 0   amount_tsh             59400 non-null  float64\n",
      " 1   date_recorded          59400 non-null  object \n",
      " 2   funder                 55765 non-null  object \n",
      " 3   gps_height             59400 non-null  int64  \n",
      " 4   installer              55745 non-null  object \n",
      " 5   longitude              59400 non-null  float64\n",
      " 6   latitude               59400 non-null  float64\n",
      " 7   wpt_name               59400 non-null  object \n",
      " 8   num_private            59400 non-null  int64  \n",
      " 9   basin                  59400 non-null  object \n",
      " 10  subvillage             59029 non-null  object \n",
      " 11  region                 59400 non-null  object \n",
      " 12  region_code            59400 non-null  int64  \n",
      " 13  district_code          59400 non-null  int64  \n",
      " 14  lga                    59400 non-null  object \n",
      " 15  ward                   59400 non-null  object \n",
      " 16  population             59400 non-null  int64  \n",
      " 17  public_meeting         56066 non-null  object \n",
      " 18  recorded_by            59400 non-null  object \n",
      " 19  scheme_management      55523 non-null  object \n",
      " 20  scheme_name            31234 non-null  object \n",
      " 21  permit                 56344 non-null  object \n",
      " 22  construction_year      59400 non-null  int64  \n",
      " 23  extraction_type        59400 non-null  object \n",
      " 24  extraction_type_group  59400 non-null  object \n",
      " 25  extraction_type_class  59400 non-null  object \n",
      " 26  management             59400 non-null  object \n",
      " 27  management_group       59400 non-null  object \n",
      " 28  payment                59400 non-null  object \n",
      " 29  payment_type           59400 non-null  object \n",
      " 30  water_quality          59400 non-null  object \n",
      " 31  quality_group          59400 non-null  object \n",
      " 32  quantity               59400 non-null  object \n",
      " 33  quantity_group         59400 non-null  object \n",
      " 34  source                 59400 non-null  object \n",
      " 35  source_type            59400 non-null  object \n",
      " 36  source_class           59400 non-null  object \n",
      " 37  waterpoint_type        59400 non-null  object \n",
      " 38  waterpoint_type_group  59400 non-null  object \n",
      "dtypes: float64(3), int64(6), object(30)\n",
      "memory usage: 18.1+ MB\n",
      "Data Shape: (59400, 39)\n",
      "Shape of the DataFrame: (59400, 39)\n",
      "None\n",
      "\n",
      "First few rows of the DataFrame:\n"
     ]
    },
    {
     "data": {
      "text/html": [
       "<div>\n",
       "<style scoped>\n",
       "    .dataframe tbody tr th:only-of-type {\n",
       "        vertical-align: middle;\n",
       "    }\n",
       "\n",
       "    .dataframe tbody tr th {\n",
       "        vertical-align: top;\n",
       "    }\n",
       "\n",
       "    .dataframe thead th {\n",
       "        text-align: right;\n",
       "    }\n",
       "</style>\n",
       "<table border=\"1\" class=\"dataframe\">\n",
       "  <thead>\n",
       "    <tr style=\"text-align: right;\">\n",
       "      <th></th>\n",
       "      <th>amount_tsh</th>\n",
       "      <th>date_recorded</th>\n",
       "      <th>funder</th>\n",
       "      <th>gps_height</th>\n",
       "      <th>installer</th>\n",
       "      <th>longitude</th>\n",
       "      <th>latitude</th>\n",
       "      <th>wpt_name</th>\n",
       "      <th>num_private</th>\n",
       "      <th>basin</th>\n",
       "      <th>subvillage</th>\n",
       "      <th>region</th>\n",
       "      <th>region_code</th>\n",
       "      <th>district_code</th>\n",
       "      <th>lga</th>\n",
       "      <th>ward</th>\n",
       "      <th>population</th>\n",
       "      <th>public_meeting</th>\n",
       "      <th>recorded_by</th>\n",
       "      <th>scheme_management</th>\n",
       "      <th>scheme_name</th>\n",
       "      <th>permit</th>\n",
       "      <th>construction_year</th>\n",
       "      <th>extraction_type</th>\n",
       "      <th>extraction_type_group</th>\n",
       "      <th>extraction_type_class</th>\n",
       "      <th>management</th>\n",
       "      <th>management_group</th>\n",
       "      <th>payment</th>\n",
       "      <th>payment_type</th>\n",
       "      <th>water_quality</th>\n",
       "      <th>quality_group</th>\n",
       "      <th>quantity</th>\n",
       "      <th>quantity_group</th>\n",
       "      <th>source</th>\n",
       "      <th>source_type</th>\n",
       "      <th>source_class</th>\n",
       "      <th>waterpoint_type</th>\n",
       "      <th>waterpoint_type_group</th>\n",
       "    </tr>\n",
       "    <tr>\n",
       "      <th>id</th>\n",
       "      <th></th>\n",
       "      <th></th>\n",
       "      <th></th>\n",
       "      <th></th>\n",
       "      <th></th>\n",
       "      <th></th>\n",
       "      <th></th>\n",
       "      <th></th>\n",
       "      <th></th>\n",
       "      <th></th>\n",
       "      <th></th>\n",
       "      <th></th>\n",
       "      <th></th>\n",
       "      <th></th>\n",
       "      <th></th>\n",
       "      <th></th>\n",
       "      <th></th>\n",
       "      <th></th>\n",
       "      <th></th>\n",
       "      <th></th>\n",
       "      <th></th>\n",
       "      <th></th>\n",
       "      <th></th>\n",
       "      <th></th>\n",
       "      <th></th>\n",
       "      <th></th>\n",
       "      <th></th>\n",
       "      <th></th>\n",
       "      <th></th>\n",
       "      <th></th>\n",
       "      <th></th>\n",
       "      <th></th>\n",
       "      <th></th>\n",
       "      <th></th>\n",
       "      <th></th>\n",
       "      <th></th>\n",
       "      <th></th>\n",
       "      <th></th>\n",
       "      <th></th>\n",
       "    </tr>\n",
       "  </thead>\n",
       "  <tbody>\n",
       "    <tr>\n",
       "      <th>69572</th>\n",
       "      <td>6000.0</td>\n",
       "      <td>2011-03-14</td>\n",
       "      <td>Roman</td>\n",
       "      <td>1390</td>\n",
       "      <td>Roman</td>\n",
       "      <td>34.938093</td>\n",
       "      <td>-9.856322</td>\n",
       "      <td>none</td>\n",
       "      <td>0</td>\n",
       "      <td>Lake Nyasa</td>\n",
       "      <td>Mnyusi B</td>\n",
       "      <td>Iringa</td>\n",
       "      <td>11</td>\n",
       "      <td>5</td>\n",
       "      <td>Ludewa</td>\n",
       "      <td>Mundindi</td>\n",
       "      <td>109</td>\n",
       "      <td>True</td>\n",
       "      <td>GeoData Consultants Ltd</td>\n",
       "      <td>VWC</td>\n",
       "      <td>Roman</td>\n",
       "      <td>False</td>\n",
       "      <td>1999</td>\n",
       "      <td>gravity</td>\n",
       "      <td>gravity</td>\n",
       "      <td>gravity</td>\n",
       "      <td>vwc</td>\n",
       "      <td>user-group</td>\n",
       "      <td>pay annually</td>\n",
       "      <td>annually</td>\n",
       "      <td>soft</td>\n",
       "      <td>good</td>\n",
       "      <td>enough</td>\n",
       "      <td>enough</td>\n",
       "      <td>spring</td>\n",
       "      <td>spring</td>\n",
       "      <td>groundwater</td>\n",
       "      <td>communal standpipe</td>\n",
       "      <td>communal standpipe</td>\n",
       "    </tr>\n",
       "    <tr>\n",
       "      <th>8776</th>\n",
       "      <td>0.0</td>\n",
       "      <td>2013-03-06</td>\n",
       "      <td>Grumeti</td>\n",
       "      <td>1399</td>\n",
       "      <td>GRUMETI</td>\n",
       "      <td>34.698766</td>\n",
       "      <td>-2.147466</td>\n",
       "      <td>Zahanati</td>\n",
       "      <td>0</td>\n",
       "      <td>Lake Victoria</td>\n",
       "      <td>Nyamara</td>\n",
       "      <td>Mara</td>\n",
       "      <td>20</td>\n",
       "      <td>2</td>\n",
       "      <td>Serengeti</td>\n",
       "      <td>Natta</td>\n",
       "      <td>280</td>\n",
       "      <td>NaN</td>\n",
       "      <td>GeoData Consultants Ltd</td>\n",
       "      <td>Other</td>\n",
       "      <td>NaN</td>\n",
       "      <td>True</td>\n",
       "      <td>2010</td>\n",
       "      <td>gravity</td>\n",
       "      <td>gravity</td>\n",
       "      <td>gravity</td>\n",
       "      <td>wug</td>\n",
       "      <td>user-group</td>\n",
       "      <td>never pay</td>\n",
       "      <td>never pay</td>\n",
       "      <td>soft</td>\n",
       "      <td>good</td>\n",
       "      <td>insufficient</td>\n",
       "      <td>insufficient</td>\n",
       "      <td>rainwater harvesting</td>\n",
       "      <td>rainwater harvesting</td>\n",
       "      <td>surface</td>\n",
       "      <td>communal standpipe</td>\n",
       "      <td>communal standpipe</td>\n",
       "    </tr>\n",
       "    <tr>\n",
       "      <th>34310</th>\n",
       "      <td>25.0</td>\n",
       "      <td>2013-02-25</td>\n",
       "      <td>Lottery Club</td>\n",
       "      <td>686</td>\n",
       "      <td>World vision</td>\n",
       "      <td>37.460664</td>\n",
       "      <td>-3.821329</td>\n",
       "      <td>Kwa Mahundi</td>\n",
       "      <td>0</td>\n",
       "      <td>Pangani</td>\n",
       "      <td>Majengo</td>\n",
       "      <td>Manyara</td>\n",
       "      <td>21</td>\n",
       "      <td>4</td>\n",
       "      <td>Simanjiro</td>\n",
       "      <td>Ngorika</td>\n",
       "      <td>250</td>\n",
       "      <td>True</td>\n",
       "      <td>GeoData Consultants Ltd</td>\n",
       "      <td>VWC</td>\n",
       "      <td>Nyumba ya mungu pipe scheme</td>\n",
       "      <td>True</td>\n",
       "      <td>2009</td>\n",
       "      <td>gravity</td>\n",
       "      <td>gravity</td>\n",
       "      <td>gravity</td>\n",
       "      <td>vwc</td>\n",
       "      <td>user-group</td>\n",
       "      <td>pay per bucket</td>\n",
       "      <td>per bucket</td>\n",
       "      <td>soft</td>\n",
       "      <td>good</td>\n",
       "      <td>enough</td>\n",
       "      <td>enough</td>\n",
       "      <td>dam</td>\n",
       "      <td>dam</td>\n",
       "      <td>surface</td>\n",
       "      <td>communal standpipe multiple</td>\n",
       "      <td>communal standpipe</td>\n",
       "    </tr>\n",
       "    <tr>\n",
       "      <th>67743</th>\n",
       "      <td>0.0</td>\n",
       "      <td>2013-01-28</td>\n",
       "      <td>Unicef</td>\n",
       "      <td>263</td>\n",
       "      <td>UNICEF</td>\n",
       "      <td>38.486161</td>\n",
       "      <td>-11.155298</td>\n",
       "      <td>Zahanati Ya Nanyumbu</td>\n",
       "      <td>0</td>\n",
       "      <td>Ruvuma / Southern Coast</td>\n",
       "      <td>Mahakamani</td>\n",
       "      <td>Mtwara</td>\n",
       "      <td>90</td>\n",
       "      <td>63</td>\n",
       "      <td>Nanyumbu</td>\n",
       "      <td>Nanyumbu</td>\n",
       "      <td>58</td>\n",
       "      <td>True</td>\n",
       "      <td>GeoData Consultants Ltd</td>\n",
       "      <td>VWC</td>\n",
       "      <td>NaN</td>\n",
       "      <td>True</td>\n",
       "      <td>1986</td>\n",
       "      <td>submersible</td>\n",
       "      <td>submersible</td>\n",
       "      <td>submersible</td>\n",
       "      <td>vwc</td>\n",
       "      <td>user-group</td>\n",
       "      <td>never pay</td>\n",
       "      <td>never pay</td>\n",
       "      <td>soft</td>\n",
       "      <td>good</td>\n",
       "      <td>dry</td>\n",
       "      <td>dry</td>\n",
       "      <td>machine dbh</td>\n",
       "      <td>borehole</td>\n",
       "      <td>groundwater</td>\n",
       "      <td>communal standpipe multiple</td>\n",
       "      <td>communal standpipe</td>\n",
       "    </tr>\n",
       "    <tr>\n",
       "      <th>19728</th>\n",
       "      <td>0.0</td>\n",
       "      <td>2011-07-13</td>\n",
       "      <td>Action In A</td>\n",
       "      <td>0</td>\n",
       "      <td>Artisan</td>\n",
       "      <td>31.130847</td>\n",
       "      <td>-1.825359</td>\n",
       "      <td>Shuleni</td>\n",
       "      <td>0</td>\n",
       "      <td>Lake Victoria</td>\n",
       "      <td>Kyanyamisa</td>\n",
       "      <td>Kagera</td>\n",
       "      <td>18</td>\n",
       "      <td>1</td>\n",
       "      <td>Karagwe</td>\n",
       "      <td>Nyakasimbi</td>\n",
       "      <td>0</td>\n",
       "      <td>True</td>\n",
       "      <td>GeoData Consultants Ltd</td>\n",
       "      <td>NaN</td>\n",
       "      <td>NaN</td>\n",
       "      <td>True</td>\n",
       "      <td>0</td>\n",
       "      <td>gravity</td>\n",
       "      <td>gravity</td>\n",
       "      <td>gravity</td>\n",
       "      <td>other</td>\n",
       "      <td>other</td>\n",
       "      <td>never pay</td>\n",
       "      <td>never pay</td>\n",
       "      <td>soft</td>\n",
       "      <td>good</td>\n",
       "      <td>seasonal</td>\n",
       "      <td>seasonal</td>\n",
       "      <td>rainwater harvesting</td>\n",
       "      <td>rainwater harvesting</td>\n",
       "      <td>surface</td>\n",
       "      <td>communal standpipe</td>\n",
       "      <td>communal standpipe</td>\n",
       "    </tr>\n",
       "  </tbody>\n",
       "</table>\n",
       "</div>"
      ],
      "text/plain": [
       "       amount_tsh  ... waterpoint_type_group\n",
       "id                 ...                      \n",
       "69572      6000.0  ...    communal standpipe\n",
       "8776          0.0  ...    communal standpipe\n",
       "34310        25.0  ...    communal standpipe\n",
       "67743         0.0  ...    communal standpipe\n",
       "19728         0.0  ...    communal standpipe\n",
       "\n",
       "[5 rows x 39 columns]"
      ]
     },
     "execution_count": 4,
     "metadata": {},
     "output_type": "execute_result"
    }
   ],
   "source": [
    "file_path_1 = \"Data\\Training_set_values.csv\"  # Replace \"your_data.csv\" with the actual file path\n",
    "df_1,df_info, df_head , df_shape= load_data_and_check_info(file_path_1)\n",
    "print(\"Shape of the DataFrame:\", df_shape)\n",
    "print(df_info)\n",
    "print(\"\\nFirst few rows of the DataFrame:\")\n",
    "df_head #data_head"
   ]
  },
  {
   "cell_type": "markdown",
   "metadata": {},
   "source": [
    "\n",
    "The summary of the observation indicates;\n",
    "\n",
    "* Data Type: pandas.core.frame.DataFrame\n",
    "* Number of Rows: 59400\n",
    "* Number of Columns: 39"
   ]
  },
  {
   "cell_type": "code",
   "execution_count": 5,
   "metadata": {},
   "outputs": [
    {
     "name": "stdout",
     "output_type": "stream",
     "text": [
      "Data types of each column:\n",
      "{'string': 30, dtype('int64'): 6, dtype('float64'): 3}\n",
      "\n",
      "Missing values:\n",
      "amount_tsh                   0\n",
      "date_recorded                0\n",
      "funder                    3635\n",
      "gps_height                   0\n",
      "installer                 3655\n",
      "longitude                    0\n",
      "latitude                     0\n",
      "wpt_name                     0\n",
      "num_private                  0\n",
      "basin                        0\n",
      "subvillage                 371\n",
      "region                       0\n",
      "region_code                  0\n",
      "district_code                0\n",
      "lga                          0\n",
      "ward                         0\n",
      "population                   0\n",
      "public_meeting            3334\n",
      "recorded_by                  0\n",
      "scheme_management         3877\n",
      "scheme_name              28166\n",
      "permit                    3056\n",
      "construction_year            0\n",
      "extraction_type              0\n",
      "extraction_type_group        0\n",
      "extraction_type_class        0\n",
      "management                   0\n",
      "management_group             0\n",
      "payment                      0\n",
      "payment_type                 0\n",
      "water_quality                0\n",
      "quality_group                0\n",
      "quantity                     0\n",
      "quantity_group               0\n",
      "source                       0\n",
      "source_type                  0\n",
      "source_class                 0\n",
      "waterpoint_type              0\n",
      "waterpoint_type_group        0\n",
      "dtype: int64\n"
     ]
    }
   ],
   "source": [
    "#check the data types and missing values of DataFrame columns in our training set values.\n",
    "dtypes_and_mv_df_1 = check_data_types_and_missing_values(df_1)\n",
    "print(\"Data types of each column:\")\n",
    "print(dtypes_and_mv_df_1[\"data_types\"])\n",
    "if dtypes_and_mv_df_1[\"missing_values\"].sum() == 0:\n",
    "      print(\"\\nNo missing values found.\")\n",
    "else:\n",
    "      print(\"\\nMissing values:\")\n",
    "      print(dtypes_and_mv_df_1[\"missing_values\"])"
   ]
  },
  {
   "cell_type": "markdown",
   "metadata": {},
   "source": [
    "Key points from data exploration:\n",
    "\n",
    "* Data types: Mostly text (30 columns), with some integers (6) and floats (3) likely representing categories or continuous values.\n",
    "* Missing values: Encouragingly, no missing entries in crucial data (amount spent, location, population). However, several others have missing values (>3000 entries) in areas like funders, installers, and management.\n"
   ]
  },
  {
   "cell_type": "markdown",
   "metadata": {},
   "source": [
    "#### 1.2 We are loading the 'Training set labels' dataset\n",
    "\n",
    "\n",
    "\n",
    "\n",
    "\n"
   ]
  },
  {
   "cell_type": "code",
   "execution_count": 6,
   "metadata": {},
   "outputs": [
    {
     "name": "stdout",
     "output_type": "stream",
     "text": [
      "<class 'pandas.core.frame.DataFrame'>\n",
      "Int64Index: 59400 entries, 69572 to 26348\n",
      "Data columns (total 1 columns):\n",
      " #   Column        Non-Null Count  Dtype \n",
      "---  ------        --------------  ----- \n",
      " 0   status_group  59400 non-null  object\n",
      "dtypes: object(1)\n",
      "memory usage: 928.1+ KB\n",
      "Data Shape: (59400, 1)\n",
      "Shape of the DataFrame: (59400, 1)\n",
      "None\n",
      "\n",
      "First few rows of the DataFrame:\n"
     ]
    },
    {
     "data": {
      "text/html": [
       "<div>\n",
       "<style scoped>\n",
       "    .dataframe tbody tr th:only-of-type {\n",
       "        vertical-align: middle;\n",
       "    }\n",
       "\n",
       "    .dataframe tbody tr th {\n",
       "        vertical-align: top;\n",
       "    }\n",
       "\n",
       "    .dataframe thead th {\n",
       "        text-align: right;\n",
       "    }\n",
       "</style>\n",
       "<table border=\"1\" class=\"dataframe\">\n",
       "  <thead>\n",
       "    <tr style=\"text-align: right;\">\n",
       "      <th></th>\n",
       "      <th>status_group</th>\n",
       "    </tr>\n",
       "    <tr>\n",
       "      <th>id</th>\n",
       "      <th></th>\n",
       "    </tr>\n",
       "  </thead>\n",
       "  <tbody>\n",
       "    <tr>\n",
       "      <th>69572</th>\n",
       "      <td>functional</td>\n",
       "    </tr>\n",
       "    <tr>\n",
       "      <th>8776</th>\n",
       "      <td>functional</td>\n",
       "    </tr>\n",
       "    <tr>\n",
       "      <th>34310</th>\n",
       "      <td>functional</td>\n",
       "    </tr>\n",
       "    <tr>\n",
       "      <th>67743</th>\n",
       "      <td>non functional</td>\n",
       "    </tr>\n",
       "    <tr>\n",
       "      <th>19728</th>\n",
       "      <td>functional</td>\n",
       "    </tr>\n",
       "  </tbody>\n",
       "</table>\n",
       "</div>"
      ],
      "text/plain": [
       "         status_group\n",
       "id                   \n",
       "69572      functional\n",
       "8776       functional\n",
       "34310      functional\n",
       "67743  non functional\n",
       "19728      functional"
      ]
     },
     "execution_count": 6,
     "metadata": {},
     "output_type": "execute_result"
    }
   ],
   "source": [
    "#loading dataset\n",
    "file_path_2 = \"Data\\Training _set_labels.csv\"  # Replace \"your_data.csv\" with the actual file path\n",
    "df_2,df_info, df_head , df_shape= load_data_and_check_info(file_path_2)\n",
    "print(\"Shape of the DataFrame:\", df_shape)\n",
    "print(df_info)\n",
    "print(\"\\nFirst few rows of the DataFrame:\")\n",
    "df_head #data_head"
   ]
  },
  {
   "cell_type": "markdown",
   "metadata": {},
   "source": [
    "This summary reveals:\n",
    "\n",
    "* Data Type: pandas.core.frame.DataFrame\n",
    "* Number of Rows: 59400\n",
    "* Number of Columns: 1 (single column)\n",
    "* Column Name: \"status_group\" (likely contains labels indicating well condition)\n",
    "* Sample Values: The preview shows examples of values in the \"status_group\" column, including \"functional\" and \"non functional\" (potential labels for well condition).\n",
    "* Overall, this seems to be the target DataFrame containing labels for well functionality, which will likely be crucial for training our machine learning model."
   ]
  },
  {
   "cell_type": "code",
   "execution_count": 7,
   "metadata": {},
   "outputs": [
    {
     "name": "stdout",
     "output_type": "stream",
     "text": [
      "Data types of each column:\n",
      "{'string': 1}\n",
      "\n",
      "No missing values found.\n"
     ]
    }
   ],
   "source": [
    "#check the data types and missing values of DataFrame columns in our training set labels\n",
    "dtypes_and_mv_df_2 = check_data_types_and_missing_values(df_2)\n",
    "print(\"Data types of each column:\")\n",
    "print(dtypes_and_mv_df_2[\"data_types\"])\n",
    "if dtypes_and_mv_df_2[\"missing_values\"].sum() == 0:\n",
    "      print(\"\\nNo missing values found.\")\n",
    "else:\n",
    "      print(\"\\nMissing values:\")\n",
    "      print(dtypes_and_mv_df_2[\"missing_values\"])"
   ]
  },
  {
   "cell_type": "markdown",
   "metadata": {},
   "source": [
    "observation review:\n",
    "* Data Type: All columns in our DataFrame are of type 'string'. This suggests they likely contain textual data.\n",
    "* Missing Values: There are no missing values found in any of the columns. This is a positive aspect, indicating a complete dataset for our analysis.\n",
    "\n"
   ]
  },
  {
   "cell_type": "markdown",
   "metadata": {},
   "source": [
    "#### 1.3 Loading Test Data: 'Test Set Values' "
   ]
  },
  {
   "cell_type": "code",
   "execution_count": 8,
   "metadata": {},
   "outputs": [
    {
     "name": "stdout",
     "output_type": "stream",
     "text": [
      "<class 'pandas.core.frame.DataFrame'>\n",
      "Int64Index: 14850 entries, 50785 to 68707\n",
      "Data columns (total 39 columns):\n",
      " #   Column                 Non-Null Count  Dtype  \n",
      "---  ------                 --------------  -----  \n",
      " 0   amount_tsh             14850 non-null  float64\n",
      " 1   date_recorded          14850 non-null  object \n",
      " 2   funder                 13981 non-null  object \n",
      " 3   gps_height             14850 non-null  int64  \n",
      " 4   installer              13973 non-null  object \n",
      " 5   longitude              14850 non-null  float64\n",
      " 6   latitude               14850 non-null  float64\n",
      " 7   wpt_name               14850 non-null  object \n",
      " 8   num_private            14850 non-null  int64  \n",
      " 9   basin                  14850 non-null  object \n",
      " 10  subvillage             14751 non-null  object \n",
      " 11  region                 14850 non-null  object \n",
      " 12  region_code            14850 non-null  int64  \n",
      " 13  district_code          14850 non-null  int64  \n",
      " 14  lga                    14850 non-null  object \n",
      " 15  ward                   14850 non-null  object \n",
      " 16  population             14850 non-null  int64  \n",
      " 17  public_meeting         14029 non-null  object \n",
      " 18  recorded_by            14850 non-null  object \n",
      " 19  scheme_management      13881 non-null  object \n",
      " 20  scheme_name            7758 non-null   object \n",
      " 21  permit                 14113 non-null  object \n",
      " 22  construction_year      14850 non-null  int64  \n",
      " 23  extraction_type        14850 non-null  object \n",
      " 24  extraction_type_group  14850 non-null  object \n",
      " 25  extraction_type_class  14850 non-null  object \n",
      " 26  management             14850 non-null  object \n",
      " 27  management_group       14850 non-null  object \n",
      " 28  payment                14850 non-null  object \n",
      " 29  payment_type           14850 non-null  object \n",
      " 30  water_quality          14850 non-null  object \n",
      " 31  quality_group          14850 non-null  object \n",
      " 32  quantity               14850 non-null  object \n",
      " 33  quantity_group         14850 non-null  object \n",
      " 34  source                 14850 non-null  object \n",
      " 35  source_type            14850 non-null  object \n",
      " 36  source_class           14850 non-null  object \n",
      " 37  waterpoint_type        14850 non-null  object \n",
      " 38  waterpoint_type_group  14850 non-null  object \n",
      "dtypes: float64(3), int64(6), object(30)\n",
      "memory usage: 4.5+ MB\n",
      "Data Shape: (14850, 39)\n",
      "Shape of the DataFrame: (14850, 39)\n",
      "None\n",
      "\n",
      "First few rows of the DataFrame:\n"
     ]
    },
    {
     "data": {
      "text/html": [
       "<div>\n",
       "<style scoped>\n",
       "    .dataframe tbody tr th:only-of-type {\n",
       "        vertical-align: middle;\n",
       "    }\n",
       "\n",
       "    .dataframe tbody tr th {\n",
       "        vertical-align: top;\n",
       "    }\n",
       "\n",
       "    .dataframe thead th {\n",
       "        text-align: right;\n",
       "    }\n",
       "</style>\n",
       "<table border=\"1\" class=\"dataframe\">\n",
       "  <thead>\n",
       "    <tr style=\"text-align: right;\">\n",
       "      <th></th>\n",
       "      <th>amount_tsh</th>\n",
       "      <th>date_recorded</th>\n",
       "      <th>funder</th>\n",
       "      <th>gps_height</th>\n",
       "      <th>installer</th>\n",
       "      <th>longitude</th>\n",
       "      <th>latitude</th>\n",
       "      <th>wpt_name</th>\n",
       "      <th>num_private</th>\n",
       "      <th>basin</th>\n",
       "      <th>subvillage</th>\n",
       "      <th>region</th>\n",
       "      <th>region_code</th>\n",
       "      <th>district_code</th>\n",
       "      <th>lga</th>\n",
       "      <th>ward</th>\n",
       "      <th>population</th>\n",
       "      <th>public_meeting</th>\n",
       "      <th>recorded_by</th>\n",
       "      <th>scheme_management</th>\n",
       "      <th>scheme_name</th>\n",
       "      <th>permit</th>\n",
       "      <th>construction_year</th>\n",
       "      <th>extraction_type</th>\n",
       "      <th>extraction_type_group</th>\n",
       "      <th>extraction_type_class</th>\n",
       "      <th>management</th>\n",
       "      <th>management_group</th>\n",
       "      <th>payment</th>\n",
       "      <th>payment_type</th>\n",
       "      <th>water_quality</th>\n",
       "      <th>quality_group</th>\n",
       "      <th>quantity</th>\n",
       "      <th>quantity_group</th>\n",
       "      <th>source</th>\n",
       "      <th>source_type</th>\n",
       "      <th>source_class</th>\n",
       "      <th>waterpoint_type</th>\n",
       "      <th>waterpoint_type_group</th>\n",
       "    </tr>\n",
       "    <tr>\n",
       "      <th>id</th>\n",
       "      <th></th>\n",
       "      <th></th>\n",
       "      <th></th>\n",
       "      <th></th>\n",
       "      <th></th>\n",
       "      <th></th>\n",
       "      <th></th>\n",
       "      <th></th>\n",
       "      <th></th>\n",
       "      <th></th>\n",
       "      <th></th>\n",
       "      <th></th>\n",
       "      <th></th>\n",
       "      <th></th>\n",
       "      <th></th>\n",
       "      <th></th>\n",
       "      <th></th>\n",
       "      <th></th>\n",
       "      <th></th>\n",
       "      <th></th>\n",
       "      <th></th>\n",
       "      <th></th>\n",
       "      <th></th>\n",
       "      <th></th>\n",
       "      <th></th>\n",
       "      <th></th>\n",
       "      <th></th>\n",
       "      <th></th>\n",
       "      <th></th>\n",
       "      <th></th>\n",
       "      <th></th>\n",
       "      <th></th>\n",
       "      <th></th>\n",
       "      <th></th>\n",
       "      <th></th>\n",
       "      <th></th>\n",
       "      <th></th>\n",
       "      <th></th>\n",
       "      <th></th>\n",
       "    </tr>\n",
       "  </thead>\n",
       "  <tbody>\n",
       "    <tr>\n",
       "      <th>50785</th>\n",
       "      <td>0.0</td>\n",
       "      <td>2013-02-04</td>\n",
       "      <td>Dmdd</td>\n",
       "      <td>1996</td>\n",
       "      <td>DMDD</td>\n",
       "      <td>35.290799</td>\n",
       "      <td>-4.059696</td>\n",
       "      <td>Dinamu Secondary School</td>\n",
       "      <td>0</td>\n",
       "      <td>Internal</td>\n",
       "      <td>Magoma</td>\n",
       "      <td>Manyara</td>\n",
       "      <td>21</td>\n",
       "      <td>3</td>\n",
       "      <td>Mbulu</td>\n",
       "      <td>Bashay</td>\n",
       "      <td>321</td>\n",
       "      <td>True</td>\n",
       "      <td>GeoData Consultants Ltd</td>\n",
       "      <td>Parastatal</td>\n",
       "      <td>NaN</td>\n",
       "      <td>True</td>\n",
       "      <td>2012</td>\n",
       "      <td>other</td>\n",
       "      <td>other</td>\n",
       "      <td>other</td>\n",
       "      <td>parastatal</td>\n",
       "      <td>parastatal</td>\n",
       "      <td>never pay</td>\n",
       "      <td>never pay</td>\n",
       "      <td>soft</td>\n",
       "      <td>good</td>\n",
       "      <td>seasonal</td>\n",
       "      <td>seasonal</td>\n",
       "      <td>rainwater harvesting</td>\n",
       "      <td>rainwater harvesting</td>\n",
       "      <td>surface</td>\n",
       "      <td>other</td>\n",
       "      <td>other</td>\n",
       "    </tr>\n",
       "    <tr>\n",
       "      <th>51630</th>\n",
       "      <td>0.0</td>\n",
       "      <td>2013-02-04</td>\n",
       "      <td>Government Of Tanzania</td>\n",
       "      <td>1569</td>\n",
       "      <td>DWE</td>\n",
       "      <td>36.656709</td>\n",
       "      <td>-3.309214</td>\n",
       "      <td>Kimnyak</td>\n",
       "      <td>0</td>\n",
       "      <td>Pangani</td>\n",
       "      <td>Kimnyak</td>\n",
       "      <td>Arusha</td>\n",
       "      <td>2</td>\n",
       "      <td>2</td>\n",
       "      <td>Arusha Rural</td>\n",
       "      <td>Kimnyaki</td>\n",
       "      <td>300</td>\n",
       "      <td>True</td>\n",
       "      <td>GeoData Consultants Ltd</td>\n",
       "      <td>VWC</td>\n",
       "      <td>TPRI pipe line</td>\n",
       "      <td>True</td>\n",
       "      <td>2000</td>\n",
       "      <td>gravity</td>\n",
       "      <td>gravity</td>\n",
       "      <td>gravity</td>\n",
       "      <td>vwc</td>\n",
       "      <td>user-group</td>\n",
       "      <td>never pay</td>\n",
       "      <td>never pay</td>\n",
       "      <td>soft</td>\n",
       "      <td>good</td>\n",
       "      <td>insufficient</td>\n",
       "      <td>insufficient</td>\n",
       "      <td>spring</td>\n",
       "      <td>spring</td>\n",
       "      <td>groundwater</td>\n",
       "      <td>communal standpipe</td>\n",
       "      <td>communal standpipe</td>\n",
       "    </tr>\n",
       "    <tr>\n",
       "      <th>17168</th>\n",
       "      <td>0.0</td>\n",
       "      <td>2013-02-01</td>\n",
       "      <td>NaN</td>\n",
       "      <td>1567</td>\n",
       "      <td>NaN</td>\n",
       "      <td>34.767863</td>\n",
       "      <td>-5.004344</td>\n",
       "      <td>Puma Secondary</td>\n",
       "      <td>0</td>\n",
       "      <td>Internal</td>\n",
       "      <td>Msatu</td>\n",
       "      <td>Singida</td>\n",
       "      <td>13</td>\n",
       "      <td>2</td>\n",
       "      <td>Singida Rural</td>\n",
       "      <td>Puma</td>\n",
       "      <td>500</td>\n",
       "      <td>True</td>\n",
       "      <td>GeoData Consultants Ltd</td>\n",
       "      <td>VWC</td>\n",
       "      <td>P</td>\n",
       "      <td>NaN</td>\n",
       "      <td>2010</td>\n",
       "      <td>other</td>\n",
       "      <td>other</td>\n",
       "      <td>other</td>\n",
       "      <td>vwc</td>\n",
       "      <td>user-group</td>\n",
       "      <td>never pay</td>\n",
       "      <td>never pay</td>\n",
       "      <td>soft</td>\n",
       "      <td>good</td>\n",
       "      <td>insufficient</td>\n",
       "      <td>insufficient</td>\n",
       "      <td>rainwater harvesting</td>\n",
       "      <td>rainwater harvesting</td>\n",
       "      <td>surface</td>\n",
       "      <td>other</td>\n",
       "      <td>other</td>\n",
       "    </tr>\n",
       "    <tr>\n",
       "      <th>45559</th>\n",
       "      <td>0.0</td>\n",
       "      <td>2013-01-22</td>\n",
       "      <td>Finn Water</td>\n",
       "      <td>267</td>\n",
       "      <td>FINN WATER</td>\n",
       "      <td>38.058046</td>\n",
       "      <td>-9.418672</td>\n",
       "      <td>Kwa Mzee Pange</td>\n",
       "      <td>0</td>\n",
       "      <td>Ruvuma / Southern Coast</td>\n",
       "      <td>Kipindimbi</td>\n",
       "      <td>Lindi</td>\n",
       "      <td>80</td>\n",
       "      <td>43</td>\n",
       "      <td>Liwale</td>\n",
       "      <td>Mkutano</td>\n",
       "      <td>250</td>\n",
       "      <td>NaN</td>\n",
       "      <td>GeoData Consultants Ltd</td>\n",
       "      <td>VWC</td>\n",
       "      <td>NaN</td>\n",
       "      <td>True</td>\n",
       "      <td>1987</td>\n",
       "      <td>other</td>\n",
       "      <td>other</td>\n",
       "      <td>other</td>\n",
       "      <td>vwc</td>\n",
       "      <td>user-group</td>\n",
       "      <td>unknown</td>\n",
       "      <td>unknown</td>\n",
       "      <td>soft</td>\n",
       "      <td>good</td>\n",
       "      <td>dry</td>\n",
       "      <td>dry</td>\n",
       "      <td>shallow well</td>\n",
       "      <td>shallow well</td>\n",
       "      <td>groundwater</td>\n",
       "      <td>other</td>\n",
       "      <td>other</td>\n",
       "    </tr>\n",
       "    <tr>\n",
       "      <th>49871</th>\n",
       "      <td>500.0</td>\n",
       "      <td>2013-03-27</td>\n",
       "      <td>Bruder</td>\n",
       "      <td>1260</td>\n",
       "      <td>BRUDER</td>\n",
       "      <td>35.006123</td>\n",
       "      <td>-10.950412</td>\n",
       "      <td>Kwa Mzee Turuka</td>\n",
       "      <td>0</td>\n",
       "      <td>Ruvuma / Southern Coast</td>\n",
       "      <td>Losonga</td>\n",
       "      <td>Ruvuma</td>\n",
       "      <td>10</td>\n",
       "      <td>3</td>\n",
       "      <td>Mbinga</td>\n",
       "      <td>Mbinga Urban</td>\n",
       "      <td>60</td>\n",
       "      <td>NaN</td>\n",
       "      <td>GeoData Consultants Ltd</td>\n",
       "      <td>Water Board</td>\n",
       "      <td>BRUDER</td>\n",
       "      <td>True</td>\n",
       "      <td>2000</td>\n",
       "      <td>gravity</td>\n",
       "      <td>gravity</td>\n",
       "      <td>gravity</td>\n",
       "      <td>water board</td>\n",
       "      <td>user-group</td>\n",
       "      <td>pay monthly</td>\n",
       "      <td>monthly</td>\n",
       "      <td>soft</td>\n",
       "      <td>good</td>\n",
       "      <td>enough</td>\n",
       "      <td>enough</td>\n",
       "      <td>spring</td>\n",
       "      <td>spring</td>\n",
       "      <td>groundwater</td>\n",
       "      <td>communal standpipe</td>\n",
       "      <td>communal standpipe</td>\n",
       "    </tr>\n",
       "  </tbody>\n",
       "</table>\n",
       "</div>"
      ],
      "text/plain": [
       "       amount_tsh date_recorded  ...     waterpoint_type  waterpoint_type_group\n",
       "id                               ...                                           \n",
       "50785         0.0    2013-02-04  ...               other                  other\n",
       "51630         0.0    2013-02-04  ...  communal standpipe     communal standpipe\n",
       "17168         0.0    2013-02-01  ...               other                  other\n",
       "45559         0.0    2013-01-22  ...               other                  other\n",
       "49871       500.0    2013-03-27  ...  communal standpipe     communal standpipe\n",
       "\n",
       "[5 rows x 39 columns]"
      ]
     },
     "execution_count": 8,
     "metadata": {},
     "output_type": "execute_result"
    }
   ],
   "source": [
    "file_path_3 = \"Data\\Test_set_values.csv\"  # Replace \"your_data.csv\" with the actual file path\n",
    "df_3,df_info, df_head , df_shape= load_data_and_check_info(file_path_3)\n",
    "print(\"Shape of the DataFrame:\", df_shape)\n",
    "print(df_info)\n",
    "print(\"\\nFirst few rows of the DataFrame:\")\n",
    "df_head #data_head"
   ]
  },
  {
   "cell_type": "markdown",
   "metadata": {},
   "source": [
    "The summary of the observation indicates;\n",
    "\n",
    "* Data Type: pandas.core.frame.DataFrame\n",
    "* Number of Rows: 14,850\n",
    "* Number of Columns: 39"
   ]
  },
  {
   "cell_type": "code",
   "execution_count": 9,
   "metadata": {},
   "outputs": [
    {
     "name": "stdout",
     "output_type": "stream",
     "text": [
      "Data types of each column:\n",
      "{'string': 30, dtype('int64'): 6, dtype('float64'): 3}\n",
      "\n",
      "Missing values:\n",
      "amount_tsh                  0\n",
      "date_recorded               0\n",
      "funder                    869\n",
      "gps_height                  0\n",
      "installer                 877\n",
      "longitude                   0\n",
      "latitude                    0\n",
      "wpt_name                    0\n",
      "num_private                 0\n",
      "basin                       0\n",
      "subvillage                 99\n",
      "region                      0\n",
      "region_code                 0\n",
      "district_code               0\n",
      "lga                         0\n",
      "ward                        0\n",
      "population                  0\n",
      "public_meeting            821\n",
      "recorded_by                 0\n",
      "scheme_management         969\n",
      "scheme_name              7092\n",
      "permit                    737\n",
      "construction_year           0\n",
      "extraction_type             0\n",
      "extraction_type_group       0\n",
      "extraction_type_class       0\n",
      "management                  0\n",
      "management_group            0\n",
      "payment                     0\n",
      "payment_type                0\n",
      "water_quality               0\n",
      "quality_group               0\n",
      "quantity                    0\n",
      "quantity_group              0\n",
      "source                      0\n",
      "source_type                 0\n",
      "source_class                0\n",
      "waterpoint_type             0\n",
      "waterpoint_type_group       0\n",
      "dtype: int64\n"
     ]
    }
   ],
   "source": [
    "#check the data types and missing values of DataFrame columns in our training set values.\n",
    "dtypes_and_mv_df_3 = check_data_types_and_missing_values(df_3)\n",
    "print(\"Data types of each column:\")\n",
    "print(dtypes_and_mv_df_3[\"data_types\"])\n",
    "if dtypes_and_mv_df_3[\"missing_values\"].sum() == 0:\n",
    "      print(\"\\nNo missing values found.\")\n",
    "else:\n",
    "      print(\"\\nMissing values:\")\n",
    "      print(dtypes_and_mv_df_3[\"missing_values\"])"
   ]
  },
  {
   "cell_type": "markdown",
   "metadata": {},
   "source": [
    "This summary shows data types and missing values. Most data is text (30 columns), with some numbers (6) and decimals (3). While key data like amount spent and location have no missing entries, some others (funders, installers, etc.) have over 800 missing values.\n",
    "\n",
    "In conclusion, from our 3 datasets,the 'training set values' likely has labels for well condition (e.g., functional/non-functional) to train the model, while the 'test set values' lacks these labels for the model to predict. They likely have the same features describing the wells, but the training set might be larger for effective learning."
   ]
  },
  {
   "cell_type": "markdown",
   "metadata": {},
   "source": [
    "## <li> **Data Preposing and Analysis**"
   ]
  },
  {
   "cell_type": "markdown",
   "metadata": {},
   "source": [
    "###  **Data Preparation (Data Blending)**\n",
    "\n",
    "#### 2.1Merging the training set values and training set labels Datasets\n"
   ]
  },
  {
   "cell_type": "code",
   "execution_count": 10,
   "metadata": {},
   "outputs": [
    {
     "name": "stdout",
     "output_type": "stream",
     "text": [
      "       amount_tsh date_recorded  ... waterpoint_type_group    status_group\n",
      "id                               ...                                      \n",
      "69572      6000.0    2011-03-14  ...    communal standpipe      functional\n",
      "8776          0.0    2013-03-06  ...    communal standpipe      functional\n",
      "34310        25.0    2013-02-25  ...    communal standpipe      functional\n",
      "67743         0.0    2013-01-28  ...    communal standpipe  non functional\n",
      "19728         0.0    2011-07-13  ...    communal standpipe      functional\n",
      "\n",
      "[5 rows x 40 columns]\n"
     ]
    }
   ],
   "source": [
    "# merging the training set values and training set labels on the 'id' column\n",
    "try:\n",
    "    merged_df = pd.merge(df_1, df_2, on='id')\n",
    "    print(merged_df.head())\n",
    "except Exception as e:\n",
    "    print(\"An error occurred during the merge operation:\", e)\n"
   ]
  },
  {
   "cell_type": "code",
   "execution_count": 11,
   "metadata": {},
   "outputs": [],
   "source": [
    "#checking for the shape and information about the new dataset\n",
    "def check_shape_and_info(data):\n",
    "    print(\"Shape of the DataFrame:\", data.shape)\n",
    "    print(data.info())\n",
    "    return data\n"
   ]
  },
  {
   "cell_type": "code",
   "execution_count": 12,
   "metadata": {},
   "outputs": [
    {
     "name": "stdout",
     "output_type": "stream",
     "text": [
      "Shape of the DataFrame: (59400, 40)\n",
      "<class 'pandas.core.frame.DataFrame'>\n",
      "Int64Index: 59400 entries, 69572 to 26348\n",
      "Data columns (total 40 columns):\n",
      " #   Column                 Non-Null Count  Dtype  \n",
      "---  ------                 --------------  -----  \n",
      " 0   amount_tsh             59400 non-null  float64\n",
      " 1   date_recorded          59400 non-null  object \n",
      " 2   funder                 55765 non-null  object \n",
      " 3   gps_height             59400 non-null  int64  \n",
      " 4   installer              55745 non-null  object \n",
      " 5   longitude              59400 non-null  float64\n",
      " 6   latitude               59400 non-null  float64\n",
      " 7   wpt_name               59400 non-null  object \n",
      " 8   num_private            59400 non-null  int64  \n",
      " 9   basin                  59400 non-null  object \n",
      " 10  subvillage             59029 non-null  object \n",
      " 11  region                 59400 non-null  object \n",
      " 12  region_code            59400 non-null  int64  \n",
      " 13  district_code          59400 non-null  int64  \n",
      " 14  lga                    59400 non-null  object \n",
      " 15  ward                   59400 non-null  object \n",
      " 16  population             59400 non-null  int64  \n",
      " 17  public_meeting         56066 non-null  object \n",
      " 18  recorded_by            59400 non-null  object \n",
      " 19  scheme_management      55523 non-null  object \n",
      " 20  scheme_name            31234 non-null  object \n",
      " 21  permit                 56344 non-null  object \n",
      " 22  construction_year      59400 non-null  int64  \n",
      " 23  extraction_type        59400 non-null  object \n",
      " 24  extraction_type_group  59400 non-null  object \n",
      " 25  extraction_type_class  59400 non-null  object \n",
      " 26  management             59400 non-null  object \n",
      " 27  management_group       59400 non-null  object \n",
      " 28  payment                59400 non-null  object \n",
      " 29  payment_type           59400 non-null  object \n",
      " 30  water_quality          59400 non-null  object \n",
      " 31  quality_group          59400 non-null  object \n",
      " 32  quantity               59400 non-null  object \n",
      " 33  quantity_group         59400 non-null  object \n",
      " 34  source                 59400 non-null  object \n",
      " 35  source_type            59400 non-null  object \n",
      " 36  source_class           59400 non-null  object \n",
      " 37  waterpoint_type        59400 non-null  object \n",
      " 38  waterpoint_type_group  59400 non-null  object \n",
      " 39  status_group           59400 non-null  object \n",
      "dtypes: float64(3), int64(6), object(31)\n",
      "memory usage: 18.6+ MB\n",
      "None\n"
     ]
    },
    {
     "data": {
      "text/html": [
       "<div>\n",
       "<style scoped>\n",
       "    .dataframe tbody tr th:only-of-type {\n",
       "        vertical-align: middle;\n",
       "    }\n",
       "\n",
       "    .dataframe tbody tr th {\n",
       "        vertical-align: top;\n",
       "    }\n",
       "\n",
       "    .dataframe thead th {\n",
       "        text-align: right;\n",
       "    }\n",
       "</style>\n",
       "<table border=\"1\" class=\"dataframe\">\n",
       "  <thead>\n",
       "    <tr style=\"text-align: right;\">\n",
       "      <th></th>\n",
       "      <th>amount_tsh</th>\n",
       "      <th>date_recorded</th>\n",
       "      <th>funder</th>\n",
       "      <th>gps_height</th>\n",
       "      <th>installer</th>\n",
       "      <th>longitude</th>\n",
       "      <th>latitude</th>\n",
       "      <th>wpt_name</th>\n",
       "      <th>num_private</th>\n",
       "      <th>basin</th>\n",
       "      <th>subvillage</th>\n",
       "      <th>region</th>\n",
       "      <th>region_code</th>\n",
       "      <th>district_code</th>\n",
       "      <th>lga</th>\n",
       "      <th>ward</th>\n",
       "      <th>population</th>\n",
       "      <th>public_meeting</th>\n",
       "      <th>recorded_by</th>\n",
       "      <th>scheme_management</th>\n",
       "      <th>scheme_name</th>\n",
       "      <th>permit</th>\n",
       "      <th>construction_year</th>\n",
       "      <th>extraction_type</th>\n",
       "      <th>extraction_type_group</th>\n",
       "      <th>extraction_type_class</th>\n",
       "      <th>management</th>\n",
       "      <th>management_group</th>\n",
       "      <th>payment</th>\n",
       "      <th>payment_type</th>\n",
       "      <th>water_quality</th>\n",
       "      <th>quality_group</th>\n",
       "      <th>quantity</th>\n",
       "      <th>quantity_group</th>\n",
       "      <th>source</th>\n",
       "      <th>source_type</th>\n",
       "      <th>source_class</th>\n",
       "      <th>waterpoint_type</th>\n",
       "      <th>waterpoint_type_group</th>\n",
       "      <th>status_group</th>\n",
       "    </tr>\n",
       "    <tr>\n",
       "      <th>id</th>\n",
       "      <th></th>\n",
       "      <th></th>\n",
       "      <th></th>\n",
       "      <th></th>\n",
       "      <th></th>\n",
       "      <th></th>\n",
       "      <th></th>\n",
       "      <th></th>\n",
       "      <th></th>\n",
       "      <th></th>\n",
       "      <th></th>\n",
       "      <th></th>\n",
       "      <th></th>\n",
       "      <th></th>\n",
       "      <th></th>\n",
       "      <th></th>\n",
       "      <th></th>\n",
       "      <th></th>\n",
       "      <th></th>\n",
       "      <th></th>\n",
       "      <th></th>\n",
       "      <th></th>\n",
       "      <th></th>\n",
       "      <th></th>\n",
       "      <th></th>\n",
       "      <th></th>\n",
       "      <th></th>\n",
       "      <th></th>\n",
       "      <th></th>\n",
       "      <th></th>\n",
       "      <th></th>\n",
       "      <th></th>\n",
       "      <th></th>\n",
       "      <th></th>\n",
       "      <th></th>\n",
       "      <th></th>\n",
       "      <th></th>\n",
       "      <th></th>\n",
       "      <th></th>\n",
       "      <th></th>\n",
       "    </tr>\n",
       "  </thead>\n",
       "  <tbody>\n",
       "    <tr>\n",
       "      <th>69572</th>\n",
       "      <td>6000.0</td>\n",
       "      <td>2011-03-14</td>\n",
       "      <td>Roman</td>\n",
       "      <td>1390</td>\n",
       "      <td>Roman</td>\n",
       "      <td>34.938093</td>\n",
       "      <td>-9.856322</td>\n",
       "      <td>none</td>\n",
       "      <td>0</td>\n",
       "      <td>Lake Nyasa</td>\n",
       "      <td>Mnyusi B</td>\n",
       "      <td>Iringa</td>\n",
       "      <td>11</td>\n",
       "      <td>5</td>\n",
       "      <td>Ludewa</td>\n",
       "      <td>Mundindi</td>\n",
       "      <td>109</td>\n",
       "      <td>True</td>\n",
       "      <td>GeoData Consultants Ltd</td>\n",
       "      <td>VWC</td>\n",
       "      <td>Roman</td>\n",
       "      <td>False</td>\n",
       "      <td>1999</td>\n",
       "      <td>gravity</td>\n",
       "      <td>gravity</td>\n",
       "      <td>gravity</td>\n",
       "      <td>vwc</td>\n",
       "      <td>user-group</td>\n",
       "      <td>pay annually</td>\n",
       "      <td>annually</td>\n",
       "      <td>soft</td>\n",
       "      <td>good</td>\n",
       "      <td>enough</td>\n",
       "      <td>enough</td>\n",
       "      <td>spring</td>\n",
       "      <td>spring</td>\n",
       "      <td>groundwater</td>\n",
       "      <td>communal standpipe</td>\n",
       "      <td>communal standpipe</td>\n",
       "      <td>functional</td>\n",
       "    </tr>\n",
       "    <tr>\n",
       "      <th>8776</th>\n",
       "      <td>0.0</td>\n",
       "      <td>2013-03-06</td>\n",
       "      <td>Grumeti</td>\n",
       "      <td>1399</td>\n",
       "      <td>GRUMETI</td>\n",
       "      <td>34.698766</td>\n",
       "      <td>-2.147466</td>\n",
       "      <td>Zahanati</td>\n",
       "      <td>0</td>\n",
       "      <td>Lake Victoria</td>\n",
       "      <td>Nyamara</td>\n",
       "      <td>Mara</td>\n",
       "      <td>20</td>\n",
       "      <td>2</td>\n",
       "      <td>Serengeti</td>\n",
       "      <td>Natta</td>\n",
       "      <td>280</td>\n",
       "      <td>NaN</td>\n",
       "      <td>GeoData Consultants Ltd</td>\n",
       "      <td>Other</td>\n",
       "      <td>NaN</td>\n",
       "      <td>True</td>\n",
       "      <td>2010</td>\n",
       "      <td>gravity</td>\n",
       "      <td>gravity</td>\n",
       "      <td>gravity</td>\n",
       "      <td>wug</td>\n",
       "      <td>user-group</td>\n",
       "      <td>never pay</td>\n",
       "      <td>never pay</td>\n",
       "      <td>soft</td>\n",
       "      <td>good</td>\n",
       "      <td>insufficient</td>\n",
       "      <td>insufficient</td>\n",
       "      <td>rainwater harvesting</td>\n",
       "      <td>rainwater harvesting</td>\n",
       "      <td>surface</td>\n",
       "      <td>communal standpipe</td>\n",
       "      <td>communal standpipe</td>\n",
       "      <td>functional</td>\n",
       "    </tr>\n",
       "    <tr>\n",
       "      <th>34310</th>\n",
       "      <td>25.0</td>\n",
       "      <td>2013-02-25</td>\n",
       "      <td>Lottery Club</td>\n",
       "      <td>686</td>\n",
       "      <td>World vision</td>\n",
       "      <td>37.460664</td>\n",
       "      <td>-3.821329</td>\n",
       "      <td>Kwa Mahundi</td>\n",
       "      <td>0</td>\n",
       "      <td>Pangani</td>\n",
       "      <td>Majengo</td>\n",
       "      <td>Manyara</td>\n",
       "      <td>21</td>\n",
       "      <td>4</td>\n",
       "      <td>Simanjiro</td>\n",
       "      <td>Ngorika</td>\n",
       "      <td>250</td>\n",
       "      <td>True</td>\n",
       "      <td>GeoData Consultants Ltd</td>\n",
       "      <td>VWC</td>\n",
       "      <td>Nyumba ya mungu pipe scheme</td>\n",
       "      <td>True</td>\n",
       "      <td>2009</td>\n",
       "      <td>gravity</td>\n",
       "      <td>gravity</td>\n",
       "      <td>gravity</td>\n",
       "      <td>vwc</td>\n",
       "      <td>user-group</td>\n",
       "      <td>pay per bucket</td>\n",
       "      <td>per bucket</td>\n",
       "      <td>soft</td>\n",
       "      <td>good</td>\n",
       "      <td>enough</td>\n",
       "      <td>enough</td>\n",
       "      <td>dam</td>\n",
       "      <td>dam</td>\n",
       "      <td>surface</td>\n",
       "      <td>communal standpipe multiple</td>\n",
       "      <td>communal standpipe</td>\n",
       "      <td>functional</td>\n",
       "    </tr>\n",
       "    <tr>\n",
       "      <th>67743</th>\n",
       "      <td>0.0</td>\n",
       "      <td>2013-01-28</td>\n",
       "      <td>Unicef</td>\n",
       "      <td>263</td>\n",
       "      <td>UNICEF</td>\n",
       "      <td>38.486161</td>\n",
       "      <td>-11.155298</td>\n",
       "      <td>Zahanati Ya Nanyumbu</td>\n",
       "      <td>0</td>\n",
       "      <td>Ruvuma / Southern Coast</td>\n",
       "      <td>Mahakamani</td>\n",
       "      <td>Mtwara</td>\n",
       "      <td>90</td>\n",
       "      <td>63</td>\n",
       "      <td>Nanyumbu</td>\n",
       "      <td>Nanyumbu</td>\n",
       "      <td>58</td>\n",
       "      <td>True</td>\n",
       "      <td>GeoData Consultants Ltd</td>\n",
       "      <td>VWC</td>\n",
       "      <td>NaN</td>\n",
       "      <td>True</td>\n",
       "      <td>1986</td>\n",
       "      <td>submersible</td>\n",
       "      <td>submersible</td>\n",
       "      <td>submersible</td>\n",
       "      <td>vwc</td>\n",
       "      <td>user-group</td>\n",
       "      <td>never pay</td>\n",
       "      <td>never pay</td>\n",
       "      <td>soft</td>\n",
       "      <td>good</td>\n",
       "      <td>dry</td>\n",
       "      <td>dry</td>\n",
       "      <td>machine dbh</td>\n",
       "      <td>borehole</td>\n",
       "      <td>groundwater</td>\n",
       "      <td>communal standpipe multiple</td>\n",
       "      <td>communal standpipe</td>\n",
       "      <td>non functional</td>\n",
       "    </tr>\n",
       "    <tr>\n",
       "      <th>19728</th>\n",
       "      <td>0.0</td>\n",
       "      <td>2011-07-13</td>\n",
       "      <td>Action In A</td>\n",
       "      <td>0</td>\n",
       "      <td>Artisan</td>\n",
       "      <td>31.130847</td>\n",
       "      <td>-1.825359</td>\n",
       "      <td>Shuleni</td>\n",
       "      <td>0</td>\n",
       "      <td>Lake Victoria</td>\n",
       "      <td>Kyanyamisa</td>\n",
       "      <td>Kagera</td>\n",
       "      <td>18</td>\n",
       "      <td>1</td>\n",
       "      <td>Karagwe</td>\n",
       "      <td>Nyakasimbi</td>\n",
       "      <td>0</td>\n",
       "      <td>True</td>\n",
       "      <td>GeoData Consultants Ltd</td>\n",
       "      <td>NaN</td>\n",
       "      <td>NaN</td>\n",
       "      <td>True</td>\n",
       "      <td>0</td>\n",
       "      <td>gravity</td>\n",
       "      <td>gravity</td>\n",
       "      <td>gravity</td>\n",
       "      <td>other</td>\n",
       "      <td>other</td>\n",
       "      <td>never pay</td>\n",
       "      <td>never pay</td>\n",
       "      <td>soft</td>\n",
       "      <td>good</td>\n",
       "      <td>seasonal</td>\n",
       "      <td>seasonal</td>\n",
       "      <td>rainwater harvesting</td>\n",
       "      <td>rainwater harvesting</td>\n",
       "      <td>surface</td>\n",
       "      <td>communal standpipe</td>\n",
       "      <td>communal standpipe</td>\n",
       "      <td>functional</td>\n",
       "    </tr>\n",
       "  </tbody>\n",
       "</table>\n",
       "</div>"
      ],
      "text/plain": [
       "       amount_tsh date_recorded  ... waterpoint_type_group    status_group\n",
       "id                               ...                                      \n",
       "69572      6000.0    2011-03-14  ...    communal standpipe      functional\n",
       "8776          0.0    2013-03-06  ...    communal standpipe      functional\n",
       "34310        25.0    2013-02-25  ...    communal standpipe      functional\n",
       "67743         0.0    2013-01-28  ...    communal standpipe  non functional\n",
       "19728         0.0    2011-07-13  ...    communal standpipe      functional\n",
       "\n",
       "[5 rows x 40 columns]"
      ]
     },
     "execution_count": 12,
     "metadata": {},
     "output_type": "execute_result"
    }
   ],
   "source": [
    "merged_df = check_shape_and_info(merged_df)\n",
    "merged_df.head()"
   ]
  },
  {
   "cell_type": "markdown",
   "metadata": {},
   "source": [
    "#### 2.2 Data Cleaning\n",
    "##### a) Dimensionality Reduction\n",
    "\n",
    "To enhance the model's performance, we can leverage feature selection techniques. By analyzing feature descriptions from the above **df**, we can identify features that likely have minimal impact on predicting well condition. These features will be removed from the DataFrame to create a more streamlined dataset for model training. The specific features targeted for removal include:\n",
    "* funder - Who funded the well\n",
    "* date_recorded - The date the row was entered\n",
    "* recorded_by - Group entering this row of data\n",
    "* wpt_name - Name of the waterpoint if there is one\n",
    "* installer - Organization that installed the well\n"
   ]
  },
  {
   "cell_type": "code",
   "execution_count": 13,
   "metadata": {},
   "outputs": [
    {
     "data": {
      "text/html": [
       "<div>\n",
       "<style scoped>\n",
       "    .dataframe tbody tr th:only-of-type {\n",
       "        vertical-align: middle;\n",
       "    }\n",
       "\n",
       "    .dataframe tbody tr th {\n",
       "        vertical-align: top;\n",
       "    }\n",
       "\n",
       "    .dataframe thead th {\n",
       "        text-align: right;\n",
       "    }\n",
       "</style>\n",
       "<table border=\"1\" class=\"dataframe\">\n",
       "  <thead>\n",
       "    <tr style=\"text-align: right;\">\n",
       "      <th></th>\n",
       "      <th>amount_tsh</th>\n",
       "      <th>gps_height</th>\n",
       "      <th>longitude</th>\n",
       "      <th>latitude</th>\n",
       "      <th>num_private</th>\n",
       "      <th>basin</th>\n",
       "      <th>subvillage</th>\n",
       "      <th>region</th>\n",
       "      <th>region_code</th>\n",
       "      <th>district_code</th>\n",
       "      <th>lga</th>\n",
       "      <th>ward</th>\n",
       "      <th>population</th>\n",
       "      <th>public_meeting</th>\n",
       "      <th>scheme_management</th>\n",
       "      <th>scheme_name</th>\n",
       "      <th>permit</th>\n",
       "      <th>construction_year</th>\n",
       "      <th>extraction_type</th>\n",
       "      <th>extraction_type_group</th>\n",
       "      <th>extraction_type_class</th>\n",
       "      <th>management</th>\n",
       "      <th>management_group</th>\n",
       "      <th>payment</th>\n",
       "      <th>payment_type</th>\n",
       "      <th>water_quality</th>\n",
       "      <th>quality_group</th>\n",
       "      <th>quantity</th>\n",
       "      <th>quantity_group</th>\n",
       "      <th>source</th>\n",
       "      <th>source_type</th>\n",
       "      <th>source_class</th>\n",
       "      <th>waterpoint_type</th>\n",
       "      <th>waterpoint_type_group</th>\n",
       "      <th>status_group</th>\n",
       "    </tr>\n",
       "    <tr>\n",
       "      <th>id</th>\n",
       "      <th></th>\n",
       "      <th></th>\n",
       "      <th></th>\n",
       "      <th></th>\n",
       "      <th></th>\n",
       "      <th></th>\n",
       "      <th></th>\n",
       "      <th></th>\n",
       "      <th></th>\n",
       "      <th></th>\n",
       "      <th></th>\n",
       "      <th></th>\n",
       "      <th></th>\n",
       "      <th></th>\n",
       "      <th></th>\n",
       "      <th></th>\n",
       "      <th></th>\n",
       "      <th></th>\n",
       "      <th></th>\n",
       "      <th></th>\n",
       "      <th></th>\n",
       "      <th></th>\n",
       "      <th></th>\n",
       "      <th></th>\n",
       "      <th></th>\n",
       "      <th></th>\n",
       "      <th></th>\n",
       "      <th></th>\n",
       "      <th></th>\n",
       "      <th></th>\n",
       "      <th></th>\n",
       "      <th></th>\n",
       "      <th></th>\n",
       "      <th></th>\n",
       "      <th></th>\n",
       "    </tr>\n",
       "  </thead>\n",
       "  <tbody>\n",
       "    <tr>\n",
       "      <th>69572</th>\n",
       "      <td>6000.0</td>\n",
       "      <td>1390</td>\n",
       "      <td>34.938093</td>\n",
       "      <td>-9.856322</td>\n",
       "      <td>0</td>\n",
       "      <td>Lake Nyasa</td>\n",
       "      <td>Mnyusi B</td>\n",
       "      <td>Iringa</td>\n",
       "      <td>11</td>\n",
       "      <td>5</td>\n",
       "      <td>Ludewa</td>\n",
       "      <td>Mundindi</td>\n",
       "      <td>109</td>\n",
       "      <td>True</td>\n",
       "      <td>VWC</td>\n",
       "      <td>Roman</td>\n",
       "      <td>False</td>\n",
       "      <td>1999</td>\n",
       "      <td>gravity</td>\n",
       "      <td>gravity</td>\n",
       "      <td>gravity</td>\n",
       "      <td>vwc</td>\n",
       "      <td>user-group</td>\n",
       "      <td>pay annually</td>\n",
       "      <td>annually</td>\n",
       "      <td>soft</td>\n",
       "      <td>good</td>\n",
       "      <td>enough</td>\n",
       "      <td>enough</td>\n",
       "      <td>spring</td>\n",
       "      <td>spring</td>\n",
       "      <td>groundwater</td>\n",
       "      <td>communal standpipe</td>\n",
       "      <td>communal standpipe</td>\n",
       "      <td>functional</td>\n",
       "    </tr>\n",
       "    <tr>\n",
       "      <th>8776</th>\n",
       "      <td>0.0</td>\n",
       "      <td>1399</td>\n",
       "      <td>34.698766</td>\n",
       "      <td>-2.147466</td>\n",
       "      <td>0</td>\n",
       "      <td>Lake Victoria</td>\n",
       "      <td>Nyamara</td>\n",
       "      <td>Mara</td>\n",
       "      <td>20</td>\n",
       "      <td>2</td>\n",
       "      <td>Serengeti</td>\n",
       "      <td>Natta</td>\n",
       "      <td>280</td>\n",
       "      <td>NaN</td>\n",
       "      <td>Other</td>\n",
       "      <td>NaN</td>\n",
       "      <td>True</td>\n",
       "      <td>2010</td>\n",
       "      <td>gravity</td>\n",
       "      <td>gravity</td>\n",
       "      <td>gravity</td>\n",
       "      <td>wug</td>\n",
       "      <td>user-group</td>\n",
       "      <td>never pay</td>\n",
       "      <td>never pay</td>\n",
       "      <td>soft</td>\n",
       "      <td>good</td>\n",
       "      <td>insufficient</td>\n",
       "      <td>insufficient</td>\n",
       "      <td>rainwater harvesting</td>\n",
       "      <td>rainwater harvesting</td>\n",
       "      <td>surface</td>\n",
       "      <td>communal standpipe</td>\n",
       "      <td>communal standpipe</td>\n",
       "      <td>functional</td>\n",
       "    </tr>\n",
       "    <tr>\n",
       "      <th>34310</th>\n",
       "      <td>25.0</td>\n",
       "      <td>686</td>\n",
       "      <td>37.460664</td>\n",
       "      <td>-3.821329</td>\n",
       "      <td>0</td>\n",
       "      <td>Pangani</td>\n",
       "      <td>Majengo</td>\n",
       "      <td>Manyara</td>\n",
       "      <td>21</td>\n",
       "      <td>4</td>\n",
       "      <td>Simanjiro</td>\n",
       "      <td>Ngorika</td>\n",
       "      <td>250</td>\n",
       "      <td>True</td>\n",
       "      <td>VWC</td>\n",
       "      <td>Nyumba ya mungu pipe scheme</td>\n",
       "      <td>True</td>\n",
       "      <td>2009</td>\n",
       "      <td>gravity</td>\n",
       "      <td>gravity</td>\n",
       "      <td>gravity</td>\n",
       "      <td>vwc</td>\n",
       "      <td>user-group</td>\n",
       "      <td>pay per bucket</td>\n",
       "      <td>per bucket</td>\n",
       "      <td>soft</td>\n",
       "      <td>good</td>\n",
       "      <td>enough</td>\n",
       "      <td>enough</td>\n",
       "      <td>dam</td>\n",
       "      <td>dam</td>\n",
       "      <td>surface</td>\n",
       "      <td>communal standpipe multiple</td>\n",
       "      <td>communal standpipe</td>\n",
       "      <td>functional</td>\n",
       "    </tr>\n",
       "    <tr>\n",
       "      <th>67743</th>\n",
       "      <td>0.0</td>\n",
       "      <td>263</td>\n",
       "      <td>38.486161</td>\n",
       "      <td>-11.155298</td>\n",
       "      <td>0</td>\n",
       "      <td>Ruvuma / Southern Coast</td>\n",
       "      <td>Mahakamani</td>\n",
       "      <td>Mtwara</td>\n",
       "      <td>90</td>\n",
       "      <td>63</td>\n",
       "      <td>Nanyumbu</td>\n",
       "      <td>Nanyumbu</td>\n",
       "      <td>58</td>\n",
       "      <td>True</td>\n",
       "      <td>VWC</td>\n",
       "      <td>NaN</td>\n",
       "      <td>True</td>\n",
       "      <td>1986</td>\n",
       "      <td>submersible</td>\n",
       "      <td>submersible</td>\n",
       "      <td>submersible</td>\n",
       "      <td>vwc</td>\n",
       "      <td>user-group</td>\n",
       "      <td>never pay</td>\n",
       "      <td>never pay</td>\n",
       "      <td>soft</td>\n",
       "      <td>good</td>\n",
       "      <td>dry</td>\n",
       "      <td>dry</td>\n",
       "      <td>machine dbh</td>\n",
       "      <td>borehole</td>\n",
       "      <td>groundwater</td>\n",
       "      <td>communal standpipe multiple</td>\n",
       "      <td>communal standpipe</td>\n",
       "      <td>non functional</td>\n",
       "    </tr>\n",
       "    <tr>\n",
       "      <th>19728</th>\n",
       "      <td>0.0</td>\n",
       "      <td>0</td>\n",
       "      <td>31.130847</td>\n",
       "      <td>-1.825359</td>\n",
       "      <td>0</td>\n",
       "      <td>Lake Victoria</td>\n",
       "      <td>Kyanyamisa</td>\n",
       "      <td>Kagera</td>\n",
       "      <td>18</td>\n",
       "      <td>1</td>\n",
       "      <td>Karagwe</td>\n",
       "      <td>Nyakasimbi</td>\n",
       "      <td>0</td>\n",
       "      <td>True</td>\n",
       "      <td>NaN</td>\n",
       "      <td>NaN</td>\n",
       "      <td>True</td>\n",
       "      <td>0</td>\n",
       "      <td>gravity</td>\n",
       "      <td>gravity</td>\n",
       "      <td>gravity</td>\n",
       "      <td>other</td>\n",
       "      <td>other</td>\n",
       "      <td>never pay</td>\n",
       "      <td>never pay</td>\n",
       "      <td>soft</td>\n",
       "      <td>good</td>\n",
       "      <td>seasonal</td>\n",
       "      <td>seasonal</td>\n",
       "      <td>rainwater harvesting</td>\n",
       "      <td>rainwater harvesting</td>\n",
       "      <td>surface</td>\n",
       "      <td>communal standpipe</td>\n",
       "      <td>communal standpipe</td>\n",
       "      <td>functional</td>\n",
       "    </tr>\n",
       "  </tbody>\n",
       "</table>\n",
       "</div>"
      ],
      "text/plain": [
       "       amount_tsh  gps_height  ...  waterpoint_type_group    status_group\n",
       "id                             ...                                       \n",
       "69572      6000.0        1390  ...     communal standpipe      functional\n",
       "8776          0.0        1399  ...     communal standpipe      functional\n",
       "34310        25.0         686  ...     communal standpipe      functional\n",
       "67743         0.0         263  ...     communal standpipe  non functional\n",
       "19728         0.0           0  ...     communal standpipe      functional\n",
       "\n",
       "[5 rows x 35 columns]"
      ]
     },
     "execution_count": 13,
     "metadata": {},
     "output_type": "execute_result"
    }
   ],
   "source": [
    "#dropping the columns that are not needed in the dataset\n",
    "merged_df.drop(['funder', 'installer', 'date_recorded', 'recorded_by', 'wpt_name',], axis=1, inplace=True)\n",
    "merged_df.head()"
   ]
  },
  {
   "cell_type": "code",
   "execution_count": 14,
   "metadata": {},
   "outputs": [
    {
     "name": "stdout",
     "output_type": "stream",
     "text": [
      "Shape of the DataFrame: (59400, 35)\n",
      "<class 'pandas.core.frame.DataFrame'>\n",
      "Int64Index: 59400 entries, 69572 to 26348\n",
      "Data columns (total 35 columns):\n",
      " #   Column                 Non-Null Count  Dtype  \n",
      "---  ------                 --------------  -----  \n",
      " 0   amount_tsh             59400 non-null  float64\n",
      " 1   gps_height             59400 non-null  int64  \n",
      " 2   longitude              59400 non-null  float64\n",
      " 3   latitude               59400 non-null  float64\n",
      " 4   num_private            59400 non-null  int64  \n",
      " 5   basin                  59400 non-null  object \n",
      " 6   subvillage             59029 non-null  object \n",
      " 7   region                 59400 non-null  object \n",
      " 8   region_code            59400 non-null  int64  \n",
      " 9   district_code          59400 non-null  int64  \n",
      " 10  lga                    59400 non-null  object \n",
      " 11  ward                   59400 non-null  object \n",
      " 12  population             59400 non-null  int64  \n",
      " 13  public_meeting         56066 non-null  object \n",
      " 14  scheme_management      55523 non-null  object \n",
      " 15  scheme_name            31234 non-null  object \n",
      " 16  permit                 56344 non-null  object \n",
      " 17  construction_year      59400 non-null  int64  \n",
      " 18  extraction_type        59400 non-null  object \n",
      " 19  extraction_type_group  59400 non-null  object \n",
      " 20  extraction_type_class  59400 non-null  object \n",
      " 21  management             59400 non-null  object \n",
      " 22  management_group       59400 non-null  object \n",
      " 23  payment                59400 non-null  object \n",
      " 24  payment_type           59400 non-null  object \n",
      " 25  water_quality          59400 non-null  object \n",
      " 26  quality_group          59400 non-null  object \n",
      " 27  quantity               59400 non-null  object \n",
      " 28  quantity_group         59400 non-null  object \n",
      " 29  source                 59400 non-null  object \n",
      " 30  source_type            59400 non-null  object \n",
      " 31  source_class           59400 non-null  object \n",
      " 32  waterpoint_type        59400 non-null  object \n",
      " 33  waterpoint_type_group  59400 non-null  object \n",
      " 34  status_group           59400 non-null  object \n",
      "dtypes: float64(3), int64(6), object(26)\n",
      "memory usage: 16.3+ MB\n",
      "None\n"
     ]
    },
    {
     "data": {
      "text/html": [
       "<div>\n",
       "<style scoped>\n",
       "    .dataframe tbody tr th:only-of-type {\n",
       "        vertical-align: middle;\n",
       "    }\n",
       "\n",
       "    .dataframe tbody tr th {\n",
       "        vertical-align: top;\n",
       "    }\n",
       "\n",
       "    .dataframe thead th {\n",
       "        text-align: right;\n",
       "    }\n",
       "</style>\n",
       "<table border=\"1\" class=\"dataframe\">\n",
       "  <thead>\n",
       "    <tr style=\"text-align: right;\">\n",
       "      <th></th>\n",
       "      <th>amount_tsh</th>\n",
       "      <th>gps_height</th>\n",
       "      <th>longitude</th>\n",
       "      <th>latitude</th>\n",
       "      <th>num_private</th>\n",
       "      <th>basin</th>\n",
       "      <th>subvillage</th>\n",
       "      <th>region</th>\n",
       "      <th>region_code</th>\n",
       "      <th>district_code</th>\n",
       "      <th>lga</th>\n",
       "      <th>ward</th>\n",
       "      <th>population</th>\n",
       "      <th>public_meeting</th>\n",
       "      <th>scheme_management</th>\n",
       "      <th>scheme_name</th>\n",
       "      <th>permit</th>\n",
       "      <th>construction_year</th>\n",
       "      <th>extraction_type</th>\n",
       "      <th>extraction_type_group</th>\n",
       "      <th>extraction_type_class</th>\n",
       "      <th>management</th>\n",
       "      <th>management_group</th>\n",
       "      <th>payment</th>\n",
       "      <th>payment_type</th>\n",
       "      <th>water_quality</th>\n",
       "      <th>quality_group</th>\n",
       "      <th>quantity</th>\n",
       "      <th>quantity_group</th>\n",
       "      <th>source</th>\n",
       "      <th>source_type</th>\n",
       "      <th>source_class</th>\n",
       "      <th>waterpoint_type</th>\n",
       "      <th>waterpoint_type_group</th>\n",
       "      <th>status_group</th>\n",
       "    </tr>\n",
       "    <tr>\n",
       "      <th>id</th>\n",
       "      <th></th>\n",
       "      <th></th>\n",
       "      <th></th>\n",
       "      <th></th>\n",
       "      <th></th>\n",
       "      <th></th>\n",
       "      <th></th>\n",
       "      <th></th>\n",
       "      <th></th>\n",
       "      <th></th>\n",
       "      <th></th>\n",
       "      <th></th>\n",
       "      <th></th>\n",
       "      <th></th>\n",
       "      <th></th>\n",
       "      <th></th>\n",
       "      <th></th>\n",
       "      <th></th>\n",
       "      <th></th>\n",
       "      <th></th>\n",
       "      <th></th>\n",
       "      <th></th>\n",
       "      <th></th>\n",
       "      <th></th>\n",
       "      <th></th>\n",
       "      <th></th>\n",
       "      <th></th>\n",
       "      <th></th>\n",
       "      <th></th>\n",
       "      <th></th>\n",
       "      <th></th>\n",
       "      <th></th>\n",
       "      <th></th>\n",
       "      <th></th>\n",
       "      <th></th>\n",
       "    </tr>\n",
       "  </thead>\n",
       "  <tbody>\n",
       "    <tr>\n",
       "      <th>69572</th>\n",
       "      <td>6000.0</td>\n",
       "      <td>1390</td>\n",
       "      <td>34.938093</td>\n",
       "      <td>-9.856322</td>\n",
       "      <td>0</td>\n",
       "      <td>Lake Nyasa</td>\n",
       "      <td>Mnyusi B</td>\n",
       "      <td>Iringa</td>\n",
       "      <td>11</td>\n",
       "      <td>5</td>\n",
       "      <td>Ludewa</td>\n",
       "      <td>Mundindi</td>\n",
       "      <td>109</td>\n",
       "      <td>True</td>\n",
       "      <td>VWC</td>\n",
       "      <td>Roman</td>\n",
       "      <td>False</td>\n",
       "      <td>1999</td>\n",
       "      <td>gravity</td>\n",
       "      <td>gravity</td>\n",
       "      <td>gravity</td>\n",
       "      <td>vwc</td>\n",
       "      <td>user-group</td>\n",
       "      <td>pay annually</td>\n",
       "      <td>annually</td>\n",
       "      <td>soft</td>\n",
       "      <td>good</td>\n",
       "      <td>enough</td>\n",
       "      <td>enough</td>\n",
       "      <td>spring</td>\n",
       "      <td>spring</td>\n",
       "      <td>groundwater</td>\n",
       "      <td>communal standpipe</td>\n",
       "      <td>communal standpipe</td>\n",
       "      <td>functional</td>\n",
       "    </tr>\n",
       "    <tr>\n",
       "      <th>8776</th>\n",
       "      <td>0.0</td>\n",
       "      <td>1399</td>\n",
       "      <td>34.698766</td>\n",
       "      <td>-2.147466</td>\n",
       "      <td>0</td>\n",
       "      <td>Lake Victoria</td>\n",
       "      <td>Nyamara</td>\n",
       "      <td>Mara</td>\n",
       "      <td>20</td>\n",
       "      <td>2</td>\n",
       "      <td>Serengeti</td>\n",
       "      <td>Natta</td>\n",
       "      <td>280</td>\n",
       "      <td>NaN</td>\n",
       "      <td>Other</td>\n",
       "      <td>NaN</td>\n",
       "      <td>True</td>\n",
       "      <td>2010</td>\n",
       "      <td>gravity</td>\n",
       "      <td>gravity</td>\n",
       "      <td>gravity</td>\n",
       "      <td>wug</td>\n",
       "      <td>user-group</td>\n",
       "      <td>never pay</td>\n",
       "      <td>never pay</td>\n",
       "      <td>soft</td>\n",
       "      <td>good</td>\n",
       "      <td>insufficient</td>\n",
       "      <td>insufficient</td>\n",
       "      <td>rainwater harvesting</td>\n",
       "      <td>rainwater harvesting</td>\n",
       "      <td>surface</td>\n",
       "      <td>communal standpipe</td>\n",
       "      <td>communal standpipe</td>\n",
       "      <td>functional</td>\n",
       "    </tr>\n",
       "    <tr>\n",
       "      <th>34310</th>\n",
       "      <td>25.0</td>\n",
       "      <td>686</td>\n",
       "      <td>37.460664</td>\n",
       "      <td>-3.821329</td>\n",
       "      <td>0</td>\n",
       "      <td>Pangani</td>\n",
       "      <td>Majengo</td>\n",
       "      <td>Manyara</td>\n",
       "      <td>21</td>\n",
       "      <td>4</td>\n",
       "      <td>Simanjiro</td>\n",
       "      <td>Ngorika</td>\n",
       "      <td>250</td>\n",
       "      <td>True</td>\n",
       "      <td>VWC</td>\n",
       "      <td>Nyumba ya mungu pipe scheme</td>\n",
       "      <td>True</td>\n",
       "      <td>2009</td>\n",
       "      <td>gravity</td>\n",
       "      <td>gravity</td>\n",
       "      <td>gravity</td>\n",
       "      <td>vwc</td>\n",
       "      <td>user-group</td>\n",
       "      <td>pay per bucket</td>\n",
       "      <td>per bucket</td>\n",
       "      <td>soft</td>\n",
       "      <td>good</td>\n",
       "      <td>enough</td>\n",
       "      <td>enough</td>\n",
       "      <td>dam</td>\n",
       "      <td>dam</td>\n",
       "      <td>surface</td>\n",
       "      <td>communal standpipe multiple</td>\n",
       "      <td>communal standpipe</td>\n",
       "      <td>functional</td>\n",
       "    </tr>\n",
       "    <tr>\n",
       "      <th>67743</th>\n",
       "      <td>0.0</td>\n",
       "      <td>263</td>\n",
       "      <td>38.486161</td>\n",
       "      <td>-11.155298</td>\n",
       "      <td>0</td>\n",
       "      <td>Ruvuma / Southern Coast</td>\n",
       "      <td>Mahakamani</td>\n",
       "      <td>Mtwara</td>\n",
       "      <td>90</td>\n",
       "      <td>63</td>\n",
       "      <td>Nanyumbu</td>\n",
       "      <td>Nanyumbu</td>\n",
       "      <td>58</td>\n",
       "      <td>True</td>\n",
       "      <td>VWC</td>\n",
       "      <td>NaN</td>\n",
       "      <td>True</td>\n",
       "      <td>1986</td>\n",
       "      <td>submersible</td>\n",
       "      <td>submersible</td>\n",
       "      <td>submersible</td>\n",
       "      <td>vwc</td>\n",
       "      <td>user-group</td>\n",
       "      <td>never pay</td>\n",
       "      <td>never pay</td>\n",
       "      <td>soft</td>\n",
       "      <td>good</td>\n",
       "      <td>dry</td>\n",
       "      <td>dry</td>\n",
       "      <td>machine dbh</td>\n",
       "      <td>borehole</td>\n",
       "      <td>groundwater</td>\n",
       "      <td>communal standpipe multiple</td>\n",
       "      <td>communal standpipe</td>\n",
       "      <td>non functional</td>\n",
       "    </tr>\n",
       "    <tr>\n",
       "      <th>19728</th>\n",
       "      <td>0.0</td>\n",
       "      <td>0</td>\n",
       "      <td>31.130847</td>\n",
       "      <td>-1.825359</td>\n",
       "      <td>0</td>\n",
       "      <td>Lake Victoria</td>\n",
       "      <td>Kyanyamisa</td>\n",
       "      <td>Kagera</td>\n",
       "      <td>18</td>\n",
       "      <td>1</td>\n",
       "      <td>Karagwe</td>\n",
       "      <td>Nyakasimbi</td>\n",
       "      <td>0</td>\n",
       "      <td>True</td>\n",
       "      <td>NaN</td>\n",
       "      <td>NaN</td>\n",
       "      <td>True</td>\n",
       "      <td>0</td>\n",
       "      <td>gravity</td>\n",
       "      <td>gravity</td>\n",
       "      <td>gravity</td>\n",
       "      <td>other</td>\n",
       "      <td>other</td>\n",
       "      <td>never pay</td>\n",
       "      <td>never pay</td>\n",
       "      <td>soft</td>\n",
       "      <td>good</td>\n",
       "      <td>seasonal</td>\n",
       "      <td>seasonal</td>\n",
       "      <td>rainwater harvesting</td>\n",
       "      <td>rainwater harvesting</td>\n",
       "      <td>surface</td>\n",
       "      <td>communal standpipe</td>\n",
       "      <td>communal standpipe</td>\n",
       "      <td>functional</td>\n",
       "    </tr>\n",
       "  </tbody>\n",
       "</table>\n",
       "</div>"
      ],
      "text/plain": [
       "       amount_tsh  gps_height  ...  waterpoint_type_group    status_group\n",
       "id                             ...                                       \n",
       "69572      6000.0        1390  ...     communal standpipe      functional\n",
       "8776          0.0        1399  ...     communal standpipe      functional\n",
       "34310        25.0         686  ...     communal standpipe      functional\n",
       "67743         0.0         263  ...     communal standpipe  non functional\n",
       "19728         0.0           0  ...     communal standpipe      functional\n",
       "\n",
       "[5 rows x 35 columns]"
      ]
     },
     "execution_count": 14,
     "metadata": {},
     "output_type": "execute_result"
    }
   ],
   "source": [
    "#checking for the shape and information about the new dataset\n",
    "merged_df = check_shape_and_info(merged_df)\n",
    "merged_df.head()"
   ]
  },
  {
   "cell_type": "markdown",
   "metadata": {},
   "source": [
    " *The 5 features have been dropped as per the number of columns in the current dataframe.*\n",
    "\n",
    "In reviewing the data, I've identified columns with similar names. To ensure data integrity and optimize the DataFrame structure, I will conduct further analysis to determine if these columns contain identical values. If duplicates are found, we can safely remove them, resulting in a more concise and efficient DataFrame for further analysis. The columns I will investigate for potential duplication include:\n",
    "\n",
    "- extraction_type - The kind of extraction the waterpoint uses\n",
    "- extraction_type_group - The kind of extraction the waterpoint uses\n",
    "- extraction_type_class - The kind of extraction the waterpoint uses\n",
    "\n",
    "\n",
    "<li> source - The source of the water\n",
    "<li> source_type - The source of the water\n",
    "<li> source_class - The source of the water\n",
    "\n",
    "\n",
    "- waterpoint_type - The kind of waterpoint\n",
    "- waterpoint_type_group - The kind of waterpoint\n",
    "\n",
    "\n",
    "<li> scheme_management - Who operates the waterpoint\n",
    "<li> scheme_name - Who operates the waterpoint\n",
    "<li> management - How the waterpoint is managed\n",
    "<LI> management_group - How the waterpoint is managed\n",
    "\n",
    "\n",
    "- payment - What the water costs\n",
    "- payment_type - What the water costs\n",
    "\n",
    "\n",
    "<li> quantity - The quantity of water\n",
    "<li> quantity_group - The quantity of water\n",
    "\n",
    "\n",
    "- water_quality - The quality of the water\n",
    "- quality_group - The quality of the water\n"
   ]
  },
  {
   "cell_type": "markdown",
   "metadata": {},
   "source": [
    "Let's create a function that takes a dataset as input and returns a dictionary. This dictionary should contain information about the unique values in each column. Specifically, for each column, the function should tell me the number of unique values and list the unique values themselves"
   ]
  },
  {
   "cell_type": "code",
   "execution_count": 15,
   "metadata": {},
   "outputs": [],
   "source": [
    "def check_unique(l):\n",
    "    for i in l:\n",
    "        print(\"Feature Name:\", i)\n",
    "        print(\"Number of Unique Values:\", len(merged_df[i].unique()))\n",
    "        print(\"Unique Values:\", merged_df[i].unique())\n",
    "        print('\\n')"
   ]
  },
  {
   "cell_type": "markdown",
   "metadata": {},
   "source": [
    "Let's start by investigating the first set of features with similar names to assess potential duplication.\n"
   ]
  },
  {
   "cell_type": "code",
   "execution_count": 16,
   "metadata": {},
   "outputs": [
    {
     "name": "stdout",
     "output_type": "stream",
     "text": [
      "Feature Name: extraction_type\n",
      "Number of Unique Values: 18\n",
      "Unique Values: ['gravity' 'submersible' 'swn 80' 'nira/tanira' 'india mark ii' 'other'\n",
      " 'ksb' 'mono' 'windmill' 'afridev' 'other - rope pump' 'india mark iii'\n",
      " 'other - swn 81' 'other - play pump' 'cemo' 'climax' 'walimi'\n",
      " 'other - mkulima/shinyanga']\n",
      "\n",
      "\n",
      "Feature Name: extraction_type_group\n",
      "Number of Unique Values: 13\n",
      "Unique Values: ['gravity' 'submersible' 'swn 80' 'nira/tanira' 'india mark ii' 'other'\n",
      " 'mono' 'wind-powered' 'afridev' 'rope pump' 'india mark iii'\n",
      " 'other handpump' 'other motorpump']\n",
      "\n",
      "\n",
      "Feature Name: extraction_type_class\n",
      "Number of Unique Values: 7\n",
      "Unique Values: ['gravity' 'submersible' 'handpump' 'other' 'motorpump' 'wind-powered'\n",
      " 'rope pump']\n",
      "\n",
      "\n"
     ]
    }
   ],
   "source": [
    "columns_1 = ['extraction_type', 'extraction_type_group', 'extraction_type_class']\n",
    "\n",
    "check_unique(columns_1)"
   ]
  },
  {
   "cell_type": "markdown",
   "metadata": {},
   "source": [
    "Since \"extraction_type\" and \"extraction_type_group\" contain the same information as the more general \"extraction_type_class\", we can drop them to avoid redundancy. This will streamline our data and make our model more efficient."
   ]
  },
  {
   "cell_type": "code",
   "execution_count": 17,
   "metadata": {},
   "outputs": [],
   "source": [
    "#dropping \"extraction_type\" and \"extraction_type_group\" columns\n",
    "merged_df.drop(['extraction_type', 'extraction_type_group'], axis=1, inplace=True)"
   ]
  },
  {
   "cell_type": "markdown",
   "metadata": {},
   "source": [
    "Second set of features with similar names to assess potential duplication.\n"
   ]
  },
  {
   "cell_type": "code",
   "execution_count": 18,
   "metadata": {},
   "outputs": [
    {
     "name": "stdout",
     "output_type": "stream",
     "text": [
      "Feature Name: source\n",
      "Number of Unique Values: 10\n",
      "Unique Values: ['spring' 'rainwater harvesting' 'dam' 'machine dbh' 'other'\n",
      " 'shallow well' 'river' 'hand dtw' 'lake' 'unknown']\n",
      "\n",
      "\n",
      "Feature Name: source_type\n",
      "Number of Unique Values: 7\n",
      "Unique Values: ['spring' 'rainwater harvesting' 'dam' 'borehole' 'other' 'shallow well'\n",
      " 'river/lake']\n",
      "\n",
      "\n",
      "Feature Name: source_class\n",
      "Number of Unique Values: 3\n",
      "Unique Values: ['groundwater' 'surface' 'unknown']\n",
      "\n",
      "\n"
     ]
    }
   ],
   "source": [
    "columns_2 = ['source', 'source_type', 'source_class']\n",
    "\n",
    "check_unique(columns_2)"
   ]
  },
  {
   "cell_type": "markdown",
   "metadata": {},
   "source": [
    "All three features describe the water source, but \"source_class\" provides the broadest categories. While \"source\" offers more detailed sub-categories (10 unique options), these sub-categories seem distinct from those in the other two features. Therefore, to avoid redundancy and capture the most informative details, we'll keep \"source\" and remove the other two features with less informative, potentially overlapping categories."
   ]
  },
  {
   "cell_type": "code",
   "execution_count": 19,
   "metadata": {},
   "outputs": [],
   "source": [
    "# dropping \"source_type\" and \"source_class\" columns\n",
    "\n",
    "merged_df.drop(['source_type', 'source_class'], axis=1, inplace=True)\n"
   ]
  },
  {
   "cell_type": "markdown",
   "metadata": {},
   "source": [
    "Third set of features with similar names to assess potential duplication."
   ]
  },
  {
   "cell_type": "code",
   "execution_count": 20,
   "metadata": {},
   "outputs": [
    {
     "name": "stdout",
     "output_type": "stream",
     "text": [
      "Feature Name: waterpoint_type\n",
      "Number of Unique Values: 7\n",
      "Unique Values: ['communal standpipe' 'communal standpipe multiple' 'hand pump' 'other'\n",
      " 'improved spring' 'cattle trough' 'dam']\n",
      "\n",
      "\n",
      "Feature Name: waterpoint_type_group\n",
      "Number of Unique Values: 6\n",
      "Unique Values: ['communal standpipe' 'hand pump' 'other' 'improved spring'\n",
      " 'cattle trough' 'dam']\n",
      "\n",
      "\n"
     ]
    }
   ],
   "source": [
    "columns_3 = ['waterpoint_type', 'waterpoint_type_group']\n",
    "\n",
    "check_unique(columns_3)"
   ]
  },
  {
   "cell_type": "markdown",
   "metadata": {},
   "source": [
    "Waterpoint_type\" offers slightly more detail than \"waterpoint_type_group\" with an additional category for 'communal standpipe multiple'. However, to avoid redundancy in our model, we'll keep the more concise \"waterpoint_type_group\".\n"
   ]
  },
  {
   "cell_type": "code",
   "execution_count": 21,
   "metadata": {},
   "outputs": [],
   "source": [
    "#dropping \"waterpoint_type\" column\n",
    "merged_df.drop(['waterpoint_type'], axis=1, inplace=True)\n"
   ]
  },
  {
   "cell_type": "markdown",
   "metadata": {},
   "source": [
    "Fourth set of features with similar names to assess potential duplication."
   ]
  },
  {
   "cell_type": "code",
   "execution_count": 22,
   "metadata": {},
   "outputs": [
    {
     "name": "stdout",
     "output_type": "stream",
     "text": [
      "Feature Name: scheme_management\n",
      "Number of Unique Values: 13\n",
      "Unique Values: ['VWC' 'Other' nan 'Private operator' 'WUG' 'Water Board' 'WUA'\n",
      " 'Water authority' 'Company' 'Parastatal' 'Trust' 'SWC' 'None']\n",
      "\n",
      "\n",
      "Feature Name: scheme_name\n",
      "Number of Unique Values: 2697\n",
      "Unique Values: ['Roman' nan 'Nyumba ya mungu pipe scheme' ... 'BL Nsherehehe'\n",
      " 'Magati  gravity spri' 'Mtawanya']\n",
      "\n",
      "\n",
      "Feature Name: management\n",
      "Number of Unique Values: 12\n",
      "Unique Values: ['vwc' 'wug' 'other' 'private operator' 'water board' 'wua' 'company'\n",
      " 'water authority' 'parastatal' 'unknown' 'other - school' 'trust']\n",
      "\n",
      "\n",
      "Feature Name: management_group\n",
      "Number of Unique Values: 5\n",
      "Unique Values: ['user-group' 'other' 'commercial' 'parastatal' 'unknown']\n",
      "\n",
      "\n"
     ]
    }
   ],
   "source": [
    "columns_4 = ['scheme_management', 'scheme_name', 'management', 'management_group']\n",
    "\n",
    "check_unique(columns_4)"
   ]
  },
  {
   "cell_type": "markdown",
   "metadata": {},
   "source": [
    "\"Scheme_management\" and \"management\" have similar information, but \"management\" uses a clearer representation for missing values (\"unknown\" instead of \"nan\" and \"None\"). Additionally, \"scheme_name\" has too many categories (2697) to be useful for the model. Finally, \"management_group\" seems redundant since its details are already captured as sub-categories within \"management\". By dropping these features, we can create a cleaner and more efficient dataset for building our model."
   ]
  },
  {
   "cell_type": "code",
   "execution_count": 23,
   "metadata": {},
   "outputs": [],
   "source": [
    "#dropping \"scheme_management\", \"scheme_name\" and \"management_group\" columns\n",
    "\n",
    "merged_df.drop(['scheme_management', 'scheme_name', 'management_group'], axis=1, inplace=True)\n"
   ]
  },
  {
   "cell_type": "markdown",
   "metadata": {},
   "source": [
    "Fifth set of features with similar names to assess potential duplication."
   ]
  },
  {
   "cell_type": "code",
   "execution_count": 24,
   "metadata": {},
   "outputs": [
    {
     "name": "stdout",
     "output_type": "stream",
     "text": [
      "Feature Name: payment\n",
      "Number of Unique Values: 7\n",
      "Unique Values: ['pay annually' 'never pay' 'pay per bucket' 'unknown'\n",
      " 'pay when scheme fails' 'other' 'pay monthly']\n",
      "\n",
      "\n",
      "Feature Name: payment_type\n",
      "Number of Unique Values: 7\n",
      "Unique Values: ['annually' 'never pay' 'per bucket' 'unknown' 'on failure' 'other'\n",
      " 'monthly']\n",
      "\n",
      "\n"
     ]
    }
   ],
   "source": [
    "columns_5 = ['payment', 'payment_type']\n",
    "\n",
    "check_unique(columns_5)"
   ]
  },
  {
   "cell_type": "markdown",
   "metadata": {},
   "source": [
    "\"Payment_type\" and \"payment\" are redundant (same values). We'll keep \"payment_type\" for brevity."
   ]
  },
  {
   "cell_type": "code",
   "execution_count": 25,
   "metadata": {},
   "outputs": [],
   "source": [
    "#dropping \"payment\" column\n",
    "merged_df.drop(['payment'], axis=1, inplace=True)\n"
   ]
  },
  {
   "cell_type": "markdown",
   "metadata": {},
   "source": [
    "Sixth set of features with similar names to assess potential duplication."
   ]
  },
  {
   "cell_type": "code",
   "execution_count": 26,
   "metadata": {},
   "outputs": [
    {
     "name": "stdout",
     "output_type": "stream",
     "text": [
      "Feature Name: quantity\n",
      "Number of Unique Values: 5\n",
      "Unique Values: ['enough' 'insufficient' 'dry' 'seasonal' 'unknown']\n",
      "\n",
      "\n",
      "Feature Name: quantity_group\n",
      "Number of Unique Values: 5\n",
      "Unique Values: ['enough' 'insufficient' 'dry' 'seasonal' 'unknown']\n",
      "\n",
      "\n"
     ]
    }
   ],
   "source": [
    "columns_6 = ['quantity', 'quantity_group']\n",
    "\n",
    "check_unique(columns_6)"
   ]
  },
  {
   "cell_type": "markdown",
   "metadata": {},
   "source": [
    "These two features also have similar values. We will keep \"quantity\" and remove \"quantity_group\".\n"
   ]
  },
  {
   "cell_type": "code",
   "execution_count": 27,
   "metadata": {},
   "outputs": [],
   "source": [
    "#droping \"quantity_group\" column\n",
    "\n",
    "merged_df.drop(['quantity_group'], axis=1, inplace=True)\n"
   ]
  },
  {
   "cell_type": "markdown",
   "metadata": {},
   "source": [
    "last set of features with similar names to assess potential duplication."
   ]
  },
  {
   "cell_type": "code",
   "execution_count": 28,
   "metadata": {},
   "outputs": [
    {
     "name": "stdout",
     "output_type": "stream",
     "text": [
      "Feature Name: water_quality\n",
      "Number of Unique Values: 8\n",
      "Unique Values: ['soft' 'salty' 'milky' 'unknown' 'fluoride' 'coloured' 'salty abandoned'\n",
      " 'fluoride abandoned']\n",
      "\n",
      "\n",
      "Feature Name: quality_group\n",
      "Number of Unique Values: 6\n",
      "Unique Values: ['good' 'salty' 'milky' 'unknown' 'fluoride' 'colored']\n",
      "\n",
      "\n"
     ]
    }
   ],
   "source": [
    "columns_7 = ['water_quality', 'quality_group']\n",
    "\n",
    "check_unique(columns_7)"
   ]
  },
  {
   "cell_type": "markdown",
   "metadata": {},
   "source": [
    "\"Water_quality\" offers more informative categories, including \"salty abandoned\" and \"fluoride abandoned\" which could be crucial for our model. We'll keep \"water_quality\" and remove the less detailed \"quality_group\".\n"
   ]
  },
  {
   "cell_type": "code",
   "execution_count": 29,
   "metadata": {},
   "outputs": [],
   "source": [
    "#dropping \"quality_group\" column\n",
    "\n",
    "merged_df.drop(['quality_group'], axis=1, inplace=True)\n"
   ]
  },
  {
   "cell_type": "markdown",
   "metadata": {},
   "source": [
    "To optimize our model, let's explore reducing the number of features containing location data (currently 9). We can start by examining the number of unique values within each feature to identify potential redundancy."
   ]
  },
  {
   "cell_type": "code",
   "execution_count": 30,
   "metadata": {},
   "outputs": [
    {
     "name": "stdout",
     "output_type": "stream",
     "text": [
      "Feature Name: longitude\n",
      "Number of Unique Values: 57516\n",
      "Unique Values: [34.93809275 34.6987661  37.46066446 ... 34.01708706 35.86131531\n",
      " 38.10404822]\n",
      "\n",
      "\n",
      "Feature Name: latitude\n",
      "Number of Unique Values: 57517\n",
      "Unique Values: [-9.85632177 -2.14746569 -3.82132853 ... -8.75043433 -6.37857327\n",
      " -6.74746425]\n",
      "\n",
      "\n",
      "Feature Name: basin\n",
      "Number of Unique Values: 9\n",
      "Unique Values: ['Lake Nyasa' 'Lake Victoria' 'Pangani' 'Ruvuma / Southern Coast'\n",
      " 'Internal' 'Lake Tanganyika' 'Wami / Ruvu' 'Rufiji' 'Lake Rukwa']\n",
      "\n",
      "\n",
      "Feature Name: subvillage\n",
      "Number of Unique Values: 19288\n",
      "Unique Values: ['Mnyusi B' 'Nyamara' 'Majengo' ... 'Itete B' 'Maore Kati' 'Kikatanyemba']\n",
      "\n",
      "\n",
      "Feature Name: region\n",
      "Number of Unique Values: 21\n",
      "Unique Values: ['Iringa' 'Mara' 'Manyara' 'Mtwara' 'Kagera' 'Tanga' 'Shinyanga' 'Tabora'\n",
      " 'Pwani' 'Ruvuma' 'Kilimanjaro' 'Rukwa' 'Mwanza' 'Kigoma' 'Lindi' 'Dodoma'\n",
      " 'Arusha' 'Mbeya' 'Singida' 'Morogoro' 'Dar es Salaam']\n",
      "\n",
      "\n",
      "Feature Name: region_code\n",
      "Number of Unique Values: 27\n",
      "Unique Values: [11 20 21 90 18  4 17 14 60 10  3 15 19 16 80  1  6  2 12 13  5  7 99 24\n",
      "  9  8 40]\n",
      "\n",
      "\n",
      "Feature Name: district_code\n",
      "Number of Unique Values: 20\n",
      "Unique Values: [ 5  2  4 63  1  8  3  6 43  7 23 33 53 62 60 30 13  0 80 67]\n",
      "\n",
      "\n",
      "Feature Name: lga\n",
      "Number of Unique Values: 125\n",
      "Unique Values: ['Ludewa' 'Serengeti' 'Simanjiro' 'Nanyumbu' 'Karagwe' 'Mkinga'\n",
      " 'Shinyanga Rural' 'Kahama' 'Tabora Urban' 'Mkuranga' 'Namtumbo' 'Maswa'\n",
      " 'Siha' 'Meatu' 'Sumbawanga Rural' 'Njombe' 'Ukerewe' 'Bariadi' 'Same'\n",
      " 'Kigoma Rural' 'Moshi Rural' 'Lindi Rural' 'Rombo' 'Chamwino' 'Bagamoyo'\n",
      " 'Mafia' 'Arusha Rural' 'Kyela' 'Kondoa' 'Kilolo' 'Kibondo' 'Makete'\n",
      " 'Singida Rural' 'Masasi' 'Rungwe' 'Moshi Urban' 'Geita' 'Mbulu'\n",
      " 'Bukoba Rural' 'Muheza' 'Lushoto' 'Meru' 'Iramba' 'Kilombero' 'Mbarali'\n",
      " 'Kasulu' 'Bukoba Urban' 'Korogwe' 'Bukombe' 'Morogoro Rural' 'Kishapu'\n",
      " 'Musoma Rural' 'Sengerema' 'Iringa Rural' 'Muleba' 'Dodoma Urban'\n",
      " 'Ruangwa' 'Hanang' 'Misenyi' 'Missungwi' 'Songea Rural' 'Tanga' 'Tunduru'\n",
      " 'Hai' 'Mwanga' 'Chato' 'Biharamulo' 'Ileje' 'Mpwapwa' 'Mvomero' 'Bunda'\n",
      " 'Kiteto' 'Longido' 'Urambo' 'Mbozi' 'Sikonge' 'Ilala' 'Tarime' 'Temeke'\n",
      " 'Mbeya Rural' 'Magu' 'Manyoni' 'Igunga' 'Kilosa' 'Babati' 'Chunya'\n",
      " 'Mufindi' 'Mtwara Rural' 'Ngara' 'Karatu' 'Mpanda' 'Kibaha'\n",
      " 'Singida Urban' 'Newala' 'Nzega' 'Nkasi' 'Bahi' 'Mbinga' 'Ulanga'\n",
      " 'Sumbawanga Urban' 'Morogoro Urban' 'Tandahimba' 'Kisarawe'\n",
      " 'Mtwara Urban' 'Kilwa' 'Liwale' 'Kongwa' 'Uyui' 'Rufiji' 'Kwimba'\n",
      " 'Monduli' 'Shinyanga Urban' 'Ngorongoro' 'Handeni' 'Rorya' 'Pangani'\n",
      " 'Lindi Urban' 'Nachingwea' 'Kinondoni' 'Kigoma Urban' 'Ilemela' 'Kilindi'\n",
      " 'Arusha Urban' 'Songea Urban' 'Nyamagana']\n",
      "\n",
      "\n",
      "Feature Name: ward\n",
      "Number of Unique Values: 2092\n",
      "Unique Values: ['Mundindi' 'Natta' 'Ngorika' ... 'Chinugulu' 'Nyamtinga' 'Kinungu']\n",
      "\n",
      "\n"
     ]
    }
   ],
   "source": [
    "geo_columns = ['longitude', 'latitude', 'basin', 'subvillage', 'region', 'region_code', 'district_code', 'lga', 'ward']\n",
    "\n",
    "check_unique(geo_columns)"
   ]
  },
  {
   "cell_type": "markdown",
   "metadata": {},
   "source": [
    "Based on our analysis, features like \"longitude\", \"latitude\", \"subvillage\", \"lga\", and \"ward\" have a very high number of unique categories. Since these features represent very specific locations, they likely won't generalize well to classify well status across a broader area. To improve model efficiency, we'll remove these features."
   ]
  },
  {
   "cell_type": "code",
   "execution_count": 31,
   "metadata": {},
   "outputs": [],
   "source": [
    "#dropping 'lga','latitude', 'subvillage', 'ward','longitude'\n",
    "\n",
    "merged_df.drop(['lga','latitude', 'subvillage', 'ward','longitude'], axis=1, inplace=True)\n"
   ]
  },
  {
   "cell_type": "markdown",
   "metadata": {},
   "source": [
    "Keeping \"basin\" and \"district_code\" for broader location context, ditching \"region_code\" (redundant of \"region\")."
   ]
  },
  {
   "cell_type": "code",
   "execution_count": 32,
   "metadata": {},
   "outputs": [
    {
     "data": {
      "text/plain": [
       "18"
      ]
     },
     "execution_count": 32,
     "metadata": {},
     "output_type": "execute_result"
    }
   ],
   "source": [
    "#dropping 'region_code' column\n",
    "merged_df.drop(['region_code'], axis=1, inplace=True)\n",
    "\n",
    "# checking the remaining number of columns\n",
    "len(merged_df.columns)"
   ]
  },
  {
   "cell_type": "code",
   "execution_count": 33,
   "metadata": {},
   "outputs": [
    {
     "name": "stdout",
     "output_type": "stream",
     "text": [
      "Shape of the DataFrame: (59400, 18)\n",
      "<class 'pandas.core.frame.DataFrame'>\n",
      "Int64Index: 59400 entries, 69572 to 26348\n",
      "Data columns (total 18 columns):\n",
      " #   Column                 Non-Null Count  Dtype  \n",
      "---  ------                 --------------  -----  \n",
      " 0   amount_tsh             59400 non-null  float64\n",
      " 1   gps_height             59400 non-null  int64  \n",
      " 2   num_private            59400 non-null  int64  \n",
      " 3   basin                  59400 non-null  object \n",
      " 4   region                 59400 non-null  object \n",
      " 5   district_code          59400 non-null  int64  \n",
      " 6   population             59400 non-null  int64  \n",
      " 7   public_meeting         56066 non-null  object \n",
      " 8   permit                 56344 non-null  object \n",
      " 9   construction_year      59400 non-null  int64  \n",
      " 10  extraction_type_class  59400 non-null  object \n",
      " 11  management             59400 non-null  object \n",
      " 12  payment_type           59400 non-null  object \n",
      " 13  water_quality          59400 non-null  object \n",
      " 14  quantity               59400 non-null  object \n",
      " 15  source                 59400 non-null  object \n",
      " 16  waterpoint_type_group  59400 non-null  object \n",
      " 17  status_group           59400 non-null  object \n",
      "dtypes: float64(1), int64(5), object(12)\n",
      "memory usage: 8.6+ MB\n",
      "None\n"
     ]
    },
    {
     "data": {
      "text/html": [
       "<div>\n",
       "<style scoped>\n",
       "    .dataframe tbody tr th:only-of-type {\n",
       "        vertical-align: middle;\n",
       "    }\n",
       "\n",
       "    .dataframe tbody tr th {\n",
       "        vertical-align: top;\n",
       "    }\n",
       "\n",
       "    .dataframe thead th {\n",
       "        text-align: right;\n",
       "    }\n",
       "</style>\n",
       "<table border=\"1\" class=\"dataframe\">\n",
       "  <thead>\n",
       "    <tr style=\"text-align: right;\">\n",
       "      <th></th>\n",
       "      <th>amount_tsh</th>\n",
       "      <th>gps_height</th>\n",
       "      <th>num_private</th>\n",
       "      <th>basin</th>\n",
       "      <th>region</th>\n",
       "      <th>district_code</th>\n",
       "      <th>population</th>\n",
       "      <th>public_meeting</th>\n",
       "      <th>permit</th>\n",
       "      <th>construction_year</th>\n",
       "      <th>extraction_type_class</th>\n",
       "      <th>management</th>\n",
       "      <th>payment_type</th>\n",
       "      <th>water_quality</th>\n",
       "      <th>quantity</th>\n",
       "      <th>source</th>\n",
       "      <th>waterpoint_type_group</th>\n",
       "      <th>status_group</th>\n",
       "    </tr>\n",
       "    <tr>\n",
       "      <th>id</th>\n",
       "      <th></th>\n",
       "      <th></th>\n",
       "      <th></th>\n",
       "      <th></th>\n",
       "      <th></th>\n",
       "      <th></th>\n",
       "      <th></th>\n",
       "      <th></th>\n",
       "      <th></th>\n",
       "      <th></th>\n",
       "      <th></th>\n",
       "      <th></th>\n",
       "      <th></th>\n",
       "      <th></th>\n",
       "      <th></th>\n",
       "      <th></th>\n",
       "      <th></th>\n",
       "      <th></th>\n",
       "    </tr>\n",
       "  </thead>\n",
       "  <tbody>\n",
       "    <tr>\n",
       "      <th>69572</th>\n",
       "      <td>6000.0</td>\n",
       "      <td>1390</td>\n",
       "      <td>0</td>\n",
       "      <td>Lake Nyasa</td>\n",
       "      <td>Iringa</td>\n",
       "      <td>5</td>\n",
       "      <td>109</td>\n",
       "      <td>True</td>\n",
       "      <td>False</td>\n",
       "      <td>1999</td>\n",
       "      <td>gravity</td>\n",
       "      <td>vwc</td>\n",
       "      <td>annually</td>\n",
       "      <td>soft</td>\n",
       "      <td>enough</td>\n",
       "      <td>spring</td>\n",
       "      <td>communal standpipe</td>\n",
       "      <td>functional</td>\n",
       "    </tr>\n",
       "    <tr>\n",
       "      <th>8776</th>\n",
       "      <td>0.0</td>\n",
       "      <td>1399</td>\n",
       "      <td>0</td>\n",
       "      <td>Lake Victoria</td>\n",
       "      <td>Mara</td>\n",
       "      <td>2</td>\n",
       "      <td>280</td>\n",
       "      <td>NaN</td>\n",
       "      <td>True</td>\n",
       "      <td>2010</td>\n",
       "      <td>gravity</td>\n",
       "      <td>wug</td>\n",
       "      <td>never pay</td>\n",
       "      <td>soft</td>\n",
       "      <td>insufficient</td>\n",
       "      <td>rainwater harvesting</td>\n",
       "      <td>communal standpipe</td>\n",
       "      <td>functional</td>\n",
       "    </tr>\n",
       "    <tr>\n",
       "      <th>34310</th>\n",
       "      <td>25.0</td>\n",
       "      <td>686</td>\n",
       "      <td>0</td>\n",
       "      <td>Pangani</td>\n",
       "      <td>Manyara</td>\n",
       "      <td>4</td>\n",
       "      <td>250</td>\n",
       "      <td>True</td>\n",
       "      <td>True</td>\n",
       "      <td>2009</td>\n",
       "      <td>gravity</td>\n",
       "      <td>vwc</td>\n",
       "      <td>per bucket</td>\n",
       "      <td>soft</td>\n",
       "      <td>enough</td>\n",
       "      <td>dam</td>\n",
       "      <td>communal standpipe</td>\n",
       "      <td>functional</td>\n",
       "    </tr>\n",
       "    <tr>\n",
       "      <th>67743</th>\n",
       "      <td>0.0</td>\n",
       "      <td>263</td>\n",
       "      <td>0</td>\n",
       "      <td>Ruvuma / Southern Coast</td>\n",
       "      <td>Mtwara</td>\n",
       "      <td>63</td>\n",
       "      <td>58</td>\n",
       "      <td>True</td>\n",
       "      <td>True</td>\n",
       "      <td>1986</td>\n",
       "      <td>submersible</td>\n",
       "      <td>vwc</td>\n",
       "      <td>never pay</td>\n",
       "      <td>soft</td>\n",
       "      <td>dry</td>\n",
       "      <td>machine dbh</td>\n",
       "      <td>communal standpipe</td>\n",
       "      <td>non functional</td>\n",
       "    </tr>\n",
       "    <tr>\n",
       "      <th>19728</th>\n",
       "      <td>0.0</td>\n",
       "      <td>0</td>\n",
       "      <td>0</td>\n",
       "      <td>Lake Victoria</td>\n",
       "      <td>Kagera</td>\n",
       "      <td>1</td>\n",
       "      <td>0</td>\n",
       "      <td>True</td>\n",
       "      <td>True</td>\n",
       "      <td>0</td>\n",
       "      <td>gravity</td>\n",
       "      <td>other</td>\n",
       "      <td>never pay</td>\n",
       "      <td>soft</td>\n",
       "      <td>seasonal</td>\n",
       "      <td>rainwater harvesting</td>\n",
       "      <td>communal standpipe</td>\n",
       "      <td>functional</td>\n",
       "    </tr>\n",
       "  </tbody>\n",
       "</table>\n",
       "</div>"
      ],
      "text/plain": [
       "       amount_tsh  gps_height  ...  waterpoint_type_group    status_group\n",
       "id                             ...                                       \n",
       "69572      6000.0        1390  ...     communal standpipe      functional\n",
       "8776          0.0        1399  ...     communal standpipe      functional\n",
       "34310        25.0         686  ...     communal standpipe      functional\n",
       "67743         0.0         263  ...     communal standpipe  non functional\n",
       "19728         0.0           0  ...     communal standpipe      functional\n",
       "\n",
       "[5 rows x 18 columns]"
      ]
     },
     "execution_count": 33,
     "metadata": {},
     "output_type": "execute_result"
    }
   ],
   "source": [
    "#checking for the shape and information about the new dataset\n",
    "merged_df = check_shape_and_info(merged_df)\n",
    "merged_df.head()"
   ]
  },
  {
   "cell_type": "markdown",
   "metadata": {},
   "source": [
    "##### **checking for missing values, outliers and correlation in our new dataset from the merged dataframe after merging and performing dimensionality reduction**\n",
    "\n",
    "##### b) Missing Values"
   ]
  },
  {
   "cell_type": "code",
   "execution_count": 34,
   "metadata": {},
   "outputs": [
    {
     "data": {
      "text/plain": [
       "{'data_types': {'string': 12, dtype('int64'): 5, dtype('float64'): 1},\n",
       " 'missing_values': amount_tsh                  0\n",
       " gps_height                  0\n",
       " num_private                 0\n",
       " basin                       0\n",
       " region                      0\n",
       " district_code               0\n",
       " population                  0\n",
       " public_meeting           3334\n",
       " permit                   3056\n",
       " construction_year           0\n",
       " extraction_type_class       0\n",
       " management                  0\n",
       " payment_type                0\n",
       " water_quality               0\n",
       " quantity                    0\n",
       " source                      0\n",
       " waterpoint_type_group       0\n",
       " status_group                0\n",
       " dtype: int64}"
      ]
     },
     "execution_count": 34,
     "metadata": {},
     "output_type": "execute_result"
    }
   ],
   "source": [
    "#checking for missing values\n",
    "check_data_types_and_missing_values(merged_df)\n"
   ]
  },
  {
   "cell_type": "markdown",
   "metadata": {},
   "source": [
    "\"The features 'public_meeting' and 'permit' contain missing data.\n",
    "\n",
    "Now,let's fix the missing values in 'public_meeting' and 'permit' with the most frequent value (mode) in each category."
   ]
  },
  {
   "cell_type": "code",
   "execution_count": 35,
   "metadata": {},
   "outputs": [
    {
     "name": "stdout",
     "output_type": "stream",
     "text": [
      "Missing values after imputation:\n",
      " amount_tsh               0\n",
      "gps_height               0\n",
      "num_private              0\n",
      "basin                    0\n",
      "region                   0\n",
      "district_code            0\n",
      "population               0\n",
      "public_meeting           0\n",
      "permit                   0\n",
      "construction_year        0\n",
      "extraction_type_class    0\n",
      "management               0\n",
      "payment_type             0\n",
      "water_quality            0\n",
      "quantity                 0\n",
      "source                   0\n",
      "waterpoint_type_group    0\n",
      "status_group             0\n",
      "dtype: int64\n"
     ]
    }
   ],
   "source": [
    "#removing the missing values\n",
    "# For categorical variables\n",
    "categorical_columns = ['public_meeting', 'permit']\n",
    "for col in categorical_columns:\n",
    "    mode_value = merged_df[col].mode()[0]\n",
    "    merged_df[col].fillna(mode_value, inplace=True)\n",
    "\n",
    "missing_values_after_imputation = merged_df.isnull().sum()\n",
    "print(\"Missing values after imputation:\\n\", missing_values_after_imputation)\n"
   ]
  },
  {
   "cell_type": "markdown",
   "metadata": {},
   "source": [
    "From the output observation our new dataset has no missing value."
   ]
  },
  {
   "cell_type": "markdown",
   "metadata": {},
   "source": [
    "##### c) Outliers\n",
    "To identify potential outliers in our features, we'll analyze their distributions using 5-point summaries and visualize them with boxplots."
   ]
  },
  {
   "cell_type": "code",
   "execution_count": 36,
   "metadata": {},
   "outputs": [
    {
     "data": {
      "text/html": [
       "<div>\n",
       "<style scoped>\n",
       "    .dataframe tbody tr th:only-of-type {\n",
       "        vertical-align: middle;\n",
       "    }\n",
       "\n",
       "    .dataframe tbody tr th {\n",
       "        vertical-align: top;\n",
       "    }\n",
       "\n",
       "    .dataframe thead th {\n",
       "        text-align: right;\n",
       "    }\n",
       "</style>\n",
       "<table border=\"1\" class=\"dataframe\">\n",
       "  <thead>\n",
       "    <tr style=\"text-align: right;\">\n",
       "      <th></th>\n",
       "      <th>amount_tsh</th>\n",
       "      <th>gps_height</th>\n",
       "      <th>num_private</th>\n",
       "      <th>district_code</th>\n",
       "      <th>population</th>\n",
       "      <th>construction_year</th>\n",
       "    </tr>\n",
       "  </thead>\n",
       "  <tbody>\n",
       "    <tr>\n",
       "      <th>count</th>\n",
       "      <td>59400.000000</td>\n",
       "      <td>59400.000000</td>\n",
       "      <td>59400.000000</td>\n",
       "      <td>59400.000000</td>\n",
       "      <td>59400.000000</td>\n",
       "      <td>59400.000000</td>\n",
       "    </tr>\n",
       "    <tr>\n",
       "      <th>mean</th>\n",
       "      <td>317.650385</td>\n",
       "      <td>668.297239</td>\n",
       "      <td>0.474141</td>\n",
       "      <td>5.629747</td>\n",
       "      <td>179.909983</td>\n",
       "      <td>1300.652475</td>\n",
       "    </tr>\n",
       "    <tr>\n",
       "      <th>std</th>\n",
       "      <td>2997.574558</td>\n",
       "      <td>693.116350</td>\n",
       "      <td>12.236230</td>\n",
       "      <td>9.633649</td>\n",
       "      <td>471.482176</td>\n",
       "      <td>951.620547</td>\n",
       "    </tr>\n",
       "    <tr>\n",
       "      <th>min</th>\n",
       "      <td>0.000000</td>\n",
       "      <td>-90.000000</td>\n",
       "      <td>0.000000</td>\n",
       "      <td>0.000000</td>\n",
       "      <td>0.000000</td>\n",
       "      <td>0.000000</td>\n",
       "    </tr>\n",
       "    <tr>\n",
       "      <th>25%</th>\n",
       "      <td>0.000000</td>\n",
       "      <td>0.000000</td>\n",
       "      <td>0.000000</td>\n",
       "      <td>2.000000</td>\n",
       "      <td>0.000000</td>\n",
       "      <td>0.000000</td>\n",
       "    </tr>\n",
       "    <tr>\n",
       "      <th>50%</th>\n",
       "      <td>0.000000</td>\n",
       "      <td>369.000000</td>\n",
       "      <td>0.000000</td>\n",
       "      <td>3.000000</td>\n",
       "      <td>25.000000</td>\n",
       "      <td>1986.000000</td>\n",
       "    </tr>\n",
       "    <tr>\n",
       "      <th>75%</th>\n",
       "      <td>20.000000</td>\n",
       "      <td>1319.250000</td>\n",
       "      <td>0.000000</td>\n",
       "      <td>5.000000</td>\n",
       "      <td>215.000000</td>\n",
       "      <td>2004.000000</td>\n",
       "    </tr>\n",
       "    <tr>\n",
       "      <th>max</th>\n",
       "      <td>350000.000000</td>\n",
       "      <td>2770.000000</td>\n",
       "      <td>1776.000000</td>\n",
       "      <td>80.000000</td>\n",
       "      <td>30500.000000</td>\n",
       "      <td>2013.000000</td>\n",
       "    </tr>\n",
       "  </tbody>\n",
       "</table>\n",
       "</div>"
      ],
      "text/plain": [
       "          amount_tsh    gps_height  ...    population  construction_year\n",
       "count   59400.000000  59400.000000  ...  59400.000000       59400.000000\n",
       "mean      317.650385    668.297239  ...    179.909983        1300.652475\n",
       "std      2997.574558    693.116350  ...    471.482176         951.620547\n",
       "min         0.000000    -90.000000  ...      0.000000           0.000000\n",
       "25%         0.000000      0.000000  ...      0.000000           0.000000\n",
       "50%         0.000000    369.000000  ...     25.000000        1986.000000\n",
       "75%        20.000000   1319.250000  ...    215.000000        2004.000000\n",
       "max    350000.000000   2770.000000  ...  30500.000000        2013.000000\n",
       "\n",
       "[8 rows x 6 columns]"
      ]
     },
     "execution_count": 36,
     "metadata": {},
     "output_type": "execute_result"
    }
   ],
   "source": [
    "merged_df.describe()"
   ]
  },
  {
   "cell_type": "code",
   "execution_count": 37,
   "metadata": {},
   "outputs": [
    {
     "data": {
      "image/png": "[encoded data removed]",
      "text/plain": [
       "<Figure size 720x504 with 1 Axes>"
      ]
     },
     "metadata": {
      "needs_background": "light"
     },
     "output_type": "display_data"
    }
   ],
   "source": [
    "#list of Features with Continuous Data Types\n",
    "\n",
    "continuous_features = ['amount_tsh', 'gps_height', 'num_private', 'district_code', 'population', 'construction_year']\n",
    "\n",
    "\n",
    "# Creating boxplots for features with continuous data types\n",
    "plt.figure(figsize=(10, 7))\n",
    "plt.boxplot([merged_df[col] for col in continuous_features], labels=continuous_features)\n",
    "plt.title(\"Box plot of continuous features\")\n",
    "plt.show()\n",
    "\n",
    "    \n"
   ]
  },
  {
   "cell_type": "markdown",
   "metadata": {},
   "source": [
    "The boxplots and 5-point summaries reveal positive outliers in \"amount_tsh\", \"num_private\", and \"population\". These outliers can affect model performance and preprocessing steps. To address this, we can consider capping outliers to the upper bound of the interquartile range (IQR) instead of replacing them entirely. This approach retains more data while mitigating the influence of extreme values."
   ]
  },
  {
   "cell_type": "code",
   "execution_count": 38,
   "metadata": {},
   "outputs": [
    {
     "data": {
      "image/png": "[encoded data removed]",
      "text/plain": [
       "<Figure size 720x504 with 1 Axes>"
      ]
     },
     "metadata": {
      "needs_background": "light"
     },
     "output_type": "display_data"
    }
   ],
   "source": [
    "# Define the features with positive outliers\n",
    "outlier_features = ['amount_tsh', 'num_private', 'population']\n",
    "\n",
    "# Define a function to cap outliers\n",
    "def cap_outliers(df, feature):\n",
    "    Q1 = df[feature].quantile(0.25)\n",
    "    Q3 = df[feature].quantile(0.75)\n",
    "    IQR = Q3 - Q1\n",
    "    upper_bound = Q3 + 1.5 * IQR\n",
    "    df.loc[df[feature] > upper_bound, feature] = upper_bound\n",
    "\n",
    "# Apply outlier capping to specified features\n",
    "for feature in outlier_features:\n",
    "    cap_outliers(merged_df, feature)\n",
    "\n",
    "# Plot boxplots after outlier capping\n",
    "plt.figure(figsize=(10, 7))\n",
    "plt.boxplot([merged_df[col] for col in outlier_features], labels=outlier_features)\n",
    "plt.title(\"Box plot of features after outlier capping\")\n",
    "plt.show()\n"
   ]
  },
  {
   "cell_type": "markdown",
   "metadata": {},
   "source": [
    "Outlier values have been modified as part of the data cleaning process"
   ]
  },
  {
   "cell_type": "markdown",
   "metadata": {},
   "source": [
    "##### d) correlation analysis "
   ]
  },
  {
   "cell_type": "code",
   "execution_count": 39,
   "metadata": {},
   "outputs": [
    {
     "data": {
      "image/png": "[encoded data removed]",
      "text/plain": [
       "<Figure size 720x504 with 2 Axes>"
      ]
     },
     "metadata": {
      "needs_background": "light"
     },
     "output_type": "display_data"
    }
   ],
   "source": [
    "#checking correlation using a heatmap\n",
    "plt.figure(figsize=(10, 7))\n",
    "sns.heatmap(merged_df.corr(), annot=True, cmap='coolwarm')\n",
    "plt.title(\"Correlation Heatmap\")\n",
    "plt.show()\n"
   ]
  },
  {
   "cell_type": "markdown",
   "metadata": {},
   "source": [
    "From our observation, we can note there's no feature(s) to be dropped further because no feature(s) is 75% correlated to another feature, therefore we will keep all our features to be used to train our model."
   ]
  },
  {
   "cell_type": "markdown",
   "metadata": {},
   "source": [
    "##  <li>**More of Exploratory Data Analysis**"
   ]
  },
  {
   "cell_type": "code",
   "execution_count": 40,
   "metadata": {},
   "outputs": [
    {
     "data": {
      "text/html": [
       "<div>\n",
       "<style scoped>\n",
       "    .dataframe tbody tr th:only-of-type {\n",
       "        vertical-align: middle;\n",
       "    }\n",
       "\n",
       "    .dataframe tbody tr th {\n",
       "        vertical-align: top;\n",
       "    }\n",
       "\n",
       "    .dataframe thead th {\n",
       "        text-align: right;\n",
       "    }\n",
       "</style>\n",
       "<table border=\"1\" class=\"dataframe\">\n",
       "  <thead>\n",
       "    <tr style=\"text-align: right;\">\n",
       "      <th></th>\n",
       "      <th>amount_tsh</th>\n",
       "      <th>gps_height</th>\n",
       "      <th>num_private</th>\n",
       "      <th>basin</th>\n",
       "      <th>region</th>\n",
       "      <th>district_code</th>\n",
       "      <th>population</th>\n",
       "      <th>public_meeting</th>\n",
       "      <th>permit</th>\n",
       "      <th>construction_year</th>\n",
       "      <th>extraction_type_class</th>\n",
       "      <th>management</th>\n",
       "      <th>payment_type</th>\n",
       "      <th>water_quality</th>\n",
       "      <th>quantity</th>\n",
       "      <th>source</th>\n",
       "      <th>waterpoint_type_group</th>\n",
       "      <th>status_group</th>\n",
       "    </tr>\n",
       "    <tr>\n",
       "      <th>id</th>\n",
       "      <th></th>\n",
       "      <th></th>\n",
       "      <th></th>\n",
       "      <th></th>\n",
       "      <th></th>\n",
       "      <th></th>\n",
       "      <th></th>\n",
       "      <th></th>\n",
       "      <th></th>\n",
       "      <th></th>\n",
       "      <th></th>\n",
       "      <th></th>\n",
       "      <th></th>\n",
       "      <th></th>\n",
       "      <th></th>\n",
       "      <th></th>\n",
       "      <th></th>\n",
       "      <th></th>\n",
       "    </tr>\n",
       "  </thead>\n",
       "  <tbody>\n",
       "    <tr>\n",
       "      <th>69572</th>\n",
       "      <td>50.0</td>\n",
       "      <td>1390</td>\n",
       "      <td>0.0</td>\n",
       "      <td>Lake Nyasa</td>\n",
       "      <td>Iringa</td>\n",
       "      <td>5</td>\n",
       "      <td>109.0</td>\n",
       "      <td>True</td>\n",
       "      <td>False</td>\n",
       "      <td>1999</td>\n",
       "      <td>gravity</td>\n",
       "      <td>vwc</td>\n",
       "      <td>annually</td>\n",
       "      <td>soft</td>\n",
       "      <td>enough</td>\n",
       "      <td>spring</td>\n",
       "      <td>communal standpipe</td>\n",
       "      <td>functional</td>\n",
       "    </tr>\n",
       "    <tr>\n",
       "      <th>8776</th>\n",
       "      <td>0.0</td>\n",
       "      <td>1399</td>\n",
       "      <td>0.0</td>\n",
       "      <td>Lake Victoria</td>\n",
       "      <td>Mara</td>\n",
       "      <td>2</td>\n",
       "      <td>280.0</td>\n",
       "      <td>True</td>\n",
       "      <td>True</td>\n",
       "      <td>2010</td>\n",
       "      <td>gravity</td>\n",
       "      <td>wug</td>\n",
       "      <td>never pay</td>\n",
       "      <td>soft</td>\n",
       "      <td>insufficient</td>\n",
       "      <td>rainwater harvesting</td>\n",
       "      <td>communal standpipe</td>\n",
       "      <td>functional</td>\n",
       "    </tr>\n",
       "    <tr>\n",
       "      <th>34310</th>\n",
       "      <td>25.0</td>\n",
       "      <td>686</td>\n",
       "      <td>0.0</td>\n",
       "      <td>Pangani</td>\n",
       "      <td>Manyara</td>\n",
       "      <td>4</td>\n",
       "      <td>250.0</td>\n",
       "      <td>True</td>\n",
       "      <td>True</td>\n",
       "      <td>2009</td>\n",
       "      <td>gravity</td>\n",
       "      <td>vwc</td>\n",
       "      <td>per bucket</td>\n",
       "      <td>soft</td>\n",
       "      <td>enough</td>\n",
       "      <td>dam</td>\n",
       "      <td>communal standpipe</td>\n",
       "      <td>functional</td>\n",
       "    </tr>\n",
       "    <tr>\n",
       "      <th>67743</th>\n",
       "      <td>0.0</td>\n",
       "      <td>263</td>\n",
       "      <td>0.0</td>\n",
       "      <td>Ruvuma / Southern Coast</td>\n",
       "      <td>Mtwara</td>\n",
       "      <td>63</td>\n",
       "      <td>58.0</td>\n",
       "      <td>True</td>\n",
       "      <td>True</td>\n",
       "      <td>1986</td>\n",
       "      <td>submersible</td>\n",
       "      <td>vwc</td>\n",
       "      <td>never pay</td>\n",
       "      <td>soft</td>\n",
       "      <td>dry</td>\n",
       "      <td>machine dbh</td>\n",
       "      <td>communal standpipe</td>\n",
       "      <td>non functional</td>\n",
       "    </tr>\n",
       "    <tr>\n",
       "      <th>19728</th>\n",
       "      <td>0.0</td>\n",
       "      <td>0</td>\n",
       "      <td>0.0</td>\n",
       "      <td>Lake Victoria</td>\n",
       "      <td>Kagera</td>\n",
       "      <td>1</td>\n",
       "      <td>0.0</td>\n",
       "      <td>True</td>\n",
       "      <td>True</td>\n",
       "      <td>0</td>\n",
       "      <td>gravity</td>\n",
       "      <td>other</td>\n",
       "      <td>never pay</td>\n",
       "      <td>soft</td>\n",
       "      <td>seasonal</td>\n",
       "      <td>rainwater harvesting</td>\n",
       "      <td>communal standpipe</td>\n",
       "      <td>functional</td>\n",
       "    </tr>\n",
       "  </tbody>\n",
       "</table>\n",
       "</div>"
      ],
      "text/plain": [
       "       amount_tsh  gps_height  ...  waterpoint_type_group    status_group\n",
       "id                             ...                                       \n",
       "69572        50.0        1390  ...     communal standpipe      functional\n",
       "8776          0.0        1399  ...     communal standpipe      functional\n",
       "34310        25.0         686  ...     communal standpipe      functional\n",
       "67743         0.0         263  ...     communal standpipe  non functional\n",
       "19728         0.0           0  ...     communal standpipe      functional\n",
       "\n",
       "[5 rows x 18 columns]"
      ]
     },
     "execution_count": 40,
     "metadata": {},
     "output_type": "execute_result"
    }
   ],
   "source": [
    "merged_df.head()"
   ]
  },
  {
   "cell_type": "markdown",
   "metadata": {},
   "source": [
    "   #### 1.  **Univariate Analysis**"
   ]
  },
  {
   "cell_type": "markdown",
   "metadata": {},
   "source": [
    "Let's delve into the data by examining individual variables!\n",
    "In this process, called univariate analysis, we'll focus on one variable at a time. Our goal is to uncover patterns within each variable's distribution. We'll begin by exploring categorical variables, where data falls into distinct categories, and then move on to numerical variables that hold continuous values."
   ]
  },
  {
   "cell_type": "markdown",
   "metadata": {},
   "source": [
    "##### 1.1 Exploring Distributions of Categorical Variables\n",
    "\n",
    "**status_group** : Is our **target variable**.This variable indicates the operational status of a water point, categorized as functional, non-functional, or functional but requiring repairs."
   ]
  },
  {
   "cell_type": "code",
   "execution_count": 41,
   "metadata": {},
   "outputs": [
    {
     "data": {
      "image/png": "[encoded data removed]",
      "text/plain": [
       "<Figure size 864x576 with 1 Axes>"
      ]
     },
     "metadata": {},
     "output_type": "display_data"
    }
   ],
   "source": [
    "#pie chart for status_group\n",
    "fig, ax = plt.subplots(figsize=(12, 8))\n",
    "status_counts = merged_df['status_group'].value_counts()\n",
    "wedges, texts, autotexts = ax.pie(status_counts, labels=status_counts.index, autopct=\"%d%%\", startangle=140)\n",
    "ax.set(title=\"Water Point Functionality Distribution\")\n",
    "plt.setp(texts, color='black')  # Set text color to black\n",
    "plt.show()\n",
    "\n",
    "\n"
   ]
  },
  {
   "cell_type": "markdown",
   "metadata": {},
   "source": [
    "From our observation,54% of waterpoints are functional, 38% are non-functional, 7% are functional and need repair"
   ]
  },
  {
   "cell_type": "code",
   "execution_count": 42,
   "metadata": {},
   "outputs": [],
   "source": [
    "#function that desplays bar charts of the categorical features\n",
    "def bar_chart(feature):\n",
    "    plt.figure(figsize=(10, 6))\n",
    "    plt.bar(merged_df[feature].value_counts().index, merged_df[feature].value_counts())\n",
    "    plt.title(f\"Bar chart of {feature}\")\n",
    "    plt.xlabel(feature)\n",
    "    plt.ylabel(\"Count\")\n",
    "    plt.xticks(rotation=90)\n",
    "    plt.show()"
   ]
  },
  {
   "cell_type": "code",
   "execution_count": 43,
   "metadata": {},
   "outputs": [
    {
     "data": {
      "image/png": "[encoded data removed]",
      "text/plain": [
       "<Figure size 720x432 with 1 Axes>"
      ]
     },
     "metadata": {
      "needs_background": "light"
     },
     "output_type": "display_data"
    }
   ],
   "source": [
    "bar_chart('basin')"
   ]
  },
  {
   "cell_type": "markdown",
   "metadata": {},
   "source": [
    "Lake victoria is the primary source of water for most waterpoints, followed by Pangani basin ."
   ]
  },
  {
   "cell_type": "code",
   "execution_count": 44,
   "metadata": {},
   "outputs": [
    {
     "data": {
      "image/png": "[encoded data removed]",
      "text/plain": [
       "<Figure size 720x432 with 1 Axes>"
      ]
     },
     "metadata": {
      "needs_background": "light"
     },
     "output_type": "display_data"
    }
   ],
   "source": [
    "bar_chart('region')"
   ]
  },
  {
   "cell_type": "markdown",
   "metadata": {},
   "source": [
    "Waterpoints are most concentrated in Iringa, Shinyanga, Mbeya, Kilimanjaro, and Morogoro, ranking them as the top 5 regions."
   ]
  },
  {
   "cell_type": "code",
   "execution_count": 45,
   "metadata": {},
   "outputs": [
    {
     "data": {
      "image/png": "[encoded data removed]",
      "text/plain": [
       "<Figure size 720x432 with 1 Axes>"
      ]
     },
     "metadata": {
      "needs_background": "light"
     },
     "output_type": "display_data"
    }
   ],
   "source": [
    "bar_chart('waterpoint_type_group')"
   ]
  },
  {
   "cell_type": "markdown",
   "metadata": {},
   "source": [
    "Over half of the waterpoints are communal standpipes, with handpumps being another common type"
   ]
  },
  {
   "cell_type": "code",
   "execution_count": 46,
   "metadata": {},
   "outputs": [
    {
     "data": {
      "image/png": "[encoded data removed]",
      "text/plain": [
       "<Figure size 720x432 with 1 Axes>"
      ]
     },
     "metadata": {
      "needs_background": "light"
     },
     "output_type": "display_data"
    }
   ],
   "source": [
    "bar_chart('source')"
   ]
  },
  {
   "cell_type": "markdown",
   "metadata": {},
   "source": [
    "Waterpoints utilize a diverse range of water sources, with springs being the most prevalent, followed by shallow wells, machine dbh, rivers, rainwater harvesting, and dams."
   ]
  },
  {
   "cell_type": "code",
   "execution_count": 47,
   "metadata": {},
   "outputs": [
    {
     "data": {
      "image/png": "[encoded data removed]",
      "text/plain": [
       "<Figure size 720x432 with 1 Axes>"
      ]
     },
     "metadata": {
      "needs_background": "light"
     },
     "output_type": "display_data"
    }
   ],
   "source": [
    "bar_chart('quantity')"
   ]
  },
  {
   "cell_type": "markdown",
   "metadata": {},
   "source": [
    "Enough water is the most common availability status for waterpoints. However, some waterpoints experience insufficient water, dryness, seasonal fluctuations, or have unknown water quantities."
   ]
  },
  {
   "cell_type": "code",
   "execution_count": 48,
   "metadata": {},
   "outputs": [
    {
     "data": {
      "image/png": "[encoded data removed]",
      "text/plain": [
       "<Figure size 720x432 with 1 Axes>"
      ]
     },
     "metadata": {
      "needs_background": "light"
     },
     "output_type": "display_data"
    }
   ],
   "source": [
    "bar_chart('extraction_type_class')"
   ]
  },
  {
   "cell_type": "markdown",
   "metadata": {},
   "source": [
    "Gravity-powered pumps are the dominant choice for waterpoints, likely due to the land's topography. Hand pumps follow closely, suggesting a focus on cost-effectiveness. Wind-powered pumps are the least common option."
   ]
  },
  {
   "cell_type": "markdown",
   "metadata": {},
   "source": [
    "##### 1.2 Exploring Distributions of Numerical Variables"
   ]
  },
  {
   "cell_type": "code",
   "execution_count": 49,
   "metadata": {},
   "outputs": [],
   "source": [
    "#function that desplays density plots of the continuous features\n",
    "def density_plot(feature):\n",
    "    plt.figure(figsize=(10, 6))\n",
    "    sns.kdeplot(merged_df[feature], shade=True)\n",
    "    plt.title(f\"Density plot of {feature}\")\n",
    "    plt.xlabel(feature)\n",
    "    plt.ylabel(\"Density\")\n",
    "    plt.show()"
   ]
  },
  {
   "cell_type": "code",
   "execution_count": 50,
   "metadata": {},
   "outputs": [
    {
     "data": {
      "image/png": "[encoded data removed]",
      "text/plain": [
       "<Figure size 720x432 with 1 Axes>"
      ]
     },
     "metadata": {
      "needs_background": "light"
     },
     "output_type": "display_data"
    }
   ],
   "source": [
    "density_plot('amount_tsh')"
   ]
  },
  {
   "cell_type": "markdown",
   "metadata": {},
   "source": [
    "Total static head at waterpoints show bi-modal distribution.most values cluster in two zones : between -10 and 10, and 40 and 60 ."
   ]
  },
  {
   "cell_type": "code",
   "execution_count": 51,
   "metadata": {},
   "outputs": [
    {
     "data": {
      "image/png": "[encoded data removed]",
      "text/plain": [
       "<Figure size 720x432 with 1 Axes>"
      ]
     },
     "metadata": {
      "needs_background": "light"
     },
     "output_type": "display_data"
    }
   ],
   "source": [
    "density_plot('gps_height')"
   ]
  },
  {
   "cell_type": "markdown",
   "metadata": {},
   "source": [
    " Well distribution seems similar for all conditions, with a slight twist. Most values cluster in two zones: between - and 500, and between 500 and 2000, suggesting a bi-modal distribution."
   ]
  },
  {
   "cell_type": "code",
   "execution_count": 52,
   "metadata": {},
   "outputs": [
    {
     "data": {
      "image/png": "[encoded data removed]",
      "text/plain": [
       "<Figure size 720x432 with 1 Axes>"
      ]
     },
     "metadata": {
      "needs_background": "light"
     },
     "output_type": "display_data"
    }
   ],
   "source": [
    "density_plot('population')"
   ]
  },
  {
   "cell_type": "markdown",
   "metadata": {},
   "source": [
    "Based on the density plot of population,the distribution of the population around waterpoints are concentrated below 100, with a possible outlier between 500 and 600."
   ]
  },
  {
   "cell_type": "markdown",
   "metadata": {},
   "source": [
    "#### 2. Bivariate Analysis\n",
    "\n",
    "In this section, we delve into the relationships between the variables in our data. We will employ various statistical techniques to analyze how these variables interact and influence each other. This analysis aims to answer specific research questions formulated earlier, allowing us to gain deeper insights into the underlying patterns and dynamics within the data.\n",
    "\n",
    "##### a) Is there a correlation between the amount of water available at a waterpoint and the functionality of its pump?"
   ]
  },
  {
   "cell_type": "code",
   "execution_count": 53,
   "metadata": {},
   "outputs": [],
   "source": [
    "#function \n",
    "def count_plot(data, column, hue=None, palette=\"bright\"):\n",
    "    plt.figure(figsize=(12,6))\n",
    "    sns.countplot(x=column,data=data,hue=hue,order = data[column].value_counts().index)\n",
    "    plt.title(f\"{column} count plot\")\n",
    "    plt.ylabel('Count')\n",
    "    plt.xticks(rotation = 45)\n",
    "    plt.show()"
   ]
  },
  {
   "cell_type": "code",
   "execution_count": 54,
   "metadata": {},
   "outputs": [
    {
     "data": {
      "image/png": "[encoded data removed]",
      "text/plain": [
       "<Figure size 864x432 with 1 Axes>"
      ]
     },
     "metadata": {
      "needs_background": "light"
     },
     "output_type": "display_data"
    }
   ],
   "source": [
    "count_plot(merged_df, 'quantity', hue='status_group',palette=\"bright\")"
   ]
  },
  {
   "cell_type": "markdown",
   "metadata": {},
   "source": [
    "Our analysis reveals a clear link between water availability and waterpoint functionality.  Waterpoints with sufficient water, indicated by likely high discharge rates, boast significantly higher percentages of functional pumps. In contrast, waterpoints struggling with insufficient water supplies have very few functional pumps, highlighting the critical role water availability plays in ensuring a waterpoint's ability to serve the community."
   ]
  },
  {
   "cell_type": "markdown",
   "metadata": {},
   "source": [
    "##### b) Could the regional variations in factors like water quality, climate, or infrastructure influence the functionality of waterpoint pumps? "
   ]
  },
  {
   "cell_type": "code",
   "execution_count": 55,
   "metadata": {},
   "outputs": [
    {
     "data": {
      "image/png": "[encoded data removed]",
      "text/plain": [
       "<Figure size 864x432 with 1 Axes>"
      ]
     },
     "metadata": {
      "needs_background": "light"
     },
     "output_type": "display_data"
    }
   ],
   "source": [
    "count_plot(merged_df, 'region', hue='status_group',palette=\"bright\")"
   ]
  },
  {
   "cell_type": "markdown",
   "metadata": {},
   "source": [
    "Our analysis of regional disparities reveals interesting patterns. Iringa, Shinyanga, and Kilimanjaro stand out as the regions boasting the most functional waterpoint pumps. Conversely, Kilimanjaro and morogoro have a concerningly high number of non-functional pumps. While Kigoma doesn't have the most functional pumps overall, it does have the highest number of functional pumps in need of repair, highlighting a potential need for targeted maintenance efforts in that region."
   ]
  },
  {
   "cell_type": "markdown",
   "metadata": {},
   "source": [
    "##### c) Finally,Is there a correlation between the quality of water in a waterpoint and the functionality of its pump? We're interested in investigating if poor water quality can damage pumps or lead to operational problems."
   ]
  },
  {
   "cell_type": "code",
   "execution_count": 56,
   "metadata": {},
   "outputs": [
    {
     "data": {
      "image/png": "[encoded data removed]",
      "text/plain": [
       "<Figure size 864x432 with 1 Axes>"
      ]
     },
     "metadata": {
      "needs_background": "light"
     },
     "output_type": "display_data"
    }
   ],
   "source": [
    "count_plot(merged_df, 'water_quality', hue='status_group',palette=\"bright\")"
   ]
  },
  {
   "cell_type": "markdown",
   "metadata": {},
   "source": [
    "Our analysis reveals a noteworthy trend: waterpoint pumps with softer water tend to have higher functionality rates. This suggests a potential link between water hardness and pump wear and tear. Soft water, with lower mineral content, might be less corrosive to pump components compared to hard water. This could lead to reduced stress and damage on pumps in areas with softer water, resulting in a higher prevalence of functional pumps. "
   ]
  },
  {
   "cell_type": "markdown",
   "metadata": {},
   "source": [
    "**Lastly, before doing modeling lets check for multicollinearity among variables in our cleaned dataset using Variance Inflation Factor (VIF)**"
   ]
  },
  {
   "cell_type": "code",
   "execution_count": 57,
   "metadata": {},
   "outputs": [
    {
     "name": "stdout",
     "output_type": "stream",
     "text": [
      "Variance Inflation Factor (VIF):\n",
      "              Feature       VIF\n",
      "0         amount_tsh  1.662644\n",
      "1         gps_height  3.631462\n",
      "2        num_private       NaN\n",
      "3      district_code  1.313682\n",
      "4         population  2.077362\n",
      "5  construction_year  6.183237\n"
     ]
    }
   ],
   "source": [
    "from statsmodels.stats.outliers_influence import variance_inflation_factor\n",
    "# VIF Calculation\n",
    "# Select only the numerical columns\n",
    "numerical_cols = merged_df.select_dtypes(include=[np.number])\n",
    "\n",
    "# Calculate VIF\n",
    "vif_data = pd.DataFrame()\n",
    "vif_data[\"Feature\"] = numerical_cols.columns\n",
    "vif_data[\"VIF\"] = [variance_inflation_factor(numerical_cols.values, i) for i in range(len(numerical_cols.columns))]\n",
    "\n",
    "print(\"Variance Inflation Factor (VIF):\\n\", vif_data)\n"
   ]
  },
  {
   "cell_type": "markdown",
   "metadata": {},
   "source": [
    "VIF analysis suggests moderate multicollinearity for \"construction_year\" (VIF=6.183) which might affect model stability. Other features show low VIFs, indicating minimal multicollinearity concerns. Focus on \"construction_year\" during model refinement.\n",
    "To reduce multicollinearity,let's consider combining \"construction_year\" with other variables into a new feature (age of infrastructure) if it captures similar information."
   ]
  },
  {
   "cell_type": "code",
   "execution_count": 58,
   "metadata": {},
   "outputs": [
    {
     "name": "stdout",
     "output_type": "stream",
     "text": [
      "       amount_tsh  gps_height  ...    status_group age_of_infrastructure\n",
      "id                             ...                                      \n",
      "69572        50.0        1390  ...      functional                    25\n",
      "8776          0.0        1399  ...      functional                    14\n",
      "34310        25.0         686  ...      functional                    15\n",
      "67743         0.0         263  ...  non functional                    38\n",
      "19728         0.0           0  ...      functional                  2024\n",
      "\n",
      "[5 rows x 18 columns]\n"
     ]
    }
   ],
   "source": [
    "# Create a new column representing the age of infrastructure\n",
    "current_year = 2024  # Update with the current year\n",
    "merged_df['age_of_infrastructure'] = current_year - merged_df['construction_year']\n",
    "\n",
    "# Drop the original construction_year column\n",
    "merged_df.drop('construction_year', axis=1, inplace=True)\n",
    "\n",
    "# Check the first few rows of the DataFrame to verify the changes\n",
    "print(merged_df.head())\n",
    "\n"
   ]
  },
  {
   "cell_type": "code",
   "execution_count": 59,
   "metadata": {},
   "outputs": [
    {
     "data": {
      "text/html": [
       "<div>\n",
       "<style scoped>\n",
       "    .dataframe tbody tr th:only-of-type {\n",
       "        vertical-align: middle;\n",
       "    }\n",
       "\n",
       "    .dataframe tbody tr th {\n",
       "        vertical-align: top;\n",
       "    }\n",
       "\n",
       "    .dataframe thead th {\n",
       "        text-align: right;\n",
       "    }\n",
       "</style>\n",
       "<table border=\"1\" class=\"dataframe\">\n",
       "  <thead>\n",
       "    <tr style=\"text-align: right;\">\n",
       "      <th></th>\n",
       "      <th>amount_tsh</th>\n",
       "      <th>gps_height</th>\n",
       "      <th>num_private</th>\n",
       "      <th>basin</th>\n",
       "      <th>region</th>\n",
       "      <th>district_code</th>\n",
       "      <th>population</th>\n",
       "      <th>public_meeting</th>\n",
       "      <th>permit</th>\n",
       "      <th>extraction_type_class</th>\n",
       "      <th>management</th>\n",
       "      <th>payment_type</th>\n",
       "      <th>water_quality</th>\n",
       "      <th>quantity</th>\n",
       "      <th>source</th>\n",
       "      <th>waterpoint_type_group</th>\n",
       "      <th>status_group</th>\n",
       "      <th>age_of_infrastructure</th>\n",
       "    </tr>\n",
       "    <tr>\n",
       "      <th>id</th>\n",
       "      <th></th>\n",
       "      <th></th>\n",
       "      <th></th>\n",
       "      <th></th>\n",
       "      <th></th>\n",
       "      <th></th>\n",
       "      <th></th>\n",
       "      <th></th>\n",
       "      <th></th>\n",
       "      <th></th>\n",
       "      <th></th>\n",
       "      <th></th>\n",
       "      <th></th>\n",
       "      <th></th>\n",
       "      <th></th>\n",
       "      <th></th>\n",
       "      <th></th>\n",
       "      <th></th>\n",
       "    </tr>\n",
       "  </thead>\n",
       "  <tbody>\n",
       "    <tr>\n",
       "      <th>69572</th>\n",
       "      <td>50.0</td>\n",
       "      <td>1390</td>\n",
       "      <td>0.0</td>\n",
       "      <td>Lake Nyasa</td>\n",
       "      <td>Iringa</td>\n",
       "      <td>5</td>\n",
       "      <td>109.0</td>\n",
       "      <td>True</td>\n",
       "      <td>False</td>\n",
       "      <td>gravity</td>\n",
       "      <td>vwc</td>\n",
       "      <td>annually</td>\n",
       "      <td>soft</td>\n",
       "      <td>enough</td>\n",
       "      <td>spring</td>\n",
       "      <td>communal standpipe</td>\n",
       "      <td>functional</td>\n",
       "      <td>25</td>\n",
       "    </tr>\n",
       "    <tr>\n",
       "      <th>8776</th>\n",
       "      <td>0.0</td>\n",
       "      <td>1399</td>\n",
       "      <td>0.0</td>\n",
       "      <td>Lake Victoria</td>\n",
       "      <td>Mara</td>\n",
       "      <td>2</td>\n",
       "      <td>280.0</td>\n",
       "      <td>True</td>\n",
       "      <td>True</td>\n",
       "      <td>gravity</td>\n",
       "      <td>wug</td>\n",
       "      <td>never pay</td>\n",
       "      <td>soft</td>\n",
       "      <td>insufficient</td>\n",
       "      <td>rainwater harvesting</td>\n",
       "      <td>communal standpipe</td>\n",
       "      <td>functional</td>\n",
       "      <td>14</td>\n",
       "    </tr>\n",
       "    <tr>\n",
       "      <th>34310</th>\n",
       "      <td>25.0</td>\n",
       "      <td>686</td>\n",
       "      <td>0.0</td>\n",
       "      <td>Pangani</td>\n",
       "      <td>Manyara</td>\n",
       "      <td>4</td>\n",
       "      <td>250.0</td>\n",
       "      <td>True</td>\n",
       "      <td>True</td>\n",
       "      <td>gravity</td>\n",
       "      <td>vwc</td>\n",
       "      <td>per bucket</td>\n",
       "      <td>soft</td>\n",
       "      <td>enough</td>\n",
       "      <td>dam</td>\n",
       "      <td>communal standpipe</td>\n",
       "      <td>functional</td>\n",
       "      <td>15</td>\n",
       "    </tr>\n",
       "    <tr>\n",
       "      <th>67743</th>\n",
       "      <td>0.0</td>\n",
       "      <td>263</td>\n",
       "      <td>0.0</td>\n",
       "      <td>Ruvuma / Southern Coast</td>\n",
       "      <td>Mtwara</td>\n",
       "      <td>63</td>\n",
       "      <td>58.0</td>\n",
       "      <td>True</td>\n",
       "      <td>True</td>\n",
       "      <td>submersible</td>\n",
       "      <td>vwc</td>\n",
       "      <td>never pay</td>\n",
       "      <td>soft</td>\n",
       "      <td>dry</td>\n",
       "      <td>machine dbh</td>\n",
       "      <td>communal standpipe</td>\n",
       "      <td>non functional</td>\n",
       "      <td>38</td>\n",
       "    </tr>\n",
       "    <tr>\n",
       "      <th>19728</th>\n",
       "      <td>0.0</td>\n",
       "      <td>0</td>\n",
       "      <td>0.0</td>\n",
       "      <td>Lake Victoria</td>\n",
       "      <td>Kagera</td>\n",
       "      <td>1</td>\n",
       "      <td>0.0</td>\n",
       "      <td>True</td>\n",
       "      <td>True</td>\n",
       "      <td>gravity</td>\n",
       "      <td>other</td>\n",
       "      <td>never pay</td>\n",
       "      <td>soft</td>\n",
       "      <td>seasonal</td>\n",
       "      <td>rainwater harvesting</td>\n",
       "      <td>communal standpipe</td>\n",
       "      <td>functional</td>\n",
       "      <td>2024</td>\n",
       "    </tr>\n",
       "  </tbody>\n",
       "</table>\n",
       "</div>"
      ],
      "text/plain": [
       "       amount_tsh  gps_height  ...    status_group age_of_infrastructure\n",
       "id                             ...                                      \n",
       "69572        50.0        1390  ...      functional                    25\n",
       "8776          0.0        1399  ...      functional                    14\n",
       "34310        25.0         686  ...      functional                    15\n",
       "67743         0.0         263  ...  non functional                    38\n",
       "19728         0.0           0  ...      functional                  2024\n",
       "\n",
       "[5 rows x 18 columns]"
      ]
     },
     "execution_count": 59,
     "metadata": {},
     "output_type": "execute_result"
    }
   ],
   "source": [
    "merged_df.head()"
   ]
  },
  {
   "cell_type": "code",
   "execution_count": 60,
   "metadata": {},
   "outputs": [
    {
     "name": "stdout",
     "output_type": "stream",
     "text": [
      "Variance Inflation Factor (VIF):\n",
      "                  Feature       VIF\n",
      "0             amount_tsh  1.470361\n",
      "1             gps_height  1.730800\n",
      "2            num_private       NaN\n",
      "3          district_code  1.226769\n",
      "4             population  1.660241\n",
      "5  age_of_infrastructure  1.084691\n"
     ]
    }
   ],
   "source": [
    "#checking again for multicollinearity usong VIF\n",
    "# VIF Calculation\n",
    "# Select only the numerical columns\n",
    "numerical_cols = merged_df.select_dtypes(include=[np.number])\n",
    "\n",
    "# Calculate VIF\n",
    "vif_data = pd.DataFrame()\n",
    "vif_data[\"Feature\"] = numerical_cols.columns\n",
    "vif_data[\"VIF\"] = [variance_inflation_factor(numerical_cols.values, i) for i in range(len(numerical_cols.columns))]\n",
    "\n",
    "print(\"Variance Inflation Factor (VIF):\\n\", vif_data)"
   ]
  },
  {
   "cell_type": "markdown",
   "metadata": {},
   "source": [
    "\n",
    "The VIF values suggest low multicollinearity among the predictors, except for num_private, which requires further investigation due to its NaN VIF value."
   ]
  },
  {
   "cell_type": "code",
   "execution_count": 61,
   "metadata": {},
   "outputs": [
    {
     "name": "stdout",
     "output_type": "stream",
     "text": [
      "The 'num_private' feature contains constant values.\n"
     ]
    }
   ],
   "source": [
    "# Check for constant values\n",
    "if merged_df['num_private'].nunique() == 1:\n",
    "    print(\"The 'num_private' feature contains constant values.\")\n",
    "\n",
    "# Check for missing values\n",
    "if merged_df['num_private'].isnull().any():\n",
    "    print(\"The 'num_private' feature contains missing values.\")\n"
   ]
  },
  {
   "cell_type": "markdown",
   "metadata": {},
   "source": [
    "The outcome of checking the num_private feature reveals that it contains constant values.\n",
    "\n",
    "Lets Drop the feature."
   ]
  },
  {
   "cell_type": "code",
   "execution_count": 62,
   "metadata": {},
   "outputs": [],
   "source": [
    "merged_df.drop('num_private', axis=1, inplace=True)\n"
   ]
  },
  {
   "cell_type": "code",
   "execution_count": 63,
   "metadata": {},
   "outputs": [
    {
     "name": "stdout",
     "output_type": "stream",
     "text": [
      "amount_tsh \n",
      " 0.0     0.700993\n",
      "50.0    0.229512\n",
      "20.0    0.024630\n",
      "10.0    0.013569\n",
      "30.0    0.012508\n",
      "Name: amount_tsh, dtype: float64 \n",
      "\n",
      "\n",
      "gps_height \n",
      "  0     0.344074\n",
      "-15    0.001010\n",
      "-16    0.000926\n",
      "-13    0.000926\n",
      "-20    0.000875\n",
      "Name: gps_height, dtype: float64 \n",
      "\n",
      "\n",
      "basin \n",
      " Lake Victoria      0.172525\n",
      "Pangani            0.150505\n",
      "Rufiji             0.134276\n",
      "Internal           0.131061\n",
      "Lake Tanganyika    0.108283\n",
      "Name: basin, dtype: float64 \n",
      "\n",
      "\n",
      "region \n",
      " Iringa         0.089125\n",
      "Shinyanga      0.083872\n",
      "Mbeya          0.078098\n",
      "Kilimanjaro    0.073721\n",
      "Morogoro       0.067441\n",
      "Name: region, dtype: float64 \n",
      "\n",
      "\n",
      "district_code \n",
      " 1    0.205438\n",
      "2    0.188098\n",
      "3    0.168316\n",
      "4    0.151498\n",
      "5    0.073333\n",
      "Name: district_code, dtype: float64 \n",
      "\n",
      "\n",
      "population \n",
      " 0.0      0.359949\n",
      "1.0      0.118266\n",
      "537.5    0.073788\n",
      "200.0    0.032660\n",
      "150.0    0.031852\n",
      "Name: population, dtype: float64 \n",
      "\n",
      "\n",
      "public_meeting \n",
      " True     0.914899\n",
      "False    0.085101\n",
      "Name: public_meeting, dtype: float64 \n",
      "\n",
      "\n",
      "permit \n",
      " True     0.705522\n",
      "False    0.294478\n",
      "Name: permit, dtype: float64 \n",
      "\n",
      "\n",
      "extraction_type_class \n",
      " gravity        0.450842\n",
      "handpump       0.277037\n",
      "other          0.108249\n",
      "submersible    0.104024\n",
      "motorpump      0.050286\n",
      "Name: extraction_type_class, dtype: float64 \n",
      "\n",
      "\n",
      "management \n",
      " vwc                 0.681936\n",
      "wug                 0.109680\n",
      "water board         0.049377\n",
      "wua                 0.042677\n",
      "private operator    0.033182\n",
      "Name: management, dtype: float64 \n",
      "\n",
      "\n",
      "payment_type \n",
      " never pay     0.426734\n",
      "per bucket    0.151263\n",
      "monthly       0.139731\n",
      "unknown       0.137323\n",
      "on failure    0.065892\n",
      "Name: payment_type, dtype: float64 \n",
      "\n",
      "\n",
      "water_quality \n",
      " soft        0.855522\n",
      "salty       0.081751\n",
      "unknown     0.031582\n",
      "milky       0.013535\n",
      "coloured    0.008249\n",
      "Name: water_quality, dtype: float64 \n",
      "\n",
      "\n",
      "quantity \n",
      " enough          0.558687\n",
      "insufficient    0.254697\n",
      "dry             0.105152\n",
      "seasonal        0.068182\n",
      "unknown         0.013283\n",
      "Name: quantity, dtype: float64 \n",
      "\n",
      "\n",
      "source \n",
      " spring                  0.286549\n",
      "shallow well            0.283232\n",
      "machine dbh             0.186448\n",
      "river                   0.161818\n",
      "rainwater harvesting    0.038636\n",
      "Name: source, dtype: float64 \n",
      "\n",
      "\n",
      "waterpoint_type_group \n",
      " communal standpipe    0.582912\n",
      "hand pump             0.294411\n",
      "other                 0.107407\n",
      "improved spring       0.013199\n",
      "cattle trough         0.001953\n",
      "Name: waterpoint_type_group, dtype: float64 \n",
      "\n",
      "\n",
      "status_group \n",
      " functional                 0.543081\n",
      "non functional             0.384242\n",
      "functional needs repair    0.072677\n",
      "Name: status_group, dtype: float64 \n",
      "\n",
      "\n",
      "age_of_infrastructure \n",
      " 2024    0.348636\n",
      "14      0.044529\n",
      "16      0.043990\n",
      "15      0.042643\n",
      "24      0.035202\n",
      "Name: age_of_infrastructure, dtype: float64 \n",
      "\n",
      "\n"
     ]
    }
   ],
   "source": [
    "for col in merged_df.columns:\n",
    "    print(col, '\\n', merged_df[col].value_counts(normalize=True).head(), '\\n\\n' )"
   ]
  },
  {
   "cell_type": "markdown",
   "metadata": {},
   "source": [
    "To avoid losing potentially valuable data and maintain feature variability, I'll use KNN imputation from scikit-learn to fill missing values based on the mean of the nearest neighbors in the data.(based on the observation we got from the above \"value counts\")"
   ]
  },
  {
   "cell_type": "code",
   "execution_count": 64,
   "metadata": {},
   "outputs": [
    {
     "name": "stdout",
     "output_type": "stream",
     "text": [
      "Missing values in population: 21381\n",
      "Missing values in age_of_infrastructure: 20709\n",
      "Missing values in payment_type: 8157\n",
      "Missing values in water_quality: 1876\n",
      "Missing values in quantity: 789\n"
     ]
    }
   ],
   "source": [
    "# Define the features and corresponding filler values\n",
    "columns_with_fillers_dict = {'population': 0, 'age_of_infrastructure': 2024, 'payment_type': 'unknown', 'water_quality': 'unknown', 'quantity': 'unknown'}\n",
    "#renaming my dataframe \n",
    "features = merged_df.copy()\n",
    "# Replace the filler values with NaN and print the resulting number of missing values\n",
    "for feature, filler in columns_with_fillers_dict.items():\n",
    "    features[feature] = features[feature].map(lambda x: np.nan if x == filler else x)\n",
    "    print(f\"Missing values in {feature}: {features[feature].isna().sum()}\")\n",
    "\n"
   ]
  },
  {
   "cell_type": "markdown",
   "metadata": {},
   "source": [
    "## <li> **Modeling**"
   ]
  },
  {
   "cell_type": "markdown",
   "metadata": {},
   "source": [
    "To optimize our model's performance, we'll delve into various machine learning approaches, evaluating which yields the most accurate results.They include:\n",
    "* Random Forest\n",
    "* Logistic Regression                      \n",
    "* KNN Model                 \n",
    "* XGBoost  \n",
    "\n",
    "**Let's start with Data Preprocessing.**"
   ]
  },
  {
   "cell_type": "markdown",
   "metadata": {},
   "source": [
    "To ensure our model training process is unbiased, we'll now split the data into training and testing sets using scikit-learn's train_test_split function. This separation prevents data leakage from the test set, which could artificially inflate the model's performance."
   ]
  },
  {
   "cell_type": "code",
   "execution_count": 65,
   "metadata": {},
   "outputs": [],
   "source": [
    "# Importing libraries needed\n",
    "# For Scaling \n",
    "from sklearn.preprocessing import StandardScaler\n",
    "from sklearn.model_selection import train_test_split\n",
    "from sklearn.preprocessing import LabelEncoder"
   ]
  },
  {
   "cell_type": "code",
   "execution_count": 66,
   "metadata": {},
   "outputs": [
    {
     "data": {
      "text/html": [
       "<div>\n",
       "<style scoped>\n",
       "    .dataframe tbody tr th:only-of-type {\n",
       "        vertical-align: middle;\n",
       "    }\n",
       "\n",
       "    .dataframe tbody tr th {\n",
       "        vertical-align: top;\n",
       "    }\n",
       "\n",
       "    .dataframe thead th {\n",
       "        text-align: right;\n",
       "    }\n",
       "</style>\n",
       "<table border=\"1\" class=\"dataframe\">\n",
       "  <thead>\n",
       "    <tr style=\"text-align: right;\">\n",
       "      <th></th>\n",
       "      <th>amount_tsh</th>\n",
       "      <th>gps_height</th>\n",
       "      <th>basin</th>\n",
       "      <th>region</th>\n",
       "      <th>district_code</th>\n",
       "      <th>population</th>\n",
       "      <th>public_meeting</th>\n",
       "      <th>permit</th>\n",
       "      <th>extraction_type_class</th>\n",
       "      <th>management</th>\n",
       "      <th>payment_type</th>\n",
       "      <th>water_quality</th>\n",
       "      <th>quantity</th>\n",
       "      <th>source</th>\n",
       "      <th>waterpoint_type_group</th>\n",
       "      <th>status_group</th>\n",
       "      <th>age_of_infrastructure</th>\n",
       "    </tr>\n",
       "    <tr>\n",
       "      <th>id</th>\n",
       "      <th></th>\n",
       "      <th></th>\n",
       "      <th></th>\n",
       "      <th></th>\n",
       "      <th></th>\n",
       "      <th></th>\n",
       "      <th></th>\n",
       "      <th></th>\n",
       "      <th></th>\n",
       "      <th></th>\n",
       "      <th></th>\n",
       "      <th></th>\n",
       "      <th></th>\n",
       "      <th></th>\n",
       "      <th></th>\n",
       "      <th></th>\n",
       "      <th></th>\n",
       "    </tr>\n",
       "  </thead>\n",
       "  <tbody>\n",
       "    <tr>\n",
       "      <th>69572</th>\n",
       "      <td>50.0</td>\n",
       "      <td>1390</td>\n",
       "      <td>Lake Nyasa</td>\n",
       "      <td>Iringa</td>\n",
       "      <td>5</td>\n",
       "      <td>109.0</td>\n",
       "      <td>True</td>\n",
       "      <td>False</td>\n",
       "      <td>gravity</td>\n",
       "      <td>vwc</td>\n",
       "      <td>annually</td>\n",
       "      <td>soft</td>\n",
       "      <td>enough</td>\n",
       "      <td>spring</td>\n",
       "      <td>communal standpipe</td>\n",
       "      <td>functional</td>\n",
       "      <td>25</td>\n",
       "    </tr>\n",
       "    <tr>\n",
       "      <th>8776</th>\n",
       "      <td>0.0</td>\n",
       "      <td>1399</td>\n",
       "      <td>Lake Victoria</td>\n",
       "      <td>Mara</td>\n",
       "      <td>2</td>\n",
       "      <td>280.0</td>\n",
       "      <td>True</td>\n",
       "      <td>True</td>\n",
       "      <td>gravity</td>\n",
       "      <td>wug</td>\n",
       "      <td>never pay</td>\n",
       "      <td>soft</td>\n",
       "      <td>insufficient</td>\n",
       "      <td>rainwater harvesting</td>\n",
       "      <td>communal standpipe</td>\n",
       "      <td>functional</td>\n",
       "      <td>14</td>\n",
       "    </tr>\n",
       "    <tr>\n",
       "      <th>34310</th>\n",
       "      <td>25.0</td>\n",
       "      <td>686</td>\n",
       "      <td>Pangani</td>\n",
       "      <td>Manyara</td>\n",
       "      <td>4</td>\n",
       "      <td>250.0</td>\n",
       "      <td>True</td>\n",
       "      <td>True</td>\n",
       "      <td>gravity</td>\n",
       "      <td>vwc</td>\n",
       "      <td>per bucket</td>\n",
       "      <td>soft</td>\n",
       "      <td>enough</td>\n",
       "      <td>dam</td>\n",
       "      <td>communal standpipe</td>\n",
       "      <td>functional</td>\n",
       "      <td>15</td>\n",
       "    </tr>\n",
       "    <tr>\n",
       "      <th>67743</th>\n",
       "      <td>0.0</td>\n",
       "      <td>263</td>\n",
       "      <td>Ruvuma / Southern Coast</td>\n",
       "      <td>Mtwara</td>\n",
       "      <td>63</td>\n",
       "      <td>58.0</td>\n",
       "      <td>True</td>\n",
       "      <td>True</td>\n",
       "      <td>submersible</td>\n",
       "      <td>vwc</td>\n",
       "      <td>never pay</td>\n",
       "      <td>soft</td>\n",
       "      <td>dry</td>\n",
       "      <td>machine dbh</td>\n",
       "      <td>communal standpipe</td>\n",
       "      <td>non functional</td>\n",
       "      <td>38</td>\n",
       "    </tr>\n",
       "    <tr>\n",
       "      <th>19728</th>\n",
       "      <td>0.0</td>\n",
       "      <td>0</td>\n",
       "      <td>Lake Victoria</td>\n",
       "      <td>Kagera</td>\n",
       "      <td>1</td>\n",
       "      <td>0.0</td>\n",
       "      <td>True</td>\n",
       "      <td>True</td>\n",
       "      <td>gravity</td>\n",
       "      <td>other</td>\n",
       "      <td>never pay</td>\n",
       "      <td>soft</td>\n",
       "      <td>seasonal</td>\n",
       "      <td>rainwater harvesting</td>\n",
       "      <td>communal standpipe</td>\n",
       "      <td>functional</td>\n",
       "      <td>2024</td>\n",
       "    </tr>\n",
       "  </tbody>\n",
       "</table>\n",
       "</div>"
      ],
      "text/plain": [
       "       amount_tsh  gps_height  ...    status_group age_of_infrastructure\n",
       "id                             ...                                      \n",
       "69572        50.0        1390  ...      functional                    25\n",
       "8776          0.0        1399  ...      functional                    14\n",
       "34310        25.0         686  ...      functional                    15\n",
       "67743         0.0         263  ...  non functional                    38\n",
       "19728         0.0           0  ...      functional                  2024\n",
       "\n",
       "[5 rows x 17 columns]"
      ]
     },
     "execution_count": 66,
     "metadata": {},
     "output_type": "execute_result"
    }
   ],
   "source": [
    "merged_df.head()"
   ]
  },
  {
   "cell_type": "markdown",
   "metadata": {},
   "source": [
    "To train and evaluate the model effectively, we'll split the data into training and testing sets."
   ]
  },
  {
   "cell_type": "code",
   "execution_count": 67,
   "metadata": {},
   "outputs": [],
   "source": [
    "#determing the target variable and features\n",
    "y = merged_df['status_group']\n",
    "X = merged_df.drop(['status_group'], axis=1)\n",
    "\n",
    "# Splitting the data to training set and testing set\n",
    "X_train, X_test, y_train, y_test = train_test_split(X, y, test_size =0.3, random_state = 42)\n"
   ]
  },
  {
   "cell_type": "code",
   "execution_count": 68,
   "metadata": {},
   "outputs": [
    {
     "name": "stdout",
     "output_type": "stream",
     "text": [
      "X_train has 41580 rows and 16 columns\n",
      "X_test has 17820 rows and 16 columns\n",
      "y_train has 41580 rows\n",
      "y_test has 17820 rows\n"
     ]
    }
   ],
   "source": [
    "# Checking the shape of the split data\n",
    "print(f'X_train has {X_train.shape[0]} rows and {X_train.shape[1]} columns')\n",
    "print(f'X_test has {X_test.shape[0]} rows and {X_test.shape[1]} columns')\n",
    "print(f'y_train has {y_train.shape[0]} rows')\n",
    "print(f'y_test has {y_test.shape[0]} rows')\n"
   ]
  },
  {
   "cell_type": "markdown",
   "metadata": {},
   "source": [
    "We will use one-hot encoding to convert our categorical features into dummy variables. These dummy variables will then be added to the DataFrame, replacing the original categorical features. This approach allows us to leverage the information in our categorical data while avoiding multicollinearity issues caused by the dummy variable trap."
   ]
  },
  {
   "cell_type": "code",
   "execution_count": 69,
   "metadata": {},
   "outputs": [],
   "source": [
    "# Converting categorical variable into dummy variables for X_train\n",
    "X_train_cat = pd.get_dummies(X_train.select_dtypes(include = [\"object\",'bool']))\n",
    "\n",
    "# Converting categorical variable into dummy variables for X_test\n",
    "\n",
    "X_test_cat = pd.get_dummies( X_test.select_dtypes(include = [\"object\",'bool']))"
   ]
  },
  {
   "cell_type": "code",
   "execution_count": 70,
   "metadata": {},
   "outputs": [],
   "source": [
    "# Concatenating Numerical values with dummy variables for X_train\n",
    "X_train_2 = pd.concat([X_train.select_dtypes(exclude = [\"object\",'bool']),X_train_cat,],axis = 1)\n",
    "\n",
    "# Concatenating Numerical values with dummy variables for X_test\n",
    "X_test_2 = pd.concat([X_test.select_dtypes(exclude = [\"object\",'bool']),X_test_cat],axis = 1)"
   ]
  },
  {
   "cell_type": "markdown",
   "metadata": {},
   "source": [
    "Applying StandardScaler for Feature Scaling"
   ]
  },
  {
   "cell_type": "code",
   "execution_count": 71,
   "metadata": {},
   "outputs": [],
   "source": [
    "# Instantiate StandardScaler\n",
    "\n",
    "scaler = StandardScaler()\n",
    "\n",
    "# Fit and transform X_train\n",
    "\n",
    "X_train_scaled = scaler.fit_transform(X_train_2)\n",
    "\n",
    "# Transform X_test\n",
    "\n",
    "X_test_scaled = scaler.transform(X_test_2)"
   ]
  },
  {
   "cell_type": "markdown",
   "metadata": {},
   "source": [
    "To prepare our target variable for machine learning algorithms, we will use LabelEncoder to convert categorical labels into numerical values."
   ]
  },
  {
   "cell_type": "code",
   "execution_count": 72,
   "metadata": {},
   "outputs": [],
   "source": [
    "# Instantiate LabelEncoder\n",
    "label_encoding = LabelEncoder()\n",
    "\n",
    "# fit_transforming the y_train\n",
    "\n",
    "y_train_2 = label_encoding.fit_transform(y_train)\n",
    "\n",
    "# Transforming y_test\n",
    "\n",
    "y_test_2 = label_encoding.transform(y_test)"
   ]
  },
  {
   "cell_type": "code",
   "execution_count": 73,
   "metadata": {},
   "outputs": [
    {
     "name": "stdout",
     "output_type": "stream",
     "text": [
      "functional                 22535\n",
      "non functional             16021\n",
      "functional needs repair     3024\n",
      "Name: status_group, dtype: int64\n",
      "\n",
      "\n",
      "0    22535\n",
      "2    16021\n",
      "1     3024\n",
      "dtype: int64\n"
     ]
    }
   ],
   "source": [
    "# Checking the labelencoded values for y_train\n",
    "y_train_series = pd.Series(y_train_2)\n",
    "print(y_train.value_counts())\n",
    "print(\"\\n\")\n",
    "print(y_train_series.value_counts())"
   ]
  },
  {
   "cell_type": "code",
   "execution_count": 74,
   "metadata": {},
   "outputs": [
    {
     "name": "stdout",
     "output_type": "stream",
     "text": [
      "functional                 9724\n",
      "non functional             6803\n",
      "functional needs repair    1293\n",
      "Name: status_group, dtype: int64\n",
      "\n",
      "\n",
      "0    9724\n",
      "2    6803\n",
      "1    1293\n",
      "dtype: int64\n"
     ]
    }
   ],
   "source": [
    "# Checking the labelencoded values for y_test\n",
    "y_test_series = pd.Series(y_test_2)\n",
    "print(y_test.value_counts())\n",
    "print(\"\\n\")\n",
    "print(y_test_series.value_counts())"
   ]
  },
  {
   "cell_type": "markdown",
   "metadata": {},
   "source": [
    "For our target variable(status_group) :  0 represents functional wells, 2 represents non functional wells, 1 represents  functional needs repair\n",
    "\n",
    "\n",
    "To address an imbalance in our training data where one class (likely non-functional water points) was less frequent, we employed SMOTE (Synthetic Minority Oversampling Technique). SMOTE creates synthetic data points based on existing minority class examples, essentially oversampling this class. This helps the model learn more effectively from the underrepresented class and potentially improve its performance in predicting non-functional water points."
   ]
  },
  {
   "cell_type": "code",
   "execution_count": 75,
   "metadata": {},
   "outputs": [],
   "source": [
    "from imblearn.over_sampling import SMOTE\n",
    "# Instantiating smote\n",
    "smote = SMOTE()\n",
    "# Fitting smote\n",
    "X_train_resampled, y_train_resampled = smote.fit_resample(X_train_scaled, y_train_2)"
   ]
  },
  {
   "cell_type": "markdown",
   "metadata": {},
   "source": [
    "### 1. Random Forest\n",
    "choosing our first model"
   ]
  },
  {
   "cell_type": "code",
   "execution_count": 76,
   "metadata": {},
   "outputs": [
    {
     "name": "stdout",
     "output_type": "stream",
     "text": [
      "Training Accuracy: 93.75%\n",
      "Validation accuracy: 75.99%\n"
     ]
    }
   ],
   "source": [
    "# instantiating RandomForestClassifier\n",
    "RF_model = RandomForestClassifier()\n",
    "# Fitting RandomForestClassifier\n",
    "RF_model = RF_model.fit(X_train_resampled, y_train_resampled)\n",
    "\n",
    "# Predict on training and test sets\n",
    "RF_training_preds = RF_model.predict(X_train_resampled)\n",
    "RF_test_preds = RF_model.predict(X_test_scaled)\n",
    "\n",
    "# Accuracy of training and test sets\n",
    "RF_training_accuracy = accuracy_score(y_train_resampled, RF_training_preds)\n",
    "RF_test_accuracy = accuracy_score(y_test_2, RF_test_preds)\n",
    "\n",
    "print('Training Accuracy: {:.4}%'.format(RF_training_accuracy * 100))\n",
    "print('Validation accuracy: {:.4}%'.format(RF_test_accuracy * 100))"
   ]
  },
  {
   "cell_type": "markdown",
   "metadata": {},
   "source": [
    "Our Random Forest model seems to be overfitting the training data. To address this and find optimal hyperparameters that reduce overfitting, we'll conduct a grid search."
   ]
  },
  {
   "cell_type": "code",
   "execution_count": 77,
   "metadata": {},
   "outputs": [],
   "source": [
    "# Defining a parameter grid\n",
    "param_grid = { \n",
    "    'n_estimators': [50, 100, 150],\n",
    "    'max_features': ['auto', 'sqrt', 'log2'],\n",
    "    'max_depth' : [3,4,5],\n",
    "    'criterion' :['gini', 'entropy']}\n"
   ]
  },
  {
   "cell_type": "code",
   "execution_count": 78,
   "metadata": {},
   "outputs": [
    {
     "data": {
      "text/plain": [
       "GridSearchCV(cv=5, estimator=RandomForestClassifier(),\n",
       "             param_grid={'criterion': ['gini', 'entropy'],\n",
       "                         'max_depth': [3, 4, 5],\n",
       "                         'max_features': ['auto', 'sqrt', 'log2'],\n",
       "                         'n_estimators': [50, 100, 150]})"
      ]
     },
     "execution_count": 78,
     "metadata": {},
     "output_type": "execute_result"
    }
   ],
   "source": [
    "# Grid searching\n",
    "RF_CV = GridSearchCV(estimator=RF_model, param_grid=param_grid, cv= 5)\n",
    "RF_CV.fit(X_train_resampled,y_train_resampled)"
   ]
  },
  {
   "cell_type": "code",
   "execution_count": 79,
   "metadata": {},
   "outputs": [
    {
     "data": {
      "text/plain": [
       "{'criterion': 'entropy',\n",
       " 'max_depth': 5,\n",
       " 'max_features': 'sqrt',\n",
       " 'n_estimators': 150}"
      ]
     },
     "execution_count": 79,
     "metadata": {},
     "output_type": "execute_result"
    }
   ],
   "source": [
    "# Getting the best hyperparameters for our RandomForestClassifier\n",
    "RF_CV.best_params_"
   ]
  },
  {
   "cell_type": "code",
   "execution_count": 80,
   "metadata": {},
   "outputs": [],
   "source": [
    "# Instantiating RandomForestClassifier model using the best parameters from the grid search\n",
    "RF_CV_model = RandomForestClassifier(criterion = 'entropy',max_depth = 8, max_features= 'sqrt',\n",
    "                                     n_estimators = 150)"
   ]
  },
  {
   "cell_type": "code",
   "execution_count": 81,
   "metadata": {},
   "outputs": [
    {
     "data": {
      "text/plain": [
       "RandomForestClassifier(criterion='entropy', max_depth=8, max_features='sqrt',\n",
       "                       n_estimators=150)"
      ]
     },
     "execution_count": 81,
     "metadata": {},
     "output_type": "execute_result"
    }
   ],
   "source": [
    "# Fitting the model\n",
    "RF_CV_model.fit(X_train_scaled,y_train_2)"
   ]
  },
  {
   "cell_type": "markdown",
   "metadata": {},
   "source": [
    "Evaluating random forest model"
   ]
  },
  {
   "cell_type": "code",
   "execution_count": 82,
   "metadata": {},
   "outputs": [
    {
     "name": "stdout",
     "output_type": "stream",
     "text": [
      "Precision: 0.7300785634118967\n",
      "Recall: 0.7300785634118967\n",
      "Accuracy: 0.7300785634118967\n",
      "F1 Score: 0.7300785634118966\n"
     ]
    },
    {
     "data": {
      "image/png": "[encoded data removed]",
      "text/plain": [
       "<Figure size 432x288 with 2 Axes>"
      ]
     },
     "metadata": {
      "needs_background": "light"
     },
     "output_type": "display_data"
    }
   ],
   "source": [
    "from sklearn.metrics import accuracy_score, f1_score, precision_score, recall_score\n",
    "from sklearn.metrics import plot_confusion_matrix\n",
    "from sklearn.metrics import confusion_matrix\n",
    "# Predictions on testing data\n",
    "y_pred = RF_CV_model.predict(X_test_scaled)\n",
    "\n",
    "# Evaluation metrics\n",
    "precision = precision_score(y_test_2, y_pred, average='micro')\n",
    "recall = recall_score(y_test_2, y_pred, average='micro')\n",
    "accuracy = accuracy_score(y_test_2, y_pred)\n",
    "f1 = f1_score(y_test_2, y_pred, average='micro')\n",
    "\n",
    "print(\"Precision:\", precision)\n",
    "print(\"Recall:\", recall)\n",
    "print(\"Accuracy:\", accuracy)\n",
    "print(\"F1 Score:\", f1)\n",
    "\n",
    "# Confusion matrix for trainig data\n",
    "plot_confusion_matrix(RF_CV_model, X_train_resampled, y_train_resampled, cmap=\"Greens\")\n",
    "plt.title(\"Confusion Matrix\")\n",
    "plt.xlabel(\"Predicted Label\")\n",
    "plt.ylabel(\"True Label\")\n",
    "plt.show()"
   ]
  },
  {
   "cell_type": "code",
   "execution_count": 83,
   "metadata": {},
   "outputs": [
    {
     "data": {
      "image/png": "[encoded data removed]",
      "text/plain": [
       "<Figure size 432x288 with 2 Axes>"
      ]
     },
     "metadata": {
      "needs_background": "light"
     },
     "output_type": "display_data"
    }
   ],
   "source": [
    "# Confusion matrix for testing data\n",
    "plot_confusion_matrix(RF_CV_model, X_test_scaled, y_test_2, cmap=\"Greens\")\n",
    "plt.title(\"Confusion Matrix\")\n",
    "plt.xlabel(\"Predicted Label\")\n",
    "plt.ylabel(\"True Label\")\n",
    "plt.show()"
   ]
  },
  {
   "cell_type": "code",
   "execution_count": 84,
   "metadata": {},
   "outputs": [
    {
     "name": "stdout",
     "output_type": "stream",
     "text": [
      "Training Accuracy: 50.38%\n",
      "Validation accuracy: 73.01%\n"
     ]
    }
   ],
   "source": [
    "# Predict on training and test sets\n",
    "RF_CV_model_training_preds = RF_CV_model.predict(X_train_resampled)\n",
    "RF_CV_model_preds = RF_CV_model.predict(X_test_scaled)\n",
    "\n",
    "\n",
    "# Accuracy of training and test sets\n",
    "best_forest_training_accuracy = accuracy_score(y_train_resampled, RF_CV_model_training_preds)\n",
    "best_forest_test_accuracy = accuracy_score(y_test_2, RF_CV_model_preds)\n",
    "\n",
    "print('Training Accuracy: {:.4}%'.format(best_forest_training_accuracy * 100))\n",
    "print('Validation accuracy: {:.4}%'.format(best_forest_test_accuracy * 100))"
   ]
  },
  {
   "cell_type": "code",
   "execution_count": 85,
   "metadata": {},
   "outputs": [
    {
     "name": "stdout",
     "output_type": "stream",
     "text": [
      "Train cross validation: 0.6940906737667334\n",
      "Test cross validation: 0.7275533108866442\n"
     ]
    }
   ],
   "source": [
    "# validate RandomForest regressor\n",
    "\n",
    "#train cross validation\n",
    "RF_CV_model_train_cv_score = cross_val_score(RF_CV_model, X_train_resampled,\n",
    "                                        y_train_resampled, cv = 5, n_jobs = -1).mean()\n",
    "print('Train cross validation:', RF_CV_model_train_cv_score)\n",
    "\n",
    "#test cross validation\n",
    "RF_CV_model_test_cv_score = cross_val_score(RF_CV_model, X_test_scaled, y_test_2,\n",
    "                                       cv = 5, n_jobs = -1).mean()\n",
    "print('Test cross validation:', RF_CV_model_test_cv_score)"
   ]
  },
  {
   "cell_type": "markdown",
   "metadata": {},
   "source": [
    "Since hyperparameter tuning didn't resolve underfitting in the Random Forest model, we'll explore other algorithms.\n",
    "\n",
    "### 2. Logistic Regression"
   ]
  },
  {
   "cell_type": "code",
   "execution_count": 86,
   "metadata": {},
   "outputs": [
    {
     "name": "stdout",
     "output_type": "stream",
     "text": [
      "Training Accuracy: 63.2%\n",
      "Validation accuracy: 61.38%\n"
     ]
    }
   ],
   "source": [
    "#instantiating logistic regression\n",
    "LR_model = LogisticRegression(random_state = 42,\n",
    "                            multi_class =\"multinomial\",\n",
    "                            class_weight = \"balanced\")\n",
    "\n",
    "# Fitting logistic regression\n",
    "LR_model = LR_model.fit(X_train_resampled, y_train_resampled)\n",
    "\n",
    "# Predicting on training and test sets\n",
    "log_training_preds = LR_model.predict(X_train_resampled)\n",
    "log_test_preds = LR_model.predict(X_test_scaled)\n",
    "\n",
    "# Accuracy of training and test sets\n",
    "log_training_accuracy = accuracy_score(y_train_resampled, log_training_preds)\n",
    "log_test_accuracy = accuracy_score(y_test_2, log_test_preds)\n",
    "\n",
    "print('Training Accuracy: {:.4}%'.format(log_training_accuracy * 100))\n",
    "print('Validation accuracy: {:.4}%'.format(log_test_accuracy * 100))"
   ]
  },
  {
   "cell_type": "markdown",
   "metadata": {},
   "source": [
    "While the initial model showed minimal overfitting (similar training/validation accuracy), it didn't meet our target. We'll use hyperparameter tuning to optimize performance."
   ]
  },
  {
   "cell_type": "code",
   "execution_count": 87,
   "metadata": {},
   "outputs": [
    {
     "name": "stdout",
     "output_type": "stream",
     "text": [
      "Fitting 3 folds for each of 40 candidates, totalling 120 fits\n"
     ]
    },
    {
     "data": {
      "text/plain": [
       "{'C': 0.0774263682681127, 'penalty': 'l2', 'solver': 'newton-cg'}"
      ]
     },
     "execution_count": 87,
     "metadata": {},
     "output_type": "execute_result"
    }
   ],
   "source": [
    "# Creating a parameter grid for logistic regression\n",
    "param_grid = [{'penalty' : ['l1', 'l2'],\n",
    "               'C' : np.logspace(-2, 2, 10),\n",
    "               'solver' : ['lbfgs','newton-cg']}]\n",
    "\n",
    "# Create a GridSearchCv\n",
    "LR_model_clf = GridSearchCV(estimator=LR_model,\n",
    "                          param_grid=param_grid,\n",
    "                          cv=3, verbose=True, n_jobs=-1)\n",
    "\n",
    "# Fitting using grid search\n",
    "LR_model_clf = LR_model_clf.fit(X_train_resampled, y_train_resampled)\n",
    "\n",
    "# Getting the best hyperparameters for our logistic regression \n",
    "LR_model_clf.best_params_\n"
   ]
  },
  {
   "cell_type": "markdown",
   "metadata": {},
   "source": [
    "tuning our model\n"
   ]
  },
  {
   "cell_type": "code",
   "execution_count": 88,
   "metadata": {},
   "outputs": [
    {
     "data": {
      "image/png": "[encoded data removed]",
      "text/plain": [
       "<Figure size 432x288 with 2 Axes>"
      ]
     },
     "metadata": {
      "needs_background": "light"
     },
     "output_type": "display_data"
    },
    {
     "name": "stdout",
     "output_type": "stream",
     "text": [
      "Precision: 0.6138047138047138\n",
      "Recall: 0.6138047138047138\n",
      "Accuracy: 0.6138047138047138\n",
      "F1 Score: 0.6138047138047138\n"
     ]
    },
    {
     "data": {
      "image/png": "[encoded data removed]",
      "text/plain": [
       "<Figure size 432x288 with 2 Axes>"
      ]
     },
     "metadata": {
      "needs_background": "light"
     },
     "output_type": "display_data"
    }
   ],
   "source": [
    "# Instantiating logistic regression model using the best parameters from the grid search\n",
    "LR_model_clf = LogisticRegression(random_state=42, multi_class=\"multinomial\",\n",
    "                                  class_weight=\"balanced\",\n",
    "                                  C=0.1, penalty=\"l2\", solver=\"lbfgs\")\n",
    "\n",
    "# Fitting the model\n",
    "LR_model_clf.fit(X_train_resampled, y_train_resampled)\n",
    "\n",
    "# Function that makes y predicted values\n",
    "def make_preds(model, split):\n",
    "    \"\"\" A function that makes predictions\"\"\"\n",
    "    prediction = model.predict(split)\n",
    "    return prediction\n",
    "\n",
    "\n",
    "# Confusion matrix for trainig data\n",
    "plot_confusion_matrix(LR_model_clf, X_train_resampled, y_train_resampled, cmap=\"Greens\")\n",
    "plt.title(\"Confusion Matrix\")\n",
    "plt.xlabel(\"Predicted Label\")\n",
    "plt.ylabel(\"True Label\")\n",
    "plt.show()\n",
    "# Predictions on testing data\n",
    "y_pred = LR_model_clf.predict(X_test_scaled)\n",
    "\n",
    "# Evaluation metrics\n",
    "precision = precision_score(y_test_2, y_pred, average='micro')\n",
    "recall = recall_score(y_test_2, y_pred, average='micro')\n",
    "accuracy = accuracy_score(y_test_2, y_pred)\n",
    "f1 = f1_score(y_test_2, y_pred, average='micro')\n",
    "\n",
    "print(\"Precision:\", precision)\n",
    "print(\"Recall:\", recall)\n",
    "print(\"Accuracy:\", accuracy)\n",
    "print(\"F1 Score:\", f1)\n",
    "# Confusion matrix for testing data\n",
    "plot_confusion_matrix(LR_model_clf, X_test_scaled, y_test_2, cmap=\"Greens\")\n",
    "plt.title(\"Confusion Matrix\")\n",
    "plt.xlabel(\"Predicted Label\")\n",
    "plt.ylabel(\"True Label\")\n",
    "plt.show()\n",
    "\n"
   ]
  },
  {
   "cell_type": "code",
   "execution_count": 89,
   "metadata": {},
   "outputs": [
    {
     "name": "stdout",
     "output_type": "stream",
     "text": [
      "Training Accuracy: 63.21%\n",
      "Validation accuracy: 61.38%\n"
     ]
    }
   ],
   "source": [
    "# Predict on training and test sets\n",
    "LR_model_clf_training_preds = LR_model_clf.predict(X_train_resampled)\n",
    "LR_model_clf_preds =    LR_model_clf.predict(X_test_scaled)\n",
    "\n",
    "\n",
    "# Accuracy of training and test sets\n",
    "LR_model_clf_training_accuracy = accuracy_score(y_train_resampled, LR_model_clf_training_preds)\n",
    "LR_model_clf_test_accuracy = accuracy_score(y_test_2, LR_model_clf_preds)\n",
    "\n",
    "print('Training Accuracy: {:.4}%'.format(LR_model_clf_training_accuracy * 100))\n",
    "print('Validation accuracy: {:.4}%'.format(LR_model_clf_test_accuracy * 100))"
   ]
  },
  {
   "cell_type": "code",
   "execution_count": 90,
   "metadata": {},
   "outputs": [
    {
     "name": "stdout",
     "output_type": "stream",
     "text": [
      "Train cross validation: 0.6305302862214335\n",
      "Test cross validation: 0.6221661054994387\n"
     ]
    }
   ],
   "source": [
    "# validate logistic regression\n",
    "\n",
    "#train cross validation\n",
    "LR_model_clf_train_cv_score = cross_val_score(LR_model_clf, X_train_resampled,\n",
    "                                        y_train_resampled, cv = 5, n_jobs = -1).mean()\n",
    "print('Train cross validation:', LR_model_clf_train_cv_score)\n",
    "\n",
    "#test cross validation\n",
    "LR_model_clf_test_cv_score = cross_val_score(LR_model_clf, X_test_scaled, y_test_2,\n",
    "                                       cv = 5, n_jobs = -1).mean()\n",
    "print('Test cross validation:', LR_model_clf_test_cv_score)"
   ]
  },
  {
   "cell_type": "markdown",
   "metadata": {},
   "source": [
    "Despite tuning, the logistic regression model's performance falls short of our target. We'll explore alternative algorithms."
   ]
  },
  {
   "cell_type": "markdown",
   "metadata": {},
   "source": [
    "### 3. KNeighborsClassifier"
   ]
  },
  {
   "cell_type": "code",
   "execution_count": 91,
   "metadata": {},
   "outputs": [
    {
     "name": "stdout",
     "output_type": "stream",
     "text": [
      "Train accuracy: 84.2422897714666\n",
      "Test accuracy: 70.61167227833894\n"
     ]
    }
   ],
   "source": [
    "from sklearn.neighbors import KNeighborsClassifier\n",
    "\n",
    "#instantiate baseline model\n",
    "\n",
    "knn_model= KNeighborsClassifier()\n",
    "\n",
    "#fit KNearest Neighbors\n",
    "knn_model = knn_model.fit(X_train_resampled, y_train_resampled)\n",
    "\n",
    "#predict on the test set\n",
    "y_T = knn_model.predict(X_train_resampled)\n",
    "y_t = knn_model.predict(X_test_scaled)\n",
    "\n",
    "#train accuracy \n",
    "knn_train_accuracy = accuracy_score(y_train_resampled, y_T) * 100\n",
    "print('Train accuracy: {0}'.format(knn_train_accuracy))\n",
    "\n",
    "#test accuracy \n",
    "knn_test_accuracy = accuracy_score(y_test_2, y_t) * 100\n",
    "print('Test accuracy: {0}'.format(knn_test_accuracy))"
   ]
  },
  {
   "cell_type": "markdown",
   "metadata": {},
   "source": [
    "While the KNeighborsClassifier achieves our target validation accuracy, there are signs of slight overfitting. To explore the possibility of reducing overfitting and potentially improving performance, we'll experiment with a different model."
   ]
  },
  {
   "cell_type": "code",
   "execution_count": 92,
   "metadata": {},
   "outputs": [
    {
     "name": "stdout",
     "output_type": "stream",
     "text": [
      "Best Hyperparameters: {'n_neighbors': 7, 'weights': 'distance'}\n",
      "Training Accuracy: 0.9175\n",
      "Validation Accuracy: 0.7289\n",
      "Training Precision: 0.9227126823542002\n",
      "Validation Precision: 0.7538134705885559\n",
      "Classification Report:\n",
      "               precision    recall  f1-score   support\n",
      "\n",
      "           0       0.80      0.77      0.78      9724\n",
      "           1       0.29      0.49      0.36      1293\n",
      "           2       0.78      0.72      0.75      6803\n",
      "\n",
      "    accuracy                           0.73     17820\n",
      "   macro avg       0.62      0.66      0.63     17820\n",
      "weighted avg       0.75      0.73      0.74     17820\n",
      "\n"
     ]
    },
    {
     "data": {
      "image/png": "[encoded data removed]",
      "text/plain": [
       "<Figure size 432x288 with 2 Axes>"
      ]
     },
     "metadata": {
      "needs_background": "light"
     },
     "output_type": "display_data"
    }
   ],
   "source": [
    "from sklearn.neighbors import KNeighborsClassifier\n",
    "from sklearn.model_selection import GridSearchCV\n",
    "from sklearn.preprocessing import StandardScaler\n",
    "from sklearn.decomposition import PCA\n",
    "# Set parameter grid\n",
    "param_grid = {\"n_neighbors\": [3, 5, 7],\n",
    "              'weights': ['uniform', 'distance']}\n",
    "\n",
    "# Use a smaller subset of the data for hyperparameter tuning\n",
    "subset_size = 5000  # Adjust this value based on your dataset size\n",
    "X_train_subset = X_train_resampled[:subset_size]\n",
    "y_train_subset = y_train_resampled[:subset_size]\n",
    "\n",
    "# Standardize the subset\n",
    "scaler = StandardScaler()\n",
    "X_train_subset_scaled = scaler.fit_transform(X_train_subset)\n",
    "\n",
    "# Dimensionality reduction (optional)\n",
    "pca = PCA(n_components=10)  # Adjust n_components based on your dataset\n",
    "X_train_subset_pca = pca.fit_transform(X_train_subset_scaled)\n",
    "\n",
    "# Use GridSearchCV with parallelization and reduced hyperparameter space\n",
    "Knn_model_clf = GridSearchCV(estimator=KNeighborsClassifier(),\n",
    "                             param_grid=param_grid,\n",
    "                             scoring='accuracy',\n",
    "                             cv=3,  # Reduced folds\n",
    "                             n_jobs=-1)\n",
    "\n",
    "# Fit the model with the subset\n",
    "Knn_model_clf.fit(X_train_subset_pca, y_train_subset)\n",
    "\n",
    "# Get the best hyperparameters\n",
    "best_params = Knn_model_clf.best_params_\n",
    "print(\"Best Hyperparameters:\", best_params)\n",
    "\n",
    "# Use the best hyperparameters to instantiate the KNeighborsClassifier\n",
    "best_knn_model = KNeighborsClassifier(n_neighbors=best_params['n_neighbors'], \n",
    "                                      weights=best_params['weights'])\n",
    "\n",
    "# Scale the entire training data\n",
    "X_train_scaled = scaler.transform(X_train_resampled)\n",
    "\n",
    "# Apply PCA transformation\n",
    "X_train_pca = pca.transform(X_train_scaled)\n",
    "\n",
    "# Fit the model with the entire dataset\n",
    "best_knn_model.fit(X_train_pca, y_train_resampled)\n",
    "\n",
    "# Scale and transform the test data\n",
    "X_test_scaled = scaler.transform(X_test_scaled)\n",
    "X_test_pca = pca.transform(X_test_scaled)\n",
    "\n",
    "# Predictions on training and test sets\n",
    "train_preds = best_knn_model.predict(X_train_pca)\n",
    "val_preds = best_knn_model.predict(X_test_pca)\n",
    "\n",
    "# Calculate accuracy\n",
    "train_accuracy = accuracy_score(y_train_resampled, train_preds)\n",
    "val_accuracy = accuracy_score(y_test_2, val_preds)\n",
    "\n",
    "print(f'Training Accuracy: {train_accuracy:.4f}')\n",
    "print(f'Validation Accuracy: {val_accuracy:.4f}')\n",
    "\n",
    "# Additional evaluation metrics and confusion matrix\n",
    "print(\"Training Precision:\", precision_score(y_train_resampled, train_preds, average=\"weighted\"))\n",
    "print(\"Validation Precision:\", precision_score(y_test_2, val_preds, average=\"weighted\"))\n",
    "print(\"Classification Report:\\n\", classification_report(y_test_2, val_preds))\n",
    "plot_confusion_matrix(best_knn_model, X_test_pca, y_test_2, cmap=plt.cm.Blues)\n",
    "plt.show()\n",
    "\n"
   ]
  },
  {
   "cell_type": "markdown",
   "metadata": {},
   "source": [
    "Performance Assessment of KNeighborsClassifier."
   ]
  },
  {
   "cell_type": "code",
   "execution_count": 94,
   "metadata": {},
   "outputs": [
    {
     "name": "stdout",
     "output_type": "stream",
     "text": [
      "Training Accuracy: 81.89%\n",
      "Validation Accuracy: 68.7%\n"
     ]
    }
   ],
   "source": [
    "# Define a pipeline with preprocessing steps (scaling and PCA)\n",
    "pipeline = Pipeline([\n",
    "    ('scaler', StandardScaler()),\n",
    "    ('pca', PCA(n_components=10)),  \n",
    "    ('Knn_model_clf', Knn_model_clf)  \n",
    "])\n",
    "\n",
    "# Fit the pipeline on the resampled training data\n",
    "pipeline.fit(X_train_resampled, y_train_resampled)\n",
    "\n",
    "# Predict on the training and test sets\n",
    "knn_model_clf_training_preds = pipeline.predict(X_train_resampled)\n",
    "knn_model_clf_preds = pipeline.predict(X_test_scaled)\n",
    "\n",
    "# Compute accuracy on the training and test sets\n",
    "knn_model_clf_training_accuracy = accuracy_score(y_train_resampled, knn_model_clf_training_preds)\n",
    "knn_model_clf_test_accuracy = accuracy_score(y_test_2, knn_model_clf_preds)\n",
    "\n",
    "print('Training Accuracy: {:.4}%'.format(knn_model_clf_training_accuracy * 100))\n",
    "print('Validation Accuracy: {:.4}%'.format(knn_model_clf_test_accuracy * 100))\n"
   ]
  },
  {
   "cell_type": "code",
   "execution_count": 95,
   "metadata": {},
   "outputs": [],
   "source": [
    "from sklearn.pipeline import Pipeline\n",
    "from sklearn.model_selection import cross_val_score, StratifiedKFold\n",
    "from sklearn.metrics import accuracy_score\n",
    "from sklearn.neighbors import KNeighborsClassifier\n",
    "from sklearn.preprocessing import StandardScaler"
   ]
  },
  {
   "cell_type": "code",
   "execution_count": 99,
   "metadata": {},
   "outputs": [
    {
     "name": "stdout",
     "output_type": "stream",
     "text": [
      "Best Hyperparameters: {'n_neighbors': 7, 'weights': 'distance'}\n",
      "Training Accuracy: 0.9065\n",
      "Validation Accuracy: 0.4899\n",
      "Train Cross Validation: 0.7536276902595961\n",
      "Test Cross Validation: 0.7246352413019079\n",
      "Training Precision: 0.9144128467671303\n",
      "Validation Precision: 0.5514629586173405\n",
      "Classification Report:\n",
      "               precision    recall  f1-score   support\n",
      "\n",
      "           0       0.65      0.52      0.58      9724\n",
      "           1       0.12      0.32      0.17      1293\n",
      "           2       0.49      0.48      0.48      6803\n",
      "\n",
      "    accuracy                           0.49     17820\n",
      "   macro avg       0.42      0.44      0.41     17820\n",
      "weighted avg       0.55      0.49      0.51     17820\n",
      "\n"
     ]
    },
    {
     "data": {
      "image/png": "[encoded data removed]",
      "text/plain": [
       "<Figure size 432x288 with 2 Axes>"
      ]
     },
     "metadata": {
      "needs_background": "light"
     },
     "output_type": "display_data"
    }
   ],
   "source": [
    "# Create a pipeline with scaling and model fitting\n",
    "subset_size = 5000  # Adjust this value based on your dataset size\n",
    "X_train_subset, _, y_train_subset, _ = train_test_split(X_train_resampled, y_train_resampled, train_size=subset_size, stratify=y_train_resampled, random_state=42)\n",
    "\n",
    "# Standardize the data\n",
    "scaler = StandardScaler()\n",
    "X_train_scaled = scaler.fit_transform(X_train_subset)\n",
    "X_test_scaled = scaler.transform(X_test_scaled)\n",
    "\n",
    "# Dimensionality reduction\n",
    "pca = PCA(n_components=10)  # Adjust n_components based on your dataset\n",
    "X_train_pca = pca.fit_transform(X_train_scaled)\n",
    "X_test_pca = pca.transform(X_test_scaled)\n",
    "\n",
    "# Parameter grid\n",
    "param_grid = {\"n_neighbors\": [3, 5, 7], 'weights': ['uniform', 'distance']}\n",
    "\n",
    "# GridSearchCV for hyperparameter tuning\n",
    "Knn_model_clf = GridSearchCV(estimator=KNeighborsClassifier(), param_grid=param_grid, scoring='accuracy', cv=3, n_jobs=-1)\n",
    "Knn_model_clf.fit(X_train_pca, y_train_subset)\n",
    "\n",
    "# Get the best hyperparameters\n",
    "best_params = Knn_model_clf.best_params_\n",
    "print(\"Best Hyperparameters:\", best_params)\n",
    "\n",
    "# Use the best hyperparameters to instantiate the KNeighborsClassifier\n",
    "best_knn_model = KNeighborsClassifier(n_neighbors=best_params['n_neighbors'], weights=best_params['weights'])\n",
    "\n",
    "# Fit the best model on the entire dataset\n",
    "X_train_full_scaled = scaler.fit_transform(X_train_resampled)\n",
    "X_train_full_pca = pca.fit_transform(X_train_full_scaled)\n",
    "best_knn_model.fit(X_train_full_pca, y_train_resampled)\n",
    "\n",
    "# Predictions on training and test sets\n",
    "train_preds = best_knn_model.predict(X_train_full_pca)\n",
    "test_preds = best_knn_model.predict(X_test_pca)\n",
    "\n",
    "# Compute accuracy\n",
    "train_accuracy = accuracy_score(y_train_resampled, train_preds)\n",
    "test_accuracy = accuracy_score(y_test_2, test_preds)\n",
    "\n",
    "print(f'Training Accuracy: {train_accuracy:.4f}')\n",
    "print(f'Validation Accuracy: {test_accuracy:.4f}')\n",
    "\n",
    "# Cross-validation on full training data\n",
    "cv = StratifiedKFold(n_splits=3, shuffle=True, random_state=42)\n",
    "train_cv_scores = cross_val_score(best_knn_model, X_train_full_pca, y_train_resampled, cv=cv, n_jobs=-1)\n",
    "test_cv_scores = cross_val_score(best_knn_model, X_test_pca, y_test_2, cv=cv, n_jobs=-1)\n",
    "\n",
    "# Print mean cross-validation scores\n",
    "print('Train Cross Validation:', train_cv_scores.mean())\n",
    "print('Test Cross Validation:', test_cv_scores.mean())\n",
    "\n",
    "# Additional evaluation metrics and confusion matrix\n",
    "print(\"Training Precision:\", precision_score(y_train_resampled, train_preds, average=\"weighted\"))\n",
    "print(\"Validation Precision:\", precision_score(y_test_2, test_preds, average=\"weighted\"))\n",
    "print(\"Classification Report:\\n\", classification_report(y_test_2, test_preds))\n",
    "plot_confusion_matrix(best_knn_model, X_test_pca, y_test_2, cmap=plt.cm.Blues)\n",
    "plt.show()\n"
   ]
  },
  {
   "cell_type": "markdown",
   "metadata": {},
   "source": [
    "Despite achieving our target validation accuracy, the hyperparameter-tuned KNeighborsClassifier still shows signs of overfitting. To explore the possibility of reducing overfitting and potentially improving generalizability, we'll investigate alternative models."
   ]
  },
  {
   "cell_type": "markdown",
   "metadata": {},
   "source": [
    "### 4. Gradient Boosting Classifier(XGBoost)\n"
   ]
  },
  {
   "cell_type": "code",
   "execution_count": 97,
   "metadata": {},
   "outputs": [
    {
     "name": "stdout",
     "output_type": "stream",
     "text": [
      "Train accuracy: 72.03461282449523\n",
      "Test accuracy: 35.2300785634119\n"
     ]
    }
   ],
   "source": [
    "#instantiate baseline model\n",
    "XGBoost_clf = GradientBoostingClassifier(random_state = 42)\n",
    "\n",
    "# fitting GradientBoostingClassifier model\n",
    "XGBoost_clf.fit(X_train_resampled, y_train_resampled)\n",
    "\n",
    "# predicting the y values\n",
    "y_T = XGBoost_clf.predict(X_train_resampled)\n",
    "y_t = XGBoost_clf.predict(X_test_scaled)\n",
    "\n",
    "# train accuracy\n",
    "XGBoost_clf_train_accuracy_baseline = accuracy_score(y_train_resampled, y_T) * 100\n",
    "print('Train accuracy: {0}'.format(XGBoost_clf_train_accuracy_baseline))\n",
    "\n",
    "# test accuracy\n",
    "XGBoost_clf_test_accuracy_baseline = accuracy_score(y_test_2, y_t) * 100\n",
    "print('Test accuracy: {0}'.format(XGBoost_clf_test_accuracy_baseline))"
   ]
  },
  {
   "cell_type": "markdown",
   "metadata": {},
   "source": [
    "While the GradientBoostingClassifier exhibits slight overfitting, its current accuracy falls short of our target range. We'll attempt to improve performance by tuning the model's hyperparameters. This optimization process might help us achieve the desired accuracy level without significant overfitting."
   ]
  },
  {
   "cell_type": "code",
   "execution_count": 100,
   "metadata": {},
   "outputs": [
    {
     "name": "stdout",
     "output_type": "stream",
     "text": [
      "Best Parameters: {'learning_rate': 0.2, 'subsample': 0.7}\n",
      "Training Accuracy: 0.9375\n",
      "Validation Accuracy: 0.3549\n",
      "Training Precision: 0.9381071211802023\n",
      "Validation Precision: 0.7373085301256238\n",
      "Classification Report:\n",
      "               precision    recall  f1-score   support\n",
      "\n",
      "           0       1.00      0.00      0.00      9724\n",
      "           1       0.13      0.62      0.21      1293\n",
      "           2       0.48      0.81      0.60      6803\n",
      "\n",
      "    accuracy                           0.35     17820\n",
      "   macro avg       0.54      0.48      0.27     17820\n",
      "weighted avg       0.74      0.35      0.25     17820\n",
      "\n"
     ]
    },
    {
     "data": {
      "image/png": "[encoded data removed]",
      "text/plain": [
       "<Figure size 432x288 with 2 Axes>"
      ]
     },
     "metadata": {
      "needs_background": "light"
     },
     "output_type": "display_data"
    }
   ],
   "source": [
    "from xgboost import XGBClassifier\n",
    "# Set parameter grid\n",
    "XGBoost_clf_param_grid = {\n",
    "    'learning_rate': [0.1, 0.2],\n",
    "    'subsample': [0.7, 1.0]\n",
    "}\n",
    "\n",
    "# Use a smaller subset for hyperparameter tuning\n",
    "subset_size = 5000  # Adjust this value based on your dataset size\n",
    "X_train_subset, _, y_train_subset, _ = train_test_split(X_train_resampled, y_train_resampled, train_size=subset_size, stratify=y_train_resampled, random_state=42)\n",
    "\n",
    "# Standardize the data\n",
    "scaler = StandardScaler()\n",
    "X_train_subset_scaled = scaler.fit_transform(X_train_subset)\n",
    "X_test_scaled = scaler.transform(X_test_scaled)\n",
    "\n",
    "# GridSearchCV for hyperparameter tuning\n",
    "XGBoost_clf_gridsearch = GridSearchCV(\n",
    "    estimator=XGBClassifier(use_label_encoder=False, eval_metric='mlogloss'),\n",
    "    param_grid=XGBoost_clf_param_grid,\n",
    "    scoring='accuracy',\n",
    "    n_jobs=-1,\n",
    "    cv=3  # Reduced folds\n",
    ")\n",
    "\n",
    "# Fit the model with the subset\n",
    "XGBoost_clf_gridsearch.fit(X_train_subset_scaled, y_train_subset)\n",
    "\n",
    "# Get the best hyperparameters\n",
    "best_params = XGBoost_clf_gridsearch.best_params_\n",
    "print(\"Best Parameters:\", best_params)\n",
    "\n",
    "# Use the best hyperparameters to instantiate the XGBoost classifier\n",
    "XGBoost_clf_T = XGBClassifier(\n",
    "    use_label_encoder=False,\n",
    "    eval_metric='mlogloss',\n",
    "    random_state=42,\n",
    "    max_depth=30,\n",
    "    max_features='auto',\n",
    "    min_samples_leaf=2,\n",
    "    min_samples_split=5,\n",
    "    n_estimators=100,\n",
    "    learning_rate=best_params['learning_rate'],\n",
    "    subsample=best_params['subsample']\n",
    ")\n",
    "\n",
    "# Scale the entire training data\n",
    "X_train_full_scaled = scaler.fit_transform(X_train_resampled)\n",
    "\n",
    "# Fit the model with the entire dataset\n",
    "XGBoost_clf_T.fit(X_train_full_scaled, y_train_resampled)\n",
    "\n",
    "# Predictions on training and test sets\n",
    "train_preds = XGBoost_clf_T.predict(X_train_full_scaled)\n",
    "test_preds = XGBoost_clf_T.predict(X_test_scaled)\n",
    "\n",
    "# Compute accuracy\n",
    "train_accuracy = accuracy_score(y_train_resampled, train_preds)\n",
    "test_accuracy = accuracy_score(y_test_2, test_preds)\n",
    "\n",
    "print(f'Training Accuracy: {train_accuracy:.4f}')\n",
    "print(f'Validation Accuracy: {test_accuracy:.4f}')\n",
    "\n",
    "# Additional evaluation metrics and confusion matrix\n",
    "print(\"Training Precision:\", precision_score(y_train_resampled, train_preds, average=\"weighted\"))\n",
    "print(\"Validation Precision:\", precision_score(y_test_2, test_preds, average=\"weighted\"))\n",
    "print(\"Classification Report:\\n\", classification_report(y_test_2, test_preds))\n",
    "plot_confusion_matrix(XGBoost_clf_T, X_test_scaled, y_test_2, cmap=plt.cm.Blues)\n",
    "plt.show()\n"
   ]
  },
  {
   "cell_type": "code",
   "execution_count": 101,
   "metadata": {},
   "outputs": [
    {
     "data": {
      "image/png": "[encoded data removed]",
      "text/plain": [
       "<Figure size 432x288 with 2 Axes>"
      ]
     },
     "metadata": {
      "needs_background": "light"
     },
     "output_type": "display_data"
    },
    {
     "name": "stdout",
     "output_type": "stream",
     "text": [
      "Precision: 0.3549382716049383\n",
      "Recall: 0.3549382716049383\n",
      "Accuracy: 0.3549382716049383\n",
      "F1 Score: 0.3549382716049383\n"
     ]
    },
    {
     "data": {
      "image/png": "[encoded data removed]",
      "text/plain": [
       "<Figure size 432x288 with 2 Axes>"
      ]
     },
     "metadata": {
      "needs_background": "light"
     },
     "output_type": "display_data"
    }
   ],
   "source": [
    "# Confusion matrix for training data\n",
    "plot_confusion_matrix(XGBoost_clf_T, X_train_resampled, y_train_resampled, cmap=\"Greens\")\n",
    "plt.title(\"Confusion Matrix\")\n",
    "plt.xlabel(\"Predicted Label\")\n",
    "plt.ylabel(\"True Label\")\n",
    "plt.show()\n",
    "# Predictions on testing data\n",
    "y_pred = XGBoost_clf_T.predict(X_test_scaled)\n",
    "\n",
    "# Evaluation metrics\n",
    "precision = precision_score(y_test_2, y_pred, average='micro')\n",
    "recall = recall_score(y_test_2, y_pred, average='micro')\n",
    "accuracy = accuracy_score(y_test_2, y_pred)\n",
    "f1 = f1_score(y_test_2, y_pred, average='micro')\n",
    "\n",
    "print(\"Precision:\", precision)\n",
    "print(\"Recall:\", recall)\n",
    "print(\"Accuracy:\", accuracy)\n",
    "print(\"F1 Score:\", f1)\n",
    "# Confusion matrix for testing data\n",
    "plot_confusion_matrix(XGBoost_clf_T, X_test_scaled, y_test_2, cmap=\"Greens\")\n",
    "plt.title(\"Confusion Matrix\")\n",
    "plt.xlabel(\"Predicted Label\")\n",
    "plt.ylabel(\"True Label\")\n",
    "plt.show()"
   ]
  },
  {
   "cell_type": "code",
   "execution_count": 128,
   "metadata": {},
   "outputs": [
    {
     "name": "stdout",
     "output_type": "stream",
     "text": [
      "The best model is: RandomForest\n"
     ]
    },
    {
     "data": {
      "image/png": "[encoded data removed]",
      "text/plain": [
       "<Figure size 720x432 with 1 Axes>"
      ]
     },
     "metadata": {},
     "output_type": "display_data"
    }
   ],
   "source": [
    "### metrics comparison\n",
    "def compare_metrics(models_metrics):\n",
    "    best_accuracy = 0\n",
    "    best_model = None\n",
    "    metrics_data = []\n",
    "\n",
    "    for model, metrics in models_metrics.items():\n",
    "        accuracy = metrics['Accuracy']\n",
    "        metrics_data.append({'Model': model, **metrics})  # Collect metrics data\n",
    "        if accuracy > best_accuracy:\n",
    "            best_accuracy = accuracy\n",
    "            best_model = model\n",
    "\n",
    "    return best_model, pd.DataFrame(metrics_data)\n",
    "\n",
    "# Metrics results for each model\n",
    "models_metrics = {\n",
    "    'RandomForest': {'Precision': 0.7300785634118967, 'Recall': 0.7300785634118967, 'Accuracy': 0.7300785634118967, 'F1 Score': 0.7300785634118966},\n",
    "    'LogisticRegression': {'Precision': 0.6138047138047138, 'Recall': 0.6138047138047138, 'Accuracy': 0.6138047138047138, 'F1 Score': 0.6138047138047138},\n",
    "}\n",
    "\n",
    "# Compare metrics and print the best model\n",
    "best_model, metrics_df = compare_metrics(models_metrics)\n",
    "print(f\"The best model is: {best_model}\")\n",
    "\n",
    "# Plot metrics using seaborn\n",
    "sns.set(style=\"whitegrid\")\n",
    "plt.figure(figsize=(10, 6))\n",
    "metrics_df_melted = pd.melt(metrics_df, id_vars=['Model'], var_name='Metric', value_name='Value')\n",
    "sns.barplot(x='Metric', y='Value', hue='Model', data=metrics_df_melted)\n",
    "plt.title('Comparison of Metrics')\n",
    "plt.ylabel('Value')\n",
    "plt.xlabel('Metric')\n",
    "plt.legend(loc='upper right')\n",
    "plt.show()\n"
   ]
  },
  {
   "cell_type": "markdown",
   "metadata": {},
   "source": [
    "We will apply OOP to create a Class that prints the performance metrics, specifically training and validation accuracy, for several machine learning models we've trained and the confusion matrices for each model. These models include Random Forest (baseline and tuned), Logistic Regression (baseline and tuned versions), KNeighborsClassifier (baseline and tuned), and GradientBoostingClassifier (baseline and tuned). The training accuracy reflects how well the model learns from the training data, while the validation accuracy assesses its ability to generalize to unseen data. By comparing these values for each model, we can identify the model that achieves a good balance between learning the training data and performing well on new data, ultimately helping us choose the most suitable model for our task."
   ]
  },
  {
   "cell_type": "code",
   "execution_count": 117,
   "metadata": {},
   "outputs": [
    {
     "name": "stdout",
     "output_type": "stream",
     "text": [
      "KNeighborsClassifier model report\n",
      "\n",
      "KNeighborsClassifier model\n",
      "\n",
      "Training Accuracy: 0.8098244348244348\n",
      "Validation accuracy: 0.7566137566137566\n",
      "\n",
      "\n",
      "LogisticRegression model report\n",
      "\n",
      "LogisticRegression model\n",
      "\n",
      "Training Accuracy: 0.7305796055796056\n",
      "Validation accuracy: 0.7283549783549783\n",
      "\n",
      "\n",
      "RandomForestClassifier model report\n",
      "\n",
      "RandomForestClassifier model\n",
      "\n",
      "Training Accuracy: 0.9395743145743146\n",
      "Validation accuracy: 0.7823472823472823\n",
      "\n",
      "\n",
      "GradientBoostingClassifier model report\n",
      "\n",
      "GradientBoostingClassifier model\n",
      "\n",
      "Training Accuracy: 0.7512626262626263\n",
      "Validation accuracy: 0.7509620009620009\n",
      "\n",
      "\n",
      "Confusion matrix for KNeighborsClassifier model:\n"
     ]
    },
    {
     "data": {
      "image/png": "[encoded data removed]",
      "text/plain": [
       "<Figure size 432x288 with 2 Axes>"
      ]
     },
     "metadata": {
      "needs_background": "light"
     },
     "output_type": "display_data"
    },
    {
     "name": "stdout",
     "output_type": "stream",
     "text": [
      "Confusion matrix for LogisticRegression model:\n"
     ]
    },
    {
     "data": {
      "image/png": "[encoded data removed]",
      "text/plain": [
       "<Figure size 432x288 with 2 Axes>"
      ]
     },
     "metadata": {
      "needs_background": "light"
     },
     "output_type": "display_data"
    },
    {
     "name": "stdout",
     "output_type": "stream",
     "text": [
      "Confusion matrix for RandomForestClassifier model:\n"
     ]
    },
    {
     "data": {
      "image/png": "[encoded data removed]",
      "text/plain": [
       "<Figure size 432x288 with 2 Axes>"
      ]
     },
     "metadata": {
      "needs_background": "light"
     },
     "output_type": "display_data"
    },
    {
     "name": "stdout",
     "output_type": "stream",
     "text": [
      "Confusion matrix for GradientBoostingClassifier model:\n"
     ]
    },
    {
     "data": {
      "image/png": "[encoded data removed]",
      "text/plain": [
       "<Figure size 432x288 with 2 Axes>"
      ]
     },
     "metadata": {
      "needs_background": "light"
     },
     "output_type": "display_data"
    }
   ],
   "source": [
    "from sklearn.preprocessing import OneHotEncoder, StandardScaler\n",
    "from sklearn.impute import SimpleImputer\n",
    "from sklearn.compose import ColumnTransformer\n",
    "class ModelComparison:\n",
    "    def __init__(self, models, X, y):\n",
    "        self.models = models\n",
    "        self.X = X\n",
    "        self.y = y\n",
    "        self.X_train, self.X_test, self.y_train, self.y_test = train_test_split(X, y, test_size=0.2, random_state=42)\n",
    "    \n",
    "    def preprocess_data(self):\n",
    "        # Identify categorical features\n",
    "        categorical_features = self.X.select_dtypes(include=['object']).columns.tolist()\n",
    "        \n",
    "        # Create preprocessing pipeline for categorical features\n",
    "        categorical_transformer = Pipeline(steps=[\n",
    "            ('imputer', SimpleImputer(strategy='most_frequent')),\n",
    "            ('onehot', OneHotEncoder(handle_unknown='ignore'))\n",
    "        ])\n",
    "        \n",
    "        # Create preprocessing pipeline for numerical features\n",
    "        numerical_transformer = Pipeline(steps=[\n",
    "            ('imputer', SimpleImputer(strategy='median')),\n",
    "            ('scaler', StandardScaler())\n",
    "        ])\n",
    "        \n",
    "        # Combine preprocessing pipelines for categorical and numerical features\n",
    "        preprocessor = ColumnTransformer(\n",
    "            transformers=[\n",
    "                ('num', numerical_transformer, ~self.X.columns.isin(categorical_features)),\n",
    "                ('cat', categorical_transformer, categorical_features)\n",
    "            ])\n",
    "        # Preprocess the data\n",
    "        self.X_train_preprocessed = preprocessor.fit_transform(self.X_train)\n",
    "        self.X_test_preprocessed = preprocessor.transform(self.X_test)\n",
    "    \n",
    "    def train_models(self):\n",
    "        self.trained_models = {}\n",
    "        for model, name in self.models:\n",
    "            model.fit(self.X_train_preprocessed, self.y_train)\n",
    "            self.trained_models[name] = model\n",
    "    \n",
    "    def evaluate_models(self):\n",
    "        for name, model in self.trained_models.items():\n",
    "            print(f\"{name} model report\\n\")\n",
    "            print(f\"{name} model\\n\")\n",
    "            print(f\"Training Accuracy: {model.score(self.X_train_preprocessed, self.y_train)}\")\n",
    "            print(f\"Validation accuracy: {model.score(self.X_test_preprocessed, self.y_test)}\")\n",
    "            print(\"\\n\")\n",
    "    \n",
    "    def plot_confusion_matrices(self):\n",
    "        for name, model in self.trained_models.items():\n",
    "            print(f\"Confusion matrix for {name} model:\")\n",
    "            plot_confusion_matrix(model, self.X_test_preprocessed, self.y_test, cmap=plt.cm.Blues, display_labels=self.y_test.unique())\n",
    "            plt.show()\n",
    "\n",
    "# Define models\n",
    "models = [\n",
    "    (KNeighborsClassifier(), \"KNeighborsClassifier\"),\n",
    "    (LogisticRegression(max_iter=1000), \"LogisticRegression\"),\n",
    "    (RandomForestClassifier(), \"RandomForestClassifier\"),\n",
    "    (GradientBoostingClassifier(), \"GradientBoostingClassifier\")\n",
    "]\n",
    "# Replace these with your actual data\n",
    "X_train_resampled = X_train\n",
    "y_train_resampled = y_train\n",
    "X_test_scaled = X_test\n",
    "y_test_2 = y_test\n",
    "\n",
    "# Create ModelComparison instance and preprocess data\n",
    "model_comparison = ModelComparison(models, X_train_resampled, y_train_resampled)\n",
    "model_comparison.preprocess_data()\n",
    "\n",
    "# Train models and evaluate performance\n",
    "model_comparison.train_models()\n",
    "model_comparison.evaluate_models()\n",
    "\n",
    "# Plot confusion matrices\n",
    "model_comparison.plot_confusion_matrices()\n"
   ]
  },
  {
   "cell_type": "markdown",
   "metadata": {},
   "source": [
    "**Performance Analysis and Insights from the Best Model**"
   ]
  },
  {
   "cell_type": "markdown",
   "metadata": {},
   "source": [
    "Based on the observation provided, the best model appears to be the RandomForestClassifier based on the validation accuracy. Here's a summary of the validation accuracies for each model:\n",
    "\n",
    "* KNeighborsClassifier: Validation accuracy = 0.7566\n",
    "* LogisticRegression: Validation accuracy = 0.7284\n",
    "* RandomForestClassifier: Validation accuracy = 0.7823 (highest)\n",
    "* GradientBoostingClassifier: Validation accuracy = 0.7510\n",
    "\n",
    "The RandomForestClassifier achieved the highest validation accuracy among the models compared.\n",
    "\n",
    "* The RandomForestClassifier model generalizes well to new examples, making accurate predictions for functional wells 78% of the time. By prioritizing a model with minimal overfitting that meets our accuracy threshold, we aim to achieve reliable performance when encountering new data."
   ]
  },
  {
   "cell_type": "markdown",
   "metadata": {},
   "source": [
    "### <li> Conclusion\n",
    "\n",
    "* Best Model: RandomForestClassifier was the most effective model for analysis.\n",
    "* Water Quality: Soft water pumps tend to be more functional.\n",
    "* Water Availability: Waterpoints with sufficient water are most functional.\n",
    "\n",
    "* Regional Disparity:\n",
    "\n",
    "1. Iringa, Kilimanjaro, and Shinyanga have the most functional pumps.\n",
    "2. Kilimanjaro and Mbeya have the most non-functional pumps.\n",
    "3. Kigoma has the most waterpoints needing repair.\n",
    "\n",
    "* Water Source:\n",
    "\n",
    "1. Springs and shallow wells have the most functional pumps.\n",
    "2. Springs have the most frequently repaired functional pumps.\n",
    "3. Shallow wells and boreholes have the most non-functional pumps.\n",
    "\n",
    "* Water Scarcity: Waterpoints with insufficient water have very few functional pumps."
   ]
  },
  {
   "cell_type": "markdown",
   "metadata": {},
   "source": [
    "### <li> Recommendations\n",
    "* **Prioritize Springs**: The government should focus on using springs as the water source for new waterpoints whenever possible. This reduces pump wear and tear compared to shallow wells and boreholes.\n",
    "\n",
    "* **Monitor High-Demand Waterpoints**: Closely monitor waterpoints with sufficient water, as high usage could lead to pump failures in the long run."
   ]
  },
  {
   "cell_type": "markdown",
   "metadata": {},
   "source": [
    "### <li> Next Steps\n",
    "\n",
    "\n",
    "To maximize the model's effectiveness in predicting waterpoint pump functionality, we recommend ongoing monitoring and evaluation. This includes incorporating additional data on maintenance, environmental factors, and regularly assessing performance on new datasets. By refining the model's hyperparameters through these practices, we can ensure its accuracy remains high, allowing for optimal resource allocation for waterpoint maintenance and repair."
   ]
  }
 ],
 "metadata": {
  "kernelspec": {
   "display_name": "Python 3 (ipykernel)",
   "language": "python",
   "name": "python3"
  },
  "language_info": {
   "codemirror_mode": {
    "name": "ipython",
    "version": 3
   },
   "file_extension": ".py",
   "mimetype": "text/x-python",
   "name": "python",
   "nbconvert_exporter": "python",
   "pygments_lexer": "ipython3",
   "version": "3.12.3"
  }
 },
 "nbformat": 4,
 "nbformat_minor": 4
}
